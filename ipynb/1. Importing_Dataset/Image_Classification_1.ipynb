{
  "nbformat": 4,
  "nbformat_minor": 0,
  "metadata": {
    "colab": {
      "provenance": []
    },
    "kernelspec": {
      "name": "python3",
      "display_name": "Python 3"
    },
    "language_info": {
      "name": "python"
    }
  },
  "cells": [
    {
      "cell_type": "markdown",
      "source": [
        "## 1. Import libraries and dataset"
      ],
      "metadata": {
        "id": "p6rYGXS8UktJ"
      }
    },
    {
      "cell_type": "markdown",
      "source": [
        "- Import relevant libraries."
      ],
      "metadata": {
        "id": "Ap2y-6TmVSBt"
      }
    },
    {
      "cell_type": "code",
      "execution_count": 1,
      "metadata": {
        "id": "35ln9fVlQtUs"
      },
      "outputs": [],
      "source": [
        "import pandas as pd\n",
        "import numpy as np\n",
        "import matplotlib.pyplot as plt"
      ]
    },
    {
      "cell_type": "markdown",
      "source": [
        "- Opening a zip file."
      ],
      "metadata": {
        "id": "7zD2dWGdUZpv"
      }
    },
    {
      "cell_type": "code",
      "source": [
        "# !unzip \"/content/amzIndWomen.zip\" -d \"/content/amazon/\""
      ],
      "metadata": {
        "colab": {
          "base_uri": "https://localhost:8080/"
        },
        "id": "IfEAykXBTupw",
        "outputId": "b5c9e96b-6068-47eb-dc4b-d353d860b05d"
      },
      "execution_count": 17,
      "outputs": [
        {
          "output_type": "stream",
          "name": "stdout",
          "text": [
            "Archive:  /content/amzIndWomen.zip\n",
            "  inflating: /content/amazon/amzIndWomenClothDiv_Main.csv  \n",
            "  inflating: /content/amazon/amzIndWomenClothH2_Main.csv  \n",
            "  inflating: /content/amazon/amzIndWomenClothLi_Main.csv  \n"
          ]
        }
      ]
    },
    {
      "cell_type": "markdown",
      "source": [
        "- Importing the dataset."
      ],
      "metadata": {
        "id": "2nasN-kTUddL"
      }
    },
    {
      "cell_type": "code",
      "source": [
        "amznH2 = pd.read_csv(\"/content/amzIndWomenClothH2_Main.csv\")\n",
        "amznLi = pd.read_csv(\"/content/amzIndWomenClothLi_Main.csv\")\n",
        "amznDiv = pd.read_csv(\"/content/amzIndWomenClothDiv_Main.csv\")"
      ],
      "metadata": {
        "id": "uvG5E8gURH3_"
      },
      "execution_count": 2,
      "outputs": []
    },
    {
      "cell_type": "markdown",
      "source": [
        "- Amazon Header 2 (h2) dataset."
      ],
      "metadata": {
        "id": "YD3Ec-fXSsWQ"
      }
    },
    {
      "cell_type": "code",
      "source": [
        "amznH2.head()"
      ],
      "metadata": {
        "colab": {
          "base_uri": "https://localhost:8080/",
          "height": 521
        },
        "id": "Q5biSf1WSTnT",
        "outputId": "efc3f22a-ec2f-4047-f253-d6430650c097"
      },
      "execution_count": 3,
      "outputs": [
        {
          "output_type": "execute_result",
          "data": {
            "text/plain": [
              "                                          Image_Link  \\\n",
              "0  https://m.media-amazon.com/images/I/31J1BW062i...   \n",
              "1  https://m.media-amazon.com/images/I/41N6PXp68r...   \n",
              "2  https://m.media-amazon.com/images/I/31sbJEN0qh...   \n",
              "3  https://m.media-amazon.com/images/I/41jUvC6qBt...   \n",
              "4  https://m.media-amazon.com/images/I/31R30Fl8kz...   \n",
              "\n",
              "                          Image_Size  \\\n",
              "0  max-width:494px;max-height:879px;   \n",
              "1  max-width:408px;max-height:612px;   \n",
              "2  max-width:427px;max-height:500px;   \n",
              "3  max-width:679px;max-height:679px;   \n",
              "4  max-width:659px;max-height:879px;   \n",
              "\n",
              "                                        Product_Name  \\\n",
              "0  CHUKCHUK Pink Floral Maternity Kaftan Kurti fo...   \n",
              "1  Miss Meoww Women's Anarkali Maternity Kurta |E...   \n",
              "2  Mabron Wet Off full length Hood rain coat comf...   \n",
              "3  MomToBe Women's Cotton Maternity Kurta/Pregnan...   \n",
              "4  DUMMY SHAPE Women's Rayon Anarkali Maternity D...   \n",
              "\n",
              "                  Main_Category Sub_Category_Name SubCategory_Product_Name  \\\n",
              "0  Women-Clothing & Accessories         Maternity              Ethnic Wear   \n",
              "1  Women-Clothing & Accessories         Maternity              Ethnic Wear   \n",
              "2  Women-Clothing & Accessories      Western Wear                 Rainwear   \n",
              "3  Women-Clothing & Accessories         Maternity              Ethnic Wear   \n",
              "4  Women-Clothing & Accessories         Maternity              Ethnic Wear   \n",
              "\n",
              "  Product_Rating Product_Num_Reviews  \\\n",
              "0  Not Available       Not Available   \n",
              "1  Not Available       Not Available   \n",
              "2  Not Available       Not Available   \n",
              "3  Not Available       Not Available   \n",
              "4  Not Available       Not Available   \n",
              "\n",
              "                                        Product_Link  \n",
              "0  https://www.amazon.in/CHUKCHUK-Floral-Maternit...  \n",
              "1  https://www.amazon.in/Anarkali-Maternity-Breas...  \n",
              "2  https://www.amazon.in/sspa/click?ie=UTF8&spc=M...  \n",
              "3  https://www.amazon.in/MomToBe-Maternity-Pregna...  \n",
              "4  https://www.amazon.in/DUMMY-SHAPE-Maternity-DS...  "
            ],
            "text/html": [
              "\n",
              "  <div id=\"df-7d85a73c-6e90-4a25-babd-df6c03e42095\" class=\"colab-df-container\">\n",
              "    <div>\n",
              "<style scoped>\n",
              "    .dataframe tbody tr th:only-of-type {\n",
              "        vertical-align: middle;\n",
              "    }\n",
              "\n",
              "    .dataframe tbody tr th {\n",
              "        vertical-align: top;\n",
              "    }\n",
              "\n",
              "    .dataframe thead th {\n",
              "        text-align: right;\n",
              "    }\n",
              "</style>\n",
              "<table border=\"1\" class=\"dataframe\">\n",
              "  <thead>\n",
              "    <tr style=\"text-align: right;\">\n",
              "      <th></th>\n",
              "      <th>Image_Link</th>\n",
              "      <th>Image_Size</th>\n",
              "      <th>Product_Name</th>\n",
              "      <th>Main_Category</th>\n",
              "      <th>Sub_Category_Name</th>\n",
              "      <th>SubCategory_Product_Name</th>\n",
              "      <th>Product_Rating</th>\n",
              "      <th>Product_Num_Reviews</th>\n",
              "      <th>Product_Link</th>\n",
              "    </tr>\n",
              "  </thead>\n",
              "  <tbody>\n",
              "    <tr>\n",
              "      <th>0</th>\n",
              "      <td>https://m.media-amazon.com/images/I/31J1BW062i...</td>\n",
              "      <td>max-width:494px;max-height:879px;</td>\n",
              "      <td>CHUKCHUK Pink Floral Maternity Kaftan Kurti fo...</td>\n",
              "      <td>Women-Clothing &amp; Accessories</td>\n",
              "      <td>Maternity</td>\n",
              "      <td>Ethnic Wear</td>\n",
              "      <td>Not Available</td>\n",
              "      <td>Not Available</td>\n",
              "      <td>https://www.amazon.in/CHUKCHUK-Floral-Maternit...</td>\n",
              "    </tr>\n",
              "    <tr>\n",
              "      <th>1</th>\n",
              "      <td>https://m.media-amazon.com/images/I/41N6PXp68r...</td>\n",
              "      <td>max-width:408px;max-height:612px;</td>\n",
              "      <td>Miss Meoww Women's Anarkali Maternity Kurta |E...</td>\n",
              "      <td>Women-Clothing &amp; Accessories</td>\n",
              "      <td>Maternity</td>\n",
              "      <td>Ethnic Wear</td>\n",
              "      <td>Not Available</td>\n",
              "      <td>Not Available</td>\n",
              "      <td>https://www.amazon.in/Anarkali-Maternity-Breas...</td>\n",
              "    </tr>\n",
              "    <tr>\n",
              "      <th>2</th>\n",
              "      <td>https://m.media-amazon.com/images/I/31sbJEN0qh...</td>\n",
              "      <td>max-width:427px;max-height:500px;</td>\n",
              "      <td>Mabron Wet Off full length Hood rain coat comf...</td>\n",
              "      <td>Women-Clothing &amp; Accessories</td>\n",
              "      <td>Western Wear</td>\n",
              "      <td>Rainwear</td>\n",
              "      <td>Not Available</td>\n",
              "      <td>Not Available</td>\n",
              "      <td>https://www.amazon.in/sspa/click?ie=UTF8&amp;spc=M...</td>\n",
              "    </tr>\n",
              "    <tr>\n",
              "      <th>3</th>\n",
              "      <td>https://m.media-amazon.com/images/I/41jUvC6qBt...</td>\n",
              "      <td>max-width:679px;max-height:679px;</td>\n",
              "      <td>MomToBe Women's Cotton Maternity Kurta/Pregnan...</td>\n",
              "      <td>Women-Clothing &amp; Accessories</td>\n",
              "      <td>Maternity</td>\n",
              "      <td>Ethnic Wear</td>\n",
              "      <td>Not Available</td>\n",
              "      <td>Not Available</td>\n",
              "      <td>https://www.amazon.in/MomToBe-Maternity-Pregna...</td>\n",
              "    </tr>\n",
              "    <tr>\n",
              "      <th>4</th>\n",
              "      <td>https://m.media-amazon.com/images/I/31R30Fl8kz...</td>\n",
              "      <td>max-width:659px;max-height:879px;</td>\n",
              "      <td>DUMMY SHAPE Women's Rayon Anarkali Maternity D...</td>\n",
              "      <td>Women-Clothing &amp; Accessories</td>\n",
              "      <td>Maternity</td>\n",
              "      <td>Ethnic Wear</td>\n",
              "      <td>Not Available</td>\n",
              "      <td>Not Available</td>\n",
              "      <td>https://www.amazon.in/DUMMY-SHAPE-Maternity-DS...</td>\n",
              "    </tr>\n",
              "  </tbody>\n",
              "</table>\n",
              "</div>\n",
              "    <div class=\"colab-df-buttons\">\n",
              "\n",
              "  <div class=\"colab-df-container\">\n",
              "    <button class=\"colab-df-convert\" onclick=\"convertToInteractive('df-7d85a73c-6e90-4a25-babd-df6c03e42095')\"\n",
              "            title=\"Convert this dataframe to an interactive table.\"\n",
              "            style=\"display:none;\">\n",
              "\n",
              "  <svg xmlns=\"http://www.w3.org/2000/svg\" height=\"24px\" viewBox=\"0 -960 960 960\">\n",
              "    <path d=\"M120-120v-720h720v720H120Zm60-500h600v-160H180v160Zm220 220h160v-160H400v160Zm0 220h160v-160H400v160ZM180-400h160v-160H180v160Zm440 0h160v-160H620v160ZM180-180h160v-160H180v160Zm440 0h160v-160H620v160Z\"/>\n",
              "  </svg>\n",
              "    </button>\n",
              "\n",
              "  <style>\n",
              "    .colab-df-container {\n",
              "      display:flex;\n",
              "      gap: 12px;\n",
              "    }\n",
              "\n",
              "    .colab-df-convert {\n",
              "      background-color: #E8F0FE;\n",
              "      border: none;\n",
              "      border-radius: 50%;\n",
              "      cursor: pointer;\n",
              "      display: none;\n",
              "      fill: #1967D2;\n",
              "      height: 32px;\n",
              "      padding: 0 0 0 0;\n",
              "      width: 32px;\n",
              "    }\n",
              "\n",
              "    .colab-df-convert:hover {\n",
              "      background-color: #E2EBFA;\n",
              "      box-shadow: 0px 1px 2px rgba(60, 64, 67, 0.3), 0px 1px 3px 1px rgba(60, 64, 67, 0.15);\n",
              "      fill: #174EA6;\n",
              "    }\n",
              "\n",
              "    .colab-df-buttons div {\n",
              "      margin-bottom: 4px;\n",
              "    }\n",
              "\n",
              "    [theme=dark] .colab-df-convert {\n",
              "      background-color: #3B4455;\n",
              "      fill: #D2E3FC;\n",
              "    }\n",
              "\n",
              "    [theme=dark] .colab-df-convert:hover {\n",
              "      background-color: #434B5C;\n",
              "      box-shadow: 0px 1px 3px 1px rgba(0, 0, 0, 0.15);\n",
              "      filter: drop-shadow(0px 1px 2px rgba(0, 0, 0, 0.3));\n",
              "      fill: #FFFFFF;\n",
              "    }\n",
              "  </style>\n",
              "\n",
              "    <script>\n",
              "      const buttonEl =\n",
              "        document.querySelector('#df-7d85a73c-6e90-4a25-babd-df6c03e42095 button.colab-df-convert');\n",
              "      buttonEl.style.display =\n",
              "        google.colab.kernel.accessAllowed ? 'block' : 'none';\n",
              "\n",
              "      async function convertToInteractive(key) {\n",
              "        const element = document.querySelector('#df-7d85a73c-6e90-4a25-babd-df6c03e42095');\n",
              "        const dataTable =\n",
              "          await google.colab.kernel.invokeFunction('convertToInteractive',\n",
              "                                                    [key], {});\n",
              "        if (!dataTable) return;\n",
              "\n",
              "        const docLinkHtml = 'Like what you see? Visit the ' +\n",
              "          '<a target=\"_blank\" href=https://colab.research.google.com/notebooks/data_table.ipynb>data table notebook</a>'\n",
              "          + ' to learn more about interactive tables.';\n",
              "        element.innerHTML = '';\n",
              "        dataTable['output_type'] = 'display_data';\n",
              "        await google.colab.output.renderOutput(dataTable, element);\n",
              "        const docLink = document.createElement('div');\n",
              "        docLink.innerHTML = docLinkHtml;\n",
              "        element.appendChild(docLink);\n",
              "      }\n",
              "    </script>\n",
              "  </div>\n",
              "\n",
              "\n",
              "<div id=\"df-5f618e77-21e7-4007-b0ab-6447a5ef89c1\">\n",
              "  <button class=\"colab-df-quickchart\" onclick=\"quickchart('df-5f618e77-21e7-4007-b0ab-6447a5ef89c1')\"\n",
              "            title=\"Suggest charts\"\n",
              "            style=\"display:none;\">\n",
              "\n",
              "<svg xmlns=\"http://www.w3.org/2000/svg\" height=\"24px\"viewBox=\"0 0 24 24\"\n",
              "     width=\"24px\">\n",
              "    <g>\n",
              "        <path d=\"M19 3H5c-1.1 0-2 .9-2 2v14c0 1.1.9 2 2 2h14c1.1 0 2-.9 2-2V5c0-1.1-.9-2-2-2zM9 17H7v-7h2v7zm4 0h-2V7h2v10zm4 0h-2v-4h2v4z\"/>\n",
              "    </g>\n",
              "</svg>\n",
              "  </button>\n",
              "\n",
              "<style>\n",
              "  .colab-df-quickchart {\n",
              "      --bg-color: #E8F0FE;\n",
              "      --fill-color: #1967D2;\n",
              "      --hover-bg-color: #E2EBFA;\n",
              "      --hover-fill-color: #174EA6;\n",
              "      --disabled-fill-color: #AAA;\n",
              "      --disabled-bg-color: #DDD;\n",
              "  }\n",
              "\n",
              "  [theme=dark] .colab-df-quickchart {\n",
              "      --bg-color: #3B4455;\n",
              "      --fill-color: #D2E3FC;\n",
              "      --hover-bg-color: #434B5C;\n",
              "      --hover-fill-color: #FFFFFF;\n",
              "      --disabled-bg-color: #3B4455;\n",
              "      --disabled-fill-color: #666;\n",
              "  }\n",
              "\n",
              "  .colab-df-quickchart {\n",
              "    background-color: var(--bg-color);\n",
              "    border: none;\n",
              "    border-radius: 50%;\n",
              "    cursor: pointer;\n",
              "    display: none;\n",
              "    fill: var(--fill-color);\n",
              "    height: 32px;\n",
              "    padding: 0;\n",
              "    width: 32px;\n",
              "  }\n",
              "\n",
              "  .colab-df-quickchart:hover {\n",
              "    background-color: var(--hover-bg-color);\n",
              "    box-shadow: 0 1px 2px rgba(60, 64, 67, 0.3), 0 1px 3px 1px rgba(60, 64, 67, 0.15);\n",
              "    fill: var(--button-hover-fill-color);\n",
              "  }\n",
              "\n",
              "  .colab-df-quickchart-complete:disabled,\n",
              "  .colab-df-quickchart-complete:disabled:hover {\n",
              "    background-color: var(--disabled-bg-color);\n",
              "    fill: var(--disabled-fill-color);\n",
              "    box-shadow: none;\n",
              "  }\n",
              "\n",
              "  .colab-df-spinner {\n",
              "    border: 2px solid var(--fill-color);\n",
              "    border-color: transparent;\n",
              "    border-bottom-color: var(--fill-color);\n",
              "    animation:\n",
              "      spin 1s steps(1) infinite;\n",
              "  }\n",
              "\n",
              "  @keyframes spin {\n",
              "    0% {\n",
              "      border-color: transparent;\n",
              "      border-bottom-color: var(--fill-color);\n",
              "      border-left-color: var(--fill-color);\n",
              "    }\n",
              "    20% {\n",
              "      border-color: transparent;\n",
              "      border-left-color: var(--fill-color);\n",
              "      border-top-color: var(--fill-color);\n",
              "    }\n",
              "    30% {\n",
              "      border-color: transparent;\n",
              "      border-left-color: var(--fill-color);\n",
              "      border-top-color: var(--fill-color);\n",
              "      border-right-color: var(--fill-color);\n",
              "    }\n",
              "    40% {\n",
              "      border-color: transparent;\n",
              "      border-right-color: var(--fill-color);\n",
              "      border-top-color: var(--fill-color);\n",
              "    }\n",
              "    60% {\n",
              "      border-color: transparent;\n",
              "      border-right-color: var(--fill-color);\n",
              "    }\n",
              "    80% {\n",
              "      border-color: transparent;\n",
              "      border-right-color: var(--fill-color);\n",
              "      border-bottom-color: var(--fill-color);\n",
              "    }\n",
              "    90% {\n",
              "      border-color: transparent;\n",
              "      border-bottom-color: var(--fill-color);\n",
              "    }\n",
              "  }\n",
              "</style>\n",
              "\n",
              "  <script>\n",
              "    async function quickchart(key) {\n",
              "      const quickchartButtonEl =\n",
              "        document.querySelector('#' + key + ' button');\n",
              "      quickchartButtonEl.disabled = true;  // To prevent multiple clicks.\n",
              "      quickchartButtonEl.classList.add('colab-df-spinner');\n",
              "      try {\n",
              "        const charts = await google.colab.kernel.invokeFunction(\n",
              "            'suggestCharts', [key], {});\n",
              "      } catch (error) {\n",
              "        console.error('Error during call to suggestCharts:', error);\n",
              "      }\n",
              "      quickchartButtonEl.classList.remove('colab-df-spinner');\n",
              "      quickchartButtonEl.classList.add('colab-df-quickchart-complete');\n",
              "    }\n",
              "    (() => {\n",
              "      let quickchartButtonEl =\n",
              "        document.querySelector('#df-5f618e77-21e7-4007-b0ab-6447a5ef89c1 button');\n",
              "      quickchartButtonEl.style.display =\n",
              "        google.colab.kernel.accessAllowed ? 'block' : 'none';\n",
              "    })();\n",
              "  </script>\n",
              "</div>\n",
              "\n",
              "    </div>\n",
              "  </div>\n"
            ],
            "application/vnd.google.colaboratory.intrinsic+json": {
              "type": "dataframe",
              "variable_name": "amznH2",
              "summary": "{\n  \"name\": \"amznH2\",\n  \"rows\": 24507,\n  \"fields\": [\n    {\n      \"column\": \"Image_Link\",\n      \"properties\": {\n        \"dtype\": \"category\",\n        \"num_unique_values\": 2510,\n        \"samples\": [\n          \"https://m.media-amazon.com/images/I/31TEICM-KVL._SY445_SX342_.jpg\",\n          \"https://m.media-amazon.com/images/I/311+gPjGwaL._SX342_SY445_.jpg\",\n          \"https://m.media-amazon.com/images/I/41UJK-Q+F2L._SX342_SY445_.jpg\"\n        ],\n        \"semantic_type\": \"\",\n        \"description\": \"\"\n      }\n    },\n    {\n      \"column\": \"Image_Size\",\n      \"properties\": {\n        \"dtype\": \"category\",\n        \"num_unique_values\": 541,\n        \"samples\": [\n          \"max-width:679px;max-height:870px;\",\n          \"max-width:679px;max-height:830px;\",\n          \"max-width:453px;max-height:879px;\"\n        ],\n        \"semantic_type\": \"\",\n        \"description\": \"\"\n      }\n    },\n    {\n      \"column\": \"Product_Name\",\n      \"properties\": {\n        \"dtype\": \"category\",\n        \"num_unique_values\": 3247,\n        \"samples\": [\n          \"Women's Casual 3/4 Sleeve Printed Viscose Maternity Feeding Kurti (Green, XL)-PID47173\",\n          \"Vinny's Creation Women's Floral Printed Maternity Anarkali Feeding Kurti with Zippers (Pink)\",\n          \"Magic Women's Transparent Heavy PVC for Bikers |Waterproof Rainwear|Transparent Rainsuit (Yellow Transparent)\"\n        ],\n        \"semantic_type\": \"\",\n        \"description\": \"\"\n      }\n    },\n    {\n      \"column\": \"Main_Category\",\n      \"properties\": {\n        \"dtype\": \"category\",\n        \"num_unique_values\": 2,\n        \"samples\": [\n          \"Not available\",\n          \"Women-Clothing & Accessories\"\n        ],\n        \"semantic_type\": \"\",\n        \"description\": \"\"\n      }\n    },\n    {\n      \"column\": \"Sub_Category_Name\",\n      \"properties\": {\n        \"dtype\": \"category\",\n        \"num_unique_values\": 5,\n        \"samples\": [\n          \"Western Wear\",\n          \"Ethnic Wear\"\n        ],\n        \"semantic_type\": \"\",\n        \"description\": \"\"\n      }\n    },\n    {\n      \"column\": \"SubCategory_Product_Name\",\n      \"properties\": {\n        \"dtype\": \"category\",\n        \"num_unique_values\": 8,\n        \"samples\": [\n          \"Rainwear\",\n          \"Lounge Shorts\"\n        ],\n        \"semantic_type\": \"\",\n        \"description\": \"\"\n      }\n    },\n    {\n      \"column\": \"Product_Rating\",\n      \"properties\": {\n        \"dtype\": \"category\",\n        \"num_unique_values\": 1,\n        \"samples\": [\n          \"Not Available\"\n        ],\n        \"semantic_type\": \"\",\n        \"description\": \"\"\n      }\n    },\n    {\n      \"column\": \"Product_Num_Reviews\",\n      \"properties\": {\n        \"dtype\": \"category\",\n        \"num_unique_values\": 1,\n        \"samples\": [\n          \"Not Available\"\n        ],\n        \"semantic_type\": \"\",\n        \"description\": \"\"\n      }\n    },\n    {\n      \"column\": \"Product_Link\",\n      \"properties\": {\n        \"dtype\": \"string\",\n        \"num_unique_values\": 24507,\n        \"samples\": [\n          \"https://www.amazon.in/32-Degrees-Ladies-Jacket-Black/dp/B07PGL6RGG/ref=sr_1_2383?dib=eyJ2IjoiMSJ9.FNSzEdXWy5nimu4yze1Wtomt-Nkdy0dMYMhs90Odb7zGdGsOde9_eOsdv9hs_FXimlnvk03XlctxoZ6v4JAVUh_ptlecmZ4AvA2wgFt6XCXG9yQodTuDGWELFg2wDpeQUC-ynXm9q7HlVc9mQhB02fH8slx1s45CN8D1vPPHfERyj8g6tOZdS8CpcLq0p-md7r4ZXJYeQao_-_tOgEmn0xBoldQWdSlvKpv8HRtBviZ8ImpuA8RGmtaqD38qxzWFEY2wxmOn8YlpKmKHMip4cXXS51Au8JRN7ft93gpY1Sc.gizoLDkAlaseJSX-JhMfrKyJ6ubF4WTNU9aacgnns4g&dib_tag=se&qid=1715001589&rnid=11400137031&s=apparel&sr=1-2383\"\n        ],\n        \"semantic_type\": \"\",\n        \"description\": \"\"\n      }\n    }\n  ]\n}"
            }
          },
          "metadata": {},
          "execution_count": 3
        }
      ]
    },
    {
      "cell_type": "markdown",
      "source": [
        "- Checking shape the dataset."
      ],
      "metadata": {
        "id": "Brm9p1OwUwFQ"
      }
    },
    {
      "cell_type": "code",
      "source": [
        "amznH2.shape"
      ],
      "metadata": {
        "colab": {
          "base_uri": "https://localhost:8080/"
        },
        "id": "1AzyJaKuSWr8",
        "outputId": "e2a646ae-872b-4139-aa7b-c257f0955df1"
      },
      "execution_count": 4,
      "outputs": [
        {
          "output_type": "execute_result",
          "data": {
            "text/plain": [
              "(24507, 9)"
            ]
          },
          "metadata": {},
          "execution_count": 4
        }
      ]
    },
    {
      "cell_type": "markdown",
      "source": [
        "- Checking data type of features."
      ],
      "metadata": {
        "id": "Op13pRhMU-MQ"
      }
    },
    {
      "cell_type": "code",
      "source": [
        "amznH2.info()"
      ],
      "metadata": {
        "colab": {
          "base_uri": "https://localhost:8080/"
        },
        "id": "-0tVqdsFSbqn",
        "outputId": "de8f8284-9db5-4f59-e11b-6a59eb84ee74"
      },
      "execution_count": 5,
      "outputs": [
        {
          "output_type": "stream",
          "name": "stdout",
          "text": [
            "<class 'pandas.core.frame.DataFrame'>\n",
            "RangeIndex: 24507 entries, 0 to 24506\n",
            "Data columns (total 9 columns):\n",
            " #   Column                    Non-Null Count  Dtype \n",
            "---  ------                    --------------  ----- \n",
            " 0   Image_Link                21223 non-null  object\n",
            " 1   Image_Size                21223 non-null  object\n",
            " 2   Product_Name              24507 non-null  object\n",
            " 3   Main_Category             24507 non-null  object\n",
            " 4   Sub_Category_Name         24507 non-null  object\n",
            " 5   SubCategory_Product_Name  24507 non-null  object\n",
            " 6   Product_Rating            24507 non-null  object\n",
            " 7   Product_Num_Reviews       24507 non-null  object\n",
            " 8   Product_Link              24507 non-null  object\n",
            "dtypes: object(9)\n",
            "memory usage: 1.7+ MB\n"
          ]
        }
      ]
    },
    {
      "cell_type": "markdown",
      "source": [
        "- Checking for null values."
      ],
      "metadata": {
        "id": "BZk44EyyVPQc"
      }
    },
    {
      "cell_type": "code",
      "source": [
        "amznH2.isnull().sum()"
      ],
      "metadata": {
        "colab": {
          "base_uri": "https://localhost:8080/"
        },
        "id": "_-uwkI91SeIf",
        "outputId": "38c628ba-41f5-4e8c-fb57-bc576d750845"
      },
      "execution_count": 6,
      "outputs": [
        {
          "output_type": "execute_result",
          "data": {
            "text/plain": [
              "Image_Link                  3284\n",
              "Image_Size                  3284\n",
              "Product_Name                   0\n",
              "Main_Category                  0\n",
              "Sub_Category_Name              0\n",
              "SubCategory_Product_Name       0\n",
              "Product_Rating                 0\n",
              "Product_Num_Reviews            0\n",
              "Product_Link                   0\n",
              "dtype: int64"
            ]
          },
          "metadata": {},
          "execution_count": 6
        }
      ]
    },
    {
      "cell_type": "markdown",
      "source": [
        "- Amazon Li dataset."
      ],
      "metadata": {
        "id": "Lm5BgbSsS15s"
      }
    },
    {
      "cell_type": "code",
      "source": [
        "amznLi.head()"
      ],
      "metadata": {
        "colab": {
          "base_uri": "https://localhost:8080/",
          "height": 573
        },
        "outputId": "a3f2088d-5e09-4191-846e-fd8004289421",
        "id": "AtD8hTW7S15s"
      },
      "execution_count": 7,
      "outputs": [
        {
          "output_type": "execute_result",
          "data": {
            "text/plain": [
              "                                          Image_Link  \\\n",
              "0  https://m.media-amazon.com/images/I/41ZXJJfifp...   \n",
              "1  https://m.media-amazon.com/images/I/31XFUJyqw4...   \n",
              "2  https://m.media-amazon.com/images/I/41j1fhWXsp...   \n",
              "3  https://m.media-amazon.com/images/I/31zvQinMGh...   \n",
              "4  https://m.media-amazon.com/images/I/314YgVLztm...   \n",
              "\n",
              "                          Image_Size  \\\n",
              "0  max-width:679px;max-height:679px;   \n",
              "1  max-width:586px;max-height:879px;   \n",
              "2  max-width:679px;max-height:679px;   \n",
              "3  max-width:676px;max-height:879px;   \n",
              "4  max-width:679px;max-height:679px;   \n",
              "\n",
              "                                        Product_Name  \\\n",
              "0  PALAY® Women's Summer Beach Backless Crochet H...   \n",
              "1          ROVARS Female Swimwear Solid Swim Legging   \n",
              "2  exciting Lives Glow in The Night Bikini Set - ...   \n",
              "3  CREVOX Solid Black Padded Crop Top with Black ...   \n",
              "4  Women's New Spandex and Polyester Lace Panties...   \n",
              "\n",
              "                  Main_Category Sub_Category_Name SubCategory_Product_Name  \\\n",
              "0  Women-Clothing & Accessories  Swim & Beachwear                     Tops   \n",
              "1  Women-Clothing & Accessories  Swim & Beachwear                  Bottoms   \n",
              "2  Women-Clothing & Accessories  Swim & Beachwear                     Sets   \n",
              "3  Women-Clothing & Accessories  Swim & Beachwear                     Tops   \n",
              "4  Women-Clothing & Accessories  Swim & Beachwear                  Bottoms   \n",
              "\n",
              "  Product_Rating Product_Num_Reviews  \\\n",
              "0  Not Available       Not Available   \n",
              "1  Not Available       Not Available   \n",
              "2  Not Available       Not Available   \n",
              "3  Not Available       Not Available   \n",
              "4  Not Available       Not Available   \n",
              "\n",
              "                                        Product_Link  \n",
              "0  https://www.amazon.in/PALAY%C2%AE-Backless-Cro...  \n",
              "1  https://www.amazon.in/Rovars-Womens-Lycra-Tigh...  \n",
              "2  https://www.amazon.in/exciting-Lives-Glow-Nigh...  \n",
              "3  https://www.amazon.in/CREVOX-Solid-Black-Padde...  \n",
              "4  https://www.amazon.in/Innerwear-Spandex-Polyes...  "
            ],
            "text/html": [
              "\n",
              "  <div id=\"df-b4da14f0-8e3f-4d05-a6da-922677d10729\" class=\"colab-df-container\">\n",
              "    <div>\n",
              "<style scoped>\n",
              "    .dataframe tbody tr th:only-of-type {\n",
              "        vertical-align: middle;\n",
              "    }\n",
              "\n",
              "    .dataframe tbody tr th {\n",
              "        vertical-align: top;\n",
              "    }\n",
              "\n",
              "    .dataframe thead th {\n",
              "        text-align: right;\n",
              "    }\n",
              "</style>\n",
              "<table border=\"1\" class=\"dataframe\">\n",
              "  <thead>\n",
              "    <tr style=\"text-align: right;\">\n",
              "      <th></th>\n",
              "      <th>Image_Link</th>\n",
              "      <th>Image_Size</th>\n",
              "      <th>Product_Name</th>\n",
              "      <th>Main_Category</th>\n",
              "      <th>Sub_Category_Name</th>\n",
              "      <th>SubCategory_Product_Name</th>\n",
              "      <th>Product_Rating</th>\n",
              "      <th>Product_Num_Reviews</th>\n",
              "      <th>Product_Link</th>\n",
              "    </tr>\n",
              "  </thead>\n",
              "  <tbody>\n",
              "    <tr>\n",
              "      <th>0</th>\n",
              "      <td>https://m.media-amazon.com/images/I/41ZXJJfifp...</td>\n",
              "      <td>max-width:679px;max-height:679px;</td>\n",
              "      <td>PALAY® Women's Summer Beach Backless Crochet H...</td>\n",
              "      <td>Women-Clothing &amp; Accessories</td>\n",
              "      <td>Swim &amp; Beachwear</td>\n",
              "      <td>Tops</td>\n",
              "      <td>Not Available</td>\n",
              "      <td>Not Available</td>\n",
              "      <td>https://www.amazon.in/PALAY%C2%AE-Backless-Cro...</td>\n",
              "    </tr>\n",
              "    <tr>\n",
              "      <th>1</th>\n",
              "      <td>https://m.media-amazon.com/images/I/31XFUJyqw4...</td>\n",
              "      <td>max-width:586px;max-height:879px;</td>\n",
              "      <td>ROVARS Female Swimwear Solid Swim Legging</td>\n",
              "      <td>Women-Clothing &amp; Accessories</td>\n",
              "      <td>Swim &amp; Beachwear</td>\n",
              "      <td>Bottoms</td>\n",
              "      <td>Not Available</td>\n",
              "      <td>Not Available</td>\n",
              "      <td>https://www.amazon.in/Rovars-Womens-Lycra-Tigh...</td>\n",
              "    </tr>\n",
              "    <tr>\n",
              "      <th>2</th>\n",
              "      <td>https://m.media-amazon.com/images/I/41j1fhWXsp...</td>\n",
              "      <td>max-width:679px;max-height:679px;</td>\n",
              "      <td>exciting Lives Glow in The Night Bikini Set - ...</td>\n",
              "      <td>Women-Clothing &amp; Accessories</td>\n",
              "      <td>Swim &amp; Beachwear</td>\n",
              "      <td>Sets</td>\n",
              "      <td>Not Available</td>\n",
              "      <td>Not Available</td>\n",
              "      <td>https://www.amazon.in/exciting-Lives-Glow-Nigh...</td>\n",
              "    </tr>\n",
              "    <tr>\n",
              "      <th>3</th>\n",
              "      <td>https://m.media-amazon.com/images/I/31zvQinMGh...</td>\n",
              "      <td>max-width:676px;max-height:879px;</td>\n",
              "      <td>CREVOX Solid Black Padded Crop Top with Black ...</td>\n",
              "      <td>Women-Clothing &amp; Accessories</td>\n",
              "      <td>Swim &amp; Beachwear</td>\n",
              "      <td>Tops</td>\n",
              "      <td>Not Available</td>\n",
              "      <td>Not Available</td>\n",
              "      <td>https://www.amazon.in/CREVOX-Solid-Black-Padde...</td>\n",
              "    </tr>\n",
              "    <tr>\n",
              "      <th>4</th>\n",
              "      <td>https://m.media-amazon.com/images/I/314YgVLztm...</td>\n",
              "      <td>max-width:679px;max-height:679px;</td>\n",
              "      <td>Women's New Spandex and Polyester Lace Panties...</td>\n",
              "      <td>Women-Clothing &amp; Accessories</td>\n",
              "      <td>Swim &amp; Beachwear</td>\n",
              "      <td>Bottoms</td>\n",
              "      <td>Not Available</td>\n",
              "      <td>Not Available</td>\n",
              "      <td>https://www.amazon.in/Innerwear-Spandex-Polyes...</td>\n",
              "    </tr>\n",
              "  </tbody>\n",
              "</table>\n",
              "</div>\n",
              "    <div class=\"colab-df-buttons\">\n",
              "\n",
              "  <div class=\"colab-df-container\">\n",
              "    <button class=\"colab-df-convert\" onclick=\"convertToInteractive('df-b4da14f0-8e3f-4d05-a6da-922677d10729')\"\n",
              "            title=\"Convert this dataframe to an interactive table.\"\n",
              "            style=\"display:none;\">\n",
              "\n",
              "  <svg xmlns=\"http://www.w3.org/2000/svg\" height=\"24px\" viewBox=\"0 -960 960 960\">\n",
              "    <path d=\"M120-120v-720h720v720H120Zm60-500h600v-160H180v160Zm220 220h160v-160H400v160Zm0 220h160v-160H400v160ZM180-400h160v-160H180v160Zm440 0h160v-160H620v160ZM180-180h160v-160H180v160Zm440 0h160v-160H620v160Z\"/>\n",
              "  </svg>\n",
              "    </button>\n",
              "\n",
              "  <style>\n",
              "    .colab-df-container {\n",
              "      display:flex;\n",
              "      gap: 12px;\n",
              "    }\n",
              "\n",
              "    .colab-df-convert {\n",
              "      background-color: #E8F0FE;\n",
              "      border: none;\n",
              "      border-radius: 50%;\n",
              "      cursor: pointer;\n",
              "      display: none;\n",
              "      fill: #1967D2;\n",
              "      height: 32px;\n",
              "      padding: 0 0 0 0;\n",
              "      width: 32px;\n",
              "    }\n",
              "\n",
              "    .colab-df-convert:hover {\n",
              "      background-color: #E2EBFA;\n",
              "      box-shadow: 0px 1px 2px rgba(60, 64, 67, 0.3), 0px 1px 3px 1px rgba(60, 64, 67, 0.15);\n",
              "      fill: #174EA6;\n",
              "    }\n",
              "\n",
              "    .colab-df-buttons div {\n",
              "      margin-bottom: 4px;\n",
              "    }\n",
              "\n",
              "    [theme=dark] .colab-df-convert {\n",
              "      background-color: #3B4455;\n",
              "      fill: #D2E3FC;\n",
              "    }\n",
              "\n",
              "    [theme=dark] .colab-df-convert:hover {\n",
              "      background-color: #434B5C;\n",
              "      box-shadow: 0px 1px 3px 1px rgba(0, 0, 0, 0.15);\n",
              "      filter: drop-shadow(0px 1px 2px rgba(0, 0, 0, 0.3));\n",
              "      fill: #FFFFFF;\n",
              "    }\n",
              "  </style>\n",
              "\n",
              "    <script>\n",
              "      const buttonEl =\n",
              "        document.querySelector('#df-b4da14f0-8e3f-4d05-a6da-922677d10729 button.colab-df-convert');\n",
              "      buttonEl.style.display =\n",
              "        google.colab.kernel.accessAllowed ? 'block' : 'none';\n",
              "\n",
              "      async function convertToInteractive(key) {\n",
              "        const element = document.querySelector('#df-b4da14f0-8e3f-4d05-a6da-922677d10729');\n",
              "        const dataTable =\n",
              "          await google.colab.kernel.invokeFunction('convertToInteractive',\n",
              "                                                    [key], {});\n",
              "        if (!dataTable) return;\n",
              "\n",
              "        const docLinkHtml = 'Like what you see? Visit the ' +\n",
              "          '<a target=\"_blank\" href=https://colab.research.google.com/notebooks/data_table.ipynb>data table notebook</a>'\n",
              "          + ' to learn more about interactive tables.';\n",
              "        element.innerHTML = '';\n",
              "        dataTable['output_type'] = 'display_data';\n",
              "        await google.colab.output.renderOutput(dataTable, element);\n",
              "        const docLink = document.createElement('div');\n",
              "        docLink.innerHTML = docLinkHtml;\n",
              "        element.appendChild(docLink);\n",
              "      }\n",
              "    </script>\n",
              "  </div>\n",
              "\n",
              "\n",
              "<div id=\"df-84bea44b-6c6a-444a-918b-040a477bdeec\">\n",
              "  <button class=\"colab-df-quickchart\" onclick=\"quickchart('df-84bea44b-6c6a-444a-918b-040a477bdeec')\"\n",
              "            title=\"Suggest charts\"\n",
              "            style=\"display:none;\">\n",
              "\n",
              "<svg xmlns=\"http://www.w3.org/2000/svg\" height=\"24px\"viewBox=\"0 0 24 24\"\n",
              "     width=\"24px\">\n",
              "    <g>\n",
              "        <path d=\"M19 3H5c-1.1 0-2 .9-2 2v14c0 1.1.9 2 2 2h14c1.1 0 2-.9 2-2V5c0-1.1-.9-2-2-2zM9 17H7v-7h2v7zm4 0h-2V7h2v10zm4 0h-2v-4h2v4z\"/>\n",
              "    </g>\n",
              "</svg>\n",
              "  </button>\n",
              "\n",
              "<style>\n",
              "  .colab-df-quickchart {\n",
              "      --bg-color: #E8F0FE;\n",
              "      --fill-color: #1967D2;\n",
              "      --hover-bg-color: #E2EBFA;\n",
              "      --hover-fill-color: #174EA6;\n",
              "      --disabled-fill-color: #AAA;\n",
              "      --disabled-bg-color: #DDD;\n",
              "  }\n",
              "\n",
              "  [theme=dark] .colab-df-quickchart {\n",
              "      --bg-color: #3B4455;\n",
              "      --fill-color: #D2E3FC;\n",
              "      --hover-bg-color: #434B5C;\n",
              "      --hover-fill-color: #FFFFFF;\n",
              "      --disabled-bg-color: #3B4455;\n",
              "      --disabled-fill-color: #666;\n",
              "  }\n",
              "\n",
              "  .colab-df-quickchart {\n",
              "    background-color: var(--bg-color);\n",
              "    border: none;\n",
              "    border-radius: 50%;\n",
              "    cursor: pointer;\n",
              "    display: none;\n",
              "    fill: var(--fill-color);\n",
              "    height: 32px;\n",
              "    padding: 0;\n",
              "    width: 32px;\n",
              "  }\n",
              "\n",
              "  .colab-df-quickchart:hover {\n",
              "    background-color: var(--hover-bg-color);\n",
              "    box-shadow: 0 1px 2px rgba(60, 64, 67, 0.3), 0 1px 3px 1px rgba(60, 64, 67, 0.15);\n",
              "    fill: var(--button-hover-fill-color);\n",
              "  }\n",
              "\n",
              "  .colab-df-quickchart-complete:disabled,\n",
              "  .colab-df-quickchart-complete:disabled:hover {\n",
              "    background-color: var(--disabled-bg-color);\n",
              "    fill: var(--disabled-fill-color);\n",
              "    box-shadow: none;\n",
              "  }\n",
              "\n",
              "  .colab-df-spinner {\n",
              "    border: 2px solid var(--fill-color);\n",
              "    border-color: transparent;\n",
              "    border-bottom-color: var(--fill-color);\n",
              "    animation:\n",
              "      spin 1s steps(1) infinite;\n",
              "  }\n",
              "\n",
              "  @keyframes spin {\n",
              "    0% {\n",
              "      border-color: transparent;\n",
              "      border-bottom-color: var(--fill-color);\n",
              "      border-left-color: var(--fill-color);\n",
              "    }\n",
              "    20% {\n",
              "      border-color: transparent;\n",
              "      border-left-color: var(--fill-color);\n",
              "      border-top-color: var(--fill-color);\n",
              "    }\n",
              "    30% {\n",
              "      border-color: transparent;\n",
              "      border-left-color: var(--fill-color);\n",
              "      border-top-color: var(--fill-color);\n",
              "      border-right-color: var(--fill-color);\n",
              "    }\n",
              "    40% {\n",
              "      border-color: transparent;\n",
              "      border-right-color: var(--fill-color);\n",
              "      border-top-color: var(--fill-color);\n",
              "    }\n",
              "    60% {\n",
              "      border-color: transparent;\n",
              "      border-right-color: var(--fill-color);\n",
              "    }\n",
              "    80% {\n",
              "      border-color: transparent;\n",
              "      border-right-color: var(--fill-color);\n",
              "      border-bottom-color: var(--fill-color);\n",
              "    }\n",
              "    90% {\n",
              "      border-color: transparent;\n",
              "      border-bottom-color: var(--fill-color);\n",
              "    }\n",
              "  }\n",
              "</style>\n",
              "\n",
              "  <script>\n",
              "    async function quickchart(key) {\n",
              "      const quickchartButtonEl =\n",
              "        document.querySelector('#' + key + ' button');\n",
              "      quickchartButtonEl.disabled = true;  // To prevent multiple clicks.\n",
              "      quickchartButtonEl.classList.add('colab-df-spinner');\n",
              "      try {\n",
              "        const charts = await google.colab.kernel.invokeFunction(\n",
              "            'suggestCharts', [key], {});\n",
              "      } catch (error) {\n",
              "        console.error('Error during call to suggestCharts:', error);\n",
              "      }\n",
              "      quickchartButtonEl.classList.remove('colab-df-spinner');\n",
              "      quickchartButtonEl.classList.add('colab-df-quickchart-complete');\n",
              "    }\n",
              "    (() => {\n",
              "      let quickchartButtonEl =\n",
              "        document.querySelector('#df-84bea44b-6c6a-444a-918b-040a477bdeec button');\n",
              "      quickchartButtonEl.style.display =\n",
              "        google.colab.kernel.accessAllowed ? 'block' : 'none';\n",
              "    })();\n",
              "  </script>\n",
              "</div>\n",
              "\n",
              "    </div>\n",
              "  </div>\n"
            ],
            "application/vnd.google.colaboratory.intrinsic+json": {
              "type": "dataframe",
              "variable_name": "amznLi",
              "summary": "{\n  \"name\": \"amznLi\",\n  \"rows\": 4428,\n  \"fields\": [\n    {\n      \"column\": \"Image_Link\",\n      \"properties\": {\n        \"dtype\": \"string\",\n        \"num_unique_values\": 2932,\n        \"samples\": [\n          \"https://m.media-amazon.com/images/I/31QgRQdzZML._SY445_SX342_.jpg\",\n          \"https://m.media-amazon.com/images/I/51d+8OCkM3L._SX342_SY445_.jpg\",\n          \"https://m.media-amazon.com/images/I/41J7mdWqc-L._SY445_SX342_.jpg\"\n        ],\n        \"semantic_type\": \"\",\n        \"description\": \"\"\n      }\n    },\n    {\n      \"column\": \"Image_Size\",\n      \"properties\": {\n        \"dtype\": \"category\",\n        \"num_unique_values\": 684,\n        \"samples\": [\n          \"max-width:679px;max-height:528px;\",\n          \"max-width:569px;max-height:717px;\",\n          \"max-width:454px;max-height:879px;\"\n        ],\n        \"semantic_type\": \"\",\n        \"description\": \"\"\n      }\n    },\n    {\n      \"column\": \"Product_Name\",\n      \"properties\": {\n        \"dtype\": \"string\",\n        \"num_unique_values\": 2779,\n        \"samples\": [\n          \"NICSY Women's Underwear Lace Slip Shorts Under Dresses Women Girls Shorts, Underskirt Trousers Anti-Chafing Slip Shorts, Boxer Shorts, Underwear Shorts Pack\",\n          \"Roktry Boob Tape with 10 Nipple Pasties & 36 Fashion Tape Body Tape for Women Push Up & Lifting Breast Tape Breast Lift Bra Tape Bob Tape for Breast Lift Double Sided Tape for Clothes\",\n          \"BEN COMM Women's Poly Cotton Padded Buttock Shape Enhancer Underwear (Colour - Black, Size - 36 Inches Waist)\"\n        ],\n        \"semantic_type\": \"\",\n        \"description\": \"\"\n      }\n    },\n    {\n      \"column\": \"Main_Category\",\n      \"properties\": {\n        \"dtype\": \"category\",\n        \"num_unique_values\": 2,\n        \"samples\": [\n          \"Not available\",\n          \"Women-Clothing & Accessories\"\n        ],\n        \"semantic_type\": \"\",\n        \"description\": \"\"\n      }\n    },\n    {\n      \"column\": \"Sub_Category_Name\",\n      \"properties\": {\n        \"dtype\": \"category\",\n        \"num_unique_values\": 8,\n        \"samples\": [\n          \"Sportswear\",\n          \"Not available\"\n        ],\n        \"semantic_type\": \"\",\n        \"description\": \"\"\n      }\n    },\n    {\n      \"column\": \"SubCategory_Product_Name\",\n      \"properties\": {\n        \"dtype\": \"category\",\n        \"num_unique_values\": 95,\n        \"samples\": [\n          \"Crew Socks\",\n          \"Bras\"\n        ],\n        \"semantic_type\": \"\",\n        \"description\": \"\"\n      }\n    },\n    {\n      \"column\": \"Product_Rating\",\n      \"properties\": {\n        \"dtype\": \"category\",\n        \"num_unique_values\": 1,\n        \"samples\": [\n          \"Not Available\"\n        ],\n        \"semantic_type\": \"\",\n        \"description\": \"\"\n      }\n    },\n    {\n      \"column\": \"Product_Num_Reviews\",\n      \"properties\": {\n        \"dtype\": \"category\",\n        \"num_unique_values\": 1,\n        \"samples\": [\n          \"Not Available\"\n        ],\n        \"semantic_type\": \"\",\n        \"description\": \"\"\n      }\n    },\n    {\n      \"column\": \"Product_Link\",\n      \"properties\": {\n        \"dtype\": \"string\",\n        \"num_unique_values\": 4428,\n        \"samples\": [\n          \"https://www.amazon.in/Bonjour-Women-Modern-Cotton-Multicoloured/dp/B01BY4Y73G?ref_=Oct_d_obs_d_1968523031_5&pd_rd_w=FN4JL&content-id=amzn1.sym.fa046d91-91ea-4bcf-a4c8-6d06067907ba&pf_rd_p=fa046d91-91ea-4bcf-a4c8-6d06067907ba&pf_rd_r=Y8XXM0TAZEWTRFXFJBQF&pd_rd_wg=zHjmM&pd_rd_r=0938dc60-114e-477f-a420-4406b6ee754d&pd_rd_i=B01BY4Y73G\"\n        ],\n        \"semantic_type\": \"\",\n        \"description\": \"\"\n      }\n    }\n  ]\n}"
            }
          },
          "metadata": {},
          "execution_count": 7
        }
      ]
    },
    {
      "cell_type": "markdown",
      "source": [
        "- Checking shape the dataset."
      ],
      "metadata": {
        "id": "Qov85a37U5BW"
      }
    },
    {
      "cell_type": "code",
      "source": [
        "amznLi.shape"
      ],
      "metadata": {
        "colab": {
          "base_uri": "https://localhost:8080/"
        },
        "outputId": "e7986962-96e5-46f3-c2a6-0584fdbd9973",
        "id": "JroqkgYuS15t"
      },
      "execution_count": 8,
      "outputs": [
        {
          "output_type": "execute_result",
          "data": {
            "text/plain": [
              "(4428, 9)"
            ]
          },
          "metadata": {},
          "execution_count": 8
        }
      ]
    },
    {
      "cell_type": "markdown",
      "source": [
        "- Checking data type of features."
      ],
      "metadata": {
        "id": "G1BCUckIVDz2"
      }
    },
    {
      "cell_type": "code",
      "source": [
        "amznLi.info()"
      ],
      "metadata": {
        "colab": {
          "base_uri": "https://localhost:8080/"
        },
        "outputId": "030eefe6-398d-4cbd-af8c-2f5772c16362",
        "id": "SdvLSz6RS15t"
      },
      "execution_count": 9,
      "outputs": [
        {
          "output_type": "stream",
          "name": "stdout",
          "text": [
            "<class 'pandas.core.frame.DataFrame'>\n",
            "RangeIndex: 4428 entries, 0 to 4427\n",
            "Data columns (total 9 columns):\n",
            " #   Column                    Non-Null Count  Dtype \n",
            "---  ------                    --------------  ----- \n",
            " 0   Image_Link                4206 non-null   object\n",
            " 1   Image_Size                4206 non-null   object\n",
            " 2   Product_Name              4428 non-null   object\n",
            " 3   Main_Category             4428 non-null   object\n",
            " 4   Sub_Category_Name         4428 non-null   object\n",
            " 5   SubCategory_Product_Name  4428 non-null   object\n",
            " 6   Product_Rating            4428 non-null   object\n",
            " 7   Product_Num_Reviews       4428 non-null   object\n",
            " 8   Product_Link              4428 non-null   object\n",
            "dtypes: object(9)\n",
            "memory usage: 311.5+ KB\n"
          ]
        }
      ]
    },
    {
      "cell_type": "markdown",
      "source": [
        "- Checking for null values."
      ],
      "metadata": {
        "id": "_q1ZXLEBVMOq"
      }
    },
    {
      "cell_type": "code",
      "source": [
        "amznLi.isnull().sum()"
      ],
      "metadata": {
        "colab": {
          "base_uri": "https://localhost:8080/"
        },
        "outputId": "4fbf55ed-9586-407f-94d6-3e9f65e97e36",
        "id": "s_qZ6IwwS15u"
      },
      "execution_count": 10,
      "outputs": [
        {
          "output_type": "execute_result",
          "data": {
            "text/plain": [
              "Image_Link                  222\n",
              "Image_Size                  222\n",
              "Product_Name                  0\n",
              "Main_Category                 0\n",
              "Sub_Category_Name             0\n",
              "SubCategory_Product_Name      0\n",
              "Product_Rating                0\n",
              "Product_Num_Reviews           0\n",
              "Product_Link                  0\n",
              "dtype: int64"
            ]
          },
          "metadata": {},
          "execution_count": 10
        }
      ]
    },
    {
      "cell_type": "markdown",
      "source": [
        "- Amazon Div dataset."
      ],
      "metadata": {
        "id": "0VyqfZlyTbAU"
      }
    },
    {
      "cell_type": "code",
      "source": [
        "amznDiv.head()"
      ],
      "metadata": {
        "colab": {
          "base_uri": "https://localhost:8080/",
          "height": 556
        },
        "outputId": "4cdb22f4-3cec-4a96-df82-cd0702a22b70",
        "id": "3adCa4ZcTbAU"
      },
      "execution_count": 11,
      "outputs": [
        {
          "output_type": "execute_result",
          "data": {
            "text/plain": [
              "                                          Image_Link  \\\n",
              "0  https://m.media-amazon.com/images/I/31T+0ZxdN4...   \n",
              "1  https://m.media-amazon.com/images/I/21IBBmWk6y...   \n",
              "2  https://m.media-amazon.com/images/I/31JTWCFfs8...   \n",
              "3  https://m.media-amazon.com/images/I/413HgKzeYO...   \n",
              "4  https://m.media-amazon.com/images/I/41iVCJUFDI...   \n",
              "\n",
              "                          Image_Size  \\\n",
              "0  max-width:679px;max-height:322px;   \n",
              "1  max-width:679px;max-height:679px;   \n",
              "2  max-width:679px;max-height:475px;   \n",
              "3  max-width:679px;max-height:679px;   \n",
              "4  max-width:659px;max-height:879px;   \n",
              "\n",
              "                                        Product_Name  \\\n",
              "0    ELEGANTE Men Square Non-Polarization Sunglasses   \n",
              "1  CREATURE Retro Vintage Geomatric Rectangular B...   \n",
              "2  ELEGANTE Classic HD Polarized Wayfarer Sunglas...   \n",
              "3  Stylish Solid Brown Long Top with 3/4th Sleeve...   \n",
              "4  Wedani Women's Casual Short Sleeves Round Neck...   \n",
              "\n",
              "                    Main_Category Sub_Category_Name SubCategory_Product_Name  \\\n",
              "0                   Not available     Not available          Back to results   \n",
              "1                   Not available     Not available          Back to results   \n",
              "2                   Not available     Not available          Back to results   \n",
              "3  2024-02-Clothing & Accessories              Tops                     Tops   \n",
              "4  2024-02-Clothing & Accessories              Tops                     Tops   \n",
              "\n",
              "  Product_Rating Product_Num_Reviews  \\\n",
              "0  Not Available       Not Available   \n",
              "1  Not Available       Not Available   \n",
              "2  Not Available       Not Available   \n",
              "3  Not Available       Not Available   \n",
              "4  Not Available       Not Available   \n",
              "\n",
              "                                        Product_Link  \n",
              "0  https://www.amazon.in/ELEGANTE-Protected-Stain...  \n",
              "1  https://www.amazon.in/CREATURE-Geomatric-Recta...  \n",
              "2  https://www.amazon.in/ELEGANTE-Polarized-Wayfa...  \n",
              "3  https://www.amazon.in/Stylish-Solid-Brown-Slee...  \n",
              "4  https://www.amazon.in/Wedani-Womens-Casual-Sle...  "
            ],
            "text/html": [
              "\n",
              "  <div id=\"df-53361d21-f254-4d1a-a808-6d1944df47f8\" class=\"colab-df-container\">\n",
              "    <div>\n",
              "<style scoped>\n",
              "    .dataframe tbody tr th:only-of-type {\n",
              "        vertical-align: middle;\n",
              "    }\n",
              "\n",
              "    .dataframe tbody tr th {\n",
              "        vertical-align: top;\n",
              "    }\n",
              "\n",
              "    .dataframe thead th {\n",
              "        text-align: right;\n",
              "    }\n",
              "</style>\n",
              "<table border=\"1\" class=\"dataframe\">\n",
              "  <thead>\n",
              "    <tr style=\"text-align: right;\">\n",
              "      <th></th>\n",
              "      <th>Image_Link</th>\n",
              "      <th>Image_Size</th>\n",
              "      <th>Product_Name</th>\n",
              "      <th>Main_Category</th>\n",
              "      <th>Sub_Category_Name</th>\n",
              "      <th>SubCategory_Product_Name</th>\n",
              "      <th>Product_Rating</th>\n",
              "      <th>Product_Num_Reviews</th>\n",
              "      <th>Product_Link</th>\n",
              "    </tr>\n",
              "  </thead>\n",
              "  <tbody>\n",
              "    <tr>\n",
              "      <th>0</th>\n",
              "      <td>https://m.media-amazon.com/images/I/31T+0ZxdN4...</td>\n",
              "      <td>max-width:679px;max-height:322px;</td>\n",
              "      <td>ELEGANTE Men Square Non-Polarization Sunglasses</td>\n",
              "      <td>Not available</td>\n",
              "      <td>Not available</td>\n",
              "      <td>Back to results</td>\n",
              "      <td>Not Available</td>\n",
              "      <td>Not Available</td>\n",
              "      <td>https://www.amazon.in/ELEGANTE-Protected-Stain...</td>\n",
              "    </tr>\n",
              "    <tr>\n",
              "      <th>1</th>\n",
              "      <td>https://m.media-amazon.com/images/I/21IBBmWk6y...</td>\n",
              "      <td>max-width:679px;max-height:679px;</td>\n",
              "      <td>CREATURE Retro Vintage Geomatric Rectangular B...</td>\n",
              "      <td>Not available</td>\n",
              "      <td>Not available</td>\n",
              "      <td>Back to results</td>\n",
              "      <td>Not Available</td>\n",
              "      <td>Not Available</td>\n",
              "      <td>https://www.amazon.in/CREATURE-Geomatric-Recta...</td>\n",
              "    </tr>\n",
              "    <tr>\n",
              "      <th>2</th>\n",
              "      <td>https://m.media-amazon.com/images/I/31JTWCFfs8...</td>\n",
              "      <td>max-width:679px;max-height:475px;</td>\n",
              "      <td>ELEGANTE Classic HD Polarized Wayfarer Sunglas...</td>\n",
              "      <td>Not available</td>\n",
              "      <td>Not available</td>\n",
              "      <td>Back to results</td>\n",
              "      <td>Not Available</td>\n",
              "      <td>Not Available</td>\n",
              "      <td>https://www.amazon.in/ELEGANTE-Polarized-Wayfa...</td>\n",
              "    </tr>\n",
              "    <tr>\n",
              "      <th>3</th>\n",
              "      <td>https://m.media-amazon.com/images/I/413HgKzeYO...</td>\n",
              "      <td>max-width:679px;max-height:679px;</td>\n",
              "      <td>Stylish Solid Brown Long Top with 3/4th Sleeve...</td>\n",
              "      <td>2024-02-Clothing &amp; Accessories</td>\n",
              "      <td>Tops</td>\n",
              "      <td>Tops</td>\n",
              "      <td>Not Available</td>\n",
              "      <td>Not Available</td>\n",
              "      <td>https://www.amazon.in/Stylish-Solid-Brown-Slee...</td>\n",
              "    </tr>\n",
              "    <tr>\n",
              "      <th>4</th>\n",
              "      <td>https://m.media-amazon.com/images/I/41iVCJUFDI...</td>\n",
              "      <td>max-width:659px;max-height:879px;</td>\n",
              "      <td>Wedani Women's Casual Short Sleeves Round Neck...</td>\n",
              "      <td>2024-02-Clothing &amp; Accessories</td>\n",
              "      <td>Tops</td>\n",
              "      <td>Tops</td>\n",
              "      <td>Not Available</td>\n",
              "      <td>Not Available</td>\n",
              "      <td>https://www.amazon.in/Wedani-Womens-Casual-Sle...</td>\n",
              "    </tr>\n",
              "  </tbody>\n",
              "</table>\n",
              "</div>\n",
              "    <div class=\"colab-df-buttons\">\n",
              "\n",
              "  <div class=\"colab-df-container\">\n",
              "    <button class=\"colab-df-convert\" onclick=\"convertToInteractive('df-53361d21-f254-4d1a-a808-6d1944df47f8')\"\n",
              "            title=\"Convert this dataframe to an interactive table.\"\n",
              "            style=\"display:none;\">\n",
              "\n",
              "  <svg xmlns=\"http://www.w3.org/2000/svg\" height=\"24px\" viewBox=\"0 -960 960 960\">\n",
              "    <path d=\"M120-120v-720h720v720H120Zm60-500h600v-160H180v160Zm220 220h160v-160H400v160Zm0 220h160v-160H400v160ZM180-400h160v-160H180v160Zm440 0h160v-160H620v160ZM180-180h160v-160H180v160Zm440 0h160v-160H620v160Z\"/>\n",
              "  </svg>\n",
              "    </button>\n",
              "\n",
              "  <style>\n",
              "    .colab-df-container {\n",
              "      display:flex;\n",
              "      gap: 12px;\n",
              "    }\n",
              "\n",
              "    .colab-df-convert {\n",
              "      background-color: #E8F0FE;\n",
              "      border: none;\n",
              "      border-radius: 50%;\n",
              "      cursor: pointer;\n",
              "      display: none;\n",
              "      fill: #1967D2;\n",
              "      height: 32px;\n",
              "      padding: 0 0 0 0;\n",
              "      width: 32px;\n",
              "    }\n",
              "\n",
              "    .colab-df-convert:hover {\n",
              "      background-color: #E2EBFA;\n",
              "      box-shadow: 0px 1px 2px rgba(60, 64, 67, 0.3), 0px 1px 3px 1px rgba(60, 64, 67, 0.15);\n",
              "      fill: #174EA6;\n",
              "    }\n",
              "\n",
              "    .colab-df-buttons div {\n",
              "      margin-bottom: 4px;\n",
              "    }\n",
              "\n",
              "    [theme=dark] .colab-df-convert {\n",
              "      background-color: #3B4455;\n",
              "      fill: #D2E3FC;\n",
              "    }\n",
              "\n",
              "    [theme=dark] .colab-df-convert:hover {\n",
              "      background-color: #434B5C;\n",
              "      box-shadow: 0px 1px 3px 1px rgba(0, 0, 0, 0.15);\n",
              "      filter: drop-shadow(0px 1px 2px rgba(0, 0, 0, 0.3));\n",
              "      fill: #FFFFFF;\n",
              "    }\n",
              "  </style>\n",
              "\n",
              "    <script>\n",
              "      const buttonEl =\n",
              "        document.querySelector('#df-53361d21-f254-4d1a-a808-6d1944df47f8 button.colab-df-convert');\n",
              "      buttonEl.style.display =\n",
              "        google.colab.kernel.accessAllowed ? 'block' : 'none';\n",
              "\n",
              "      async function convertToInteractive(key) {\n",
              "        const element = document.querySelector('#df-53361d21-f254-4d1a-a808-6d1944df47f8');\n",
              "        const dataTable =\n",
              "          await google.colab.kernel.invokeFunction('convertToInteractive',\n",
              "                                                    [key], {});\n",
              "        if (!dataTable) return;\n",
              "\n",
              "        const docLinkHtml = 'Like what you see? Visit the ' +\n",
              "          '<a target=\"_blank\" href=https://colab.research.google.com/notebooks/data_table.ipynb>data table notebook</a>'\n",
              "          + ' to learn more about interactive tables.';\n",
              "        element.innerHTML = '';\n",
              "        dataTable['output_type'] = 'display_data';\n",
              "        await google.colab.output.renderOutput(dataTable, element);\n",
              "        const docLink = document.createElement('div');\n",
              "        docLink.innerHTML = docLinkHtml;\n",
              "        element.appendChild(docLink);\n",
              "      }\n",
              "    </script>\n",
              "  </div>\n",
              "\n",
              "\n",
              "<div id=\"df-85db0c01-77d8-478c-a10b-1ee70a5d78b4\">\n",
              "  <button class=\"colab-df-quickchart\" onclick=\"quickchart('df-85db0c01-77d8-478c-a10b-1ee70a5d78b4')\"\n",
              "            title=\"Suggest charts\"\n",
              "            style=\"display:none;\">\n",
              "\n",
              "<svg xmlns=\"http://www.w3.org/2000/svg\" height=\"24px\"viewBox=\"0 0 24 24\"\n",
              "     width=\"24px\">\n",
              "    <g>\n",
              "        <path d=\"M19 3H5c-1.1 0-2 .9-2 2v14c0 1.1.9 2 2 2h14c1.1 0 2-.9 2-2V5c0-1.1-.9-2-2-2zM9 17H7v-7h2v7zm4 0h-2V7h2v10zm4 0h-2v-4h2v4z\"/>\n",
              "    </g>\n",
              "</svg>\n",
              "  </button>\n",
              "\n",
              "<style>\n",
              "  .colab-df-quickchart {\n",
              "      --bg-color: #E8F0FE;\n",
              "      --fill-color: #1967D2;\n",
              "      --hover-bg-color: #E2EBFA;\n",
              "      --hover-fill-color: #174EA6;\n",
              "      --disabled-fill-color: #AAA;\n",
              "      --disabled-bg-color: #DDD;\n",
              "  }\n",
              "\n",
              "  [theme=dark] .colab-df-quickchart {\n",
              "      --bg-color: #3B4455;\n",
              "      --fill-color: #D2E3FC;\n",
              "      --hover-bg-color: #434B5C;\n",
              "      --hover-fill-color: #FFFFFF;\n",
              "      --disabled-bg-color: #3B4455;\n",
              "      --disabled-fill-color: #666;\n",
              "  }\n",
              "\n",
              "  .colab-df-quickchart {\n",
              "    background-color: var(--bg-color);\n",
              "    border: none;\n",
              "    border-radius: 50%;\n",
              "    cursor: pointer;\n",
              "    display: none;\n",
              "    fill: var(--fill-color);\n",
              "    height: 32px;\n",
              "    padding: 0;\n",
              "    width: 32px;\n",
              "  }\n",
              "\n",
              "  .colab-df-quickchart:hover {\n",
              "    background-color: var(--hover-bg-color);\n",
              "    box-shadow: 0 1px 2px rgba(60, 64, 67, 0.3), 0 1px 3px 1px rgba(60, 64, 67, 0.15);\n",
              "    fill: var(--button-hover-fill-color);\n",
              "  }\n",
              "\n",
              "  .colab-df-quickchart-complete:disabled,\n",
              "  .colab-df-quickchart-complete:disabled:hover {\n",
              "    background-color: var(--disabled-bg-color);\n",
              "    fill: var(--disabled-fill-color);\n",
              "    box-shadow: none;\n",
              "  }\n",
              "\n",
              "  .colab-df-spinner {\n",
              "    border: 2px solid var(--fill-color);\n",
              "    border-color: transparent;\n",
              "    border-bottom-color: var(--fill-color);\n",
              "    animation:\n",
              "      spin 1s steps(1) infinite;\n",
              "  }\n",
              "\n",
              "  @keyframes spin {\n",
              "    0% {\n",
              "      border-color: transparent;\n",
              "      border-bottom-color: var(--fill-color);\n",
              "      border-left-color: var(--fill-color);\n",
              "    }\n",
              "    20% {\n",
              "      border-color: transparent;\n",
              "      border-left-color: var(--fill-color);\n",
              "      border-top-color: var(--fill-color);\n",
              "    }\n",
              "    30% {\n",
              "      border-color: transparent;\n",
              "      border-left-color: var(--fill-color);\n",
              "      border-top-color: var(--fill-color);\n",
              "      border-right-color: var(--fill-color);\n",
              "    }\n",
              "    40% {\n",
              "      border-color: transparent;\n",
              "      border-right-color: var(--fill-color);\n",
              "      border-top-color: var(--fill-color);\n",
              "    }\n",
              "    60% {\n",
              "      border-color: transparent;\n",
              "      border-right-color: var(--fill-color);\n",
              "    }\n",
              "    80% {\n",
              "      border-color: transparent;\n",
              "      border-right-color: var(--fill-color);\n",
              "      border-bottom-color: var(--fill-color);\n",
              "    }\n",
              "    90% {\n",
              "      border-color: transparent;\n",
              "      border-bottom-color: var(--fill-color);\n",
              "    }\n",
              "  }\n",
              "</style>\n",
              "\n",
              "  <script>\n",
              "    async function quickchart(key) {\n",
              "      const quickchartButtonEl =\n",
              "        document.querySelector('#' + key + ' button');\n",
              "      quickchartButtonEl.disabled = true;  // To prevent multiple clicks.\n",
              "      quickchartButtonEl.classList.add('colab-df-spinner');\n",
              "      try {\n",
              "        const charts = await google.colab.kernel.invokeFunction(\n",
              "            'suggestCharts', [key], {});\n",
              "      } catch (error) {\n",
              "        console.error('Error during call to suggestCharts:', error);\n",
              "      }\n",
              "      quickchartButtonEl.classList.remove('colab-df-spinner');\n",
              "      quickchartButtonEl.classList.add('colab-df-quickchart-complete');\n",
              "    }\n",
              "    (() => {\n",
              "      let quickchartButtonEl =\n",
              "        document.querySelector('#df-85db0c01-77d8-478c-a10b-1ee70a5d78b4 button');\n",
              "      quickchartButtonEl.style.display =\n",
              "        google.colab.kernel.accessAllowed ? 'block' : 'none';\n",
              "    })();\n",
              "  </script>\n",
              "</div>\n",
              "\n",
              "    </div>\n",
              "  </div>\n"
            ],
            "application/vnd.google.colaboratory.intrinsic+json": {
              "type": "dataframe",
              "variable_name": "amznDiv",
              "summary": "{\n  \"name\": \"amznDiv\",\n  \"rows\": 7419,\n  \"fields\": [\n    {\n      \"column\": \"Image_Link\",\n      \"properties\": {\n        \"dtype\": \"string\",\n        \"num_unique_values\": 5739,\n        \"samples\": [\n          \"https://m.media-amazon.com/images/I/41HJzet8MfL._SX342_SY445_.jpg\",\n          \"https://m.media-amazon.com/images/I/41UosofcyML._SX342_SY445_.jpg\",\n          \"https://m.media-amazon.com/images/I/31r5r2KdK-L._SX342_SY445_.jpg\"\n        ],\n        \"semantic_type\": \"\",\n        \"description\": \"\"\n      }\n    },\n    {\n      \"column\": \"Image_Size\",\n      \"properties\": {\n        \"dtype\": \"category\",\n        \"num_unique_values\": 634,\n        \"samples\": [\n          \"max-width:558px;max-height:879px;\",\n          \"max-width:608px;max-height:879px;\",\n          \"max-width:625px;max-height:879px;\"\n        ],\n        \"semantic_type\": \"\",\n        \"description\": \"\"\n      }\n    },\n    {\n      \"column\": \"Product_Name\",\n      \"properties\": {\n        \"dtype\": \"string\",\n        \"num_unique_values\": 4994,\n        \"samples\": [\n          \"Zeel Clothing Women's Velvet Semi stitched Lehenga Choli (7702-Wedding-Bridal-Lehenga-Latest_Purple_Free Size)\",\n          \"Satya Paul Red Silk Crepe Silk Printed Casual Festive Party Wedding Saree for Women\",\n          \"Maaesa Women Loose Fit Casual Shirt\"\n        ],\n        \"semantic_type\": \"\",\n        \"description\": \"\"\n      }\n    },\n    {\n      \"column\": \"Main_Category\",\n      \"properties\": {\n        \"dtype\": \"category\",\n        \"num_unique_values\": 42,\n        \"samples\": [\n          \"Party Sarees-Clothing & Accessories\",\n          \"Chanderi Sarees-Clothing & Accessories\",\n          \"Handbags, Purses & Clutches-Shoes & Handbags\"\n        ],\n        \"semantic_type\": \"\",\n        \"description\": \"\"\n      }\n    },\n    {\n      \"column\": \"Sub_Category_Name\",\n      \"properties\": {\n        \"dtype\": \"category\",\n        \"num_unique_values\": 11,\n        \"samples\": [\n          \"Potlis & Wristlets\",\n          \"Not available\",\n          \"Sunglasses & Spectacle Frames\"\n        ],\n        \"semantic_type\": \"\",\n        \"description\": \"\"\n      }\n    },\n    {\n      \"column\": \"SubCategory_Product_Name\",\n      \"properties\": {\n        \"dtype\": \"category\",\n        \"num_unique_values\": 59,\n        \"samples\": [\n          \"Back to results\",\n          \"Ethnic Wear\",\n          \"Ready to wear sarees\"\n        ],\n        \"semantic_type\": \"\",\n        \"description\": \"\"\n      }\n    },\n    {\n      \"column\": \"Product_Rating\",\n      \"properties\": {\n        \"dtype\": \"category\",\n        \"num_unique_values\": 1,\n        \"samples\": [\n          \"Not Available\"\n        ],\n        \"semantic_type\": \"\",\n        \"description\": \"\"\n      }\n    },\n    {\n      \"column\": \"Product_Num_Reviews\",\n      \"properties\": {\n        \"dtype\": \"category\",\n        \"num_unique_values\": 1,\n        \"samples\": [\n          \"Not Available\"\n        ],\n        \"semantic_type\": \"\",\n        \"description\": \"\"\n      }\n    },\n    {\n      \"column\": \"Product_Link\",\n      \"properties\": {\n        \"dtype\": \"string\",\n        \"num_unique_values\": 7419,\n        \"samples\": [\n          \"https://www.amazon.in/Satrani-Bandhani-Printed-Unstitched-2362SR571_Black/dp/B09W98K9JK/ref=sr_1_30?dib=eyJ2IjoiMSJ9.f1OmqwRi1YYkqoQobpRyIfHrHhkaPz08A52JWGnP_CWeALVyYIdcytRN_a6drBurY43H2bM_be9Y1sSXqBFWhIznwGPJUbOWJSuOYVA9VZ_BIaGx0UIQb9CdK5Fd-669sW7B_UTBKjsVwRxbgZXMaQbbN0ijY_ZWyLGAVj9jDYJQtwS1mtim6pi0ngif2jLV22FlRszO9S_k3LhSGQvq3qOmC7Pmkrrjz3H3p9m1iH8Pai87Adtdb8SxBOCzVwG1TB7dzZct-PfEduL7pKOsH-KxJtzSGDf0cXN47B1VvA4.U3dyWsw5iv7WLlCj6EymscaFxg2-kg3aS-LyKT2LtJk&dib_tag=se&pf_rd_i=1968256031&pf_rd_m=A1VBAL9TL5WCBF&pf_rd_p=fe63dca2-cd69-4753-94b6-8530298730e0&pf_rd_r=KFSYEFF79SRC4KJ3QPJ1&pf_rd_s=merchandised-search-6&qid=1715149222&refinements=p_85%3A10440599031&rnid=10440598031&rps=1&s=apparel&sr=1-30\"\n        ],\n        \"semantic_type\": \"\",\n        \"description\": \"\"\n      }\n    }\n  ]\n}"
            }
          },
          "metadata": {},
          "execution_count": 11
        }
      ]
    },
    {
      "cell_type": "markdown",
      "source": [
        "- Checking shape the dataset."
      ],
      "metadata": {
        "id": "R4xBxvyJU7BK"
      }
    },
    {
      "cell_type": "code",
      "source": [
        "amznDiv.shape"
      ],
      "metadata": {
        "colab": {
          "base_uri": "https://localhost:8080/"
        },
        "outputId": "9c5509b9-d2f4-4db2-ce91-de1cfa753e32",
        "id": "lqbmrwJPTbAU"
      },
      "execution_count": 12,
      "outputs": [
        {
          "output_type": "execute_result",
          "data": {
            "text/plain": [
              "(7419, 9)"
            ]
          },
          "metadata": {},
          "execution_count": 12
        }
      ]
    },
    {
      "cell_type": "markdown",
      "source": [
        "- Checking data type of features."
      ],
      "metadata": {
        "id": "BCCp_u_CVFdc"
      }
    },
    {
      "cell_type": "code",
      "source": [
        "amznDiv.info()"
      ],
      "metadata": {
        "colab": {
          "base_uri": "https://localhost:8080/"
        },
        "outputId": "7229e4c3-1f34-4ef7-a448-d35e4d0dd71e",
        "id": "lwDJE_jKTbAV"
      },
      "execution_count": 13,
      "outputs": [
        {
          "output_type": "stream",
          "name": "stdout",
          "text": [
            "<class 'pandas.core.frame.DataFrame'>\n",
            "RangeIndex: 7419 entries, 0 to 7418\n",
            "Data columns (total 9 columns):\n",
            " #   Column                    Non-Null Count  Dtype \n",
            "---  ------                    --------------  ----- \n",
            " 0   Image_Link                7095 non-null   object\n",
            " 1   Image_Size                7095 non-null   object\n",
            " 2   Product_Name              7419 non-null   object\n",
            " 3   Main_Category             7419 non-null   object\n",
            " 4   Sub_Category_Name         7419 non-null   object\n",
            " 5   SubCategory_Product_Name  7419 non-null   object\n",
            " 6   Product_Rating            7419 non-null   object\n",
            " 7   Product_Num_Reviews       7419 non-null   object\n",
            " 8   Product_Link              7419 non-null   object\n",
            "dtypes: object(9)\n",
            "memory usage: 521.8+ KB\n"
          ]
        }
      ]
    },
    {
      "cell_type": "markdown",
      "source": [
        "- Checking for null values."
      ],
      "metadata": {
        "id": "ONoAQ0rFVHIb"
      }
    },
    {
      "cell_type": "code",
      "source": [
        "amznDiv.isnull().sum()"
      ],
      "metadata": {
        "colab": {
          "base_uri": "https://localhost:8080/"
        },
        "outputId": "523e5305-fa41-4cfa-bb70-e06dcd087c1e",
        "id": "yO1XTVfnTbAV"
      },
      "execution_count": 14,
      "outputs": [
        {
          "output_type": "execute_result",
          "data": {
            "text/plain": [
              "Image_Link                  324\n",
              "Image_Size                  324\n",
              "Product_Name                  0\n",
              "Main_Category                 0\n",
              "Sub_Category_Name             0\n",
              "SubCategory_Product_Name      0\n",
              "Product_Rating                0\n",
              "Product_Num_Reviews           0\n",
              "Product_Link                  0\n",
              "dtype: int64"
            ]
          },
          "metadata": {},
          "execution_count": 14
        }
      ]
    },
    {
      "cell_type": "markdown",
      "source": [
        "## 2. Pre=processing dataset"
      ],
      "metadata": {
        "id": "08fgKW9KVafg"
      }
    },
    {
      "cell_type": "code",
      "source": [],
      "metadata": {
        "id": "-VHSkztqSlIt"
      },
      "execution_count": null,
      "outputs": []
    }
  ]
}