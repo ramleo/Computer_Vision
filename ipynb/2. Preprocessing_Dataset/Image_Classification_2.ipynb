{
  "nbformat": 4,
  "nbformat_minor": 0,
  "metadata": {
    "colab": {
      "provenance": [],
      "toc_visible": true
    },
    "kernelspec": {
      "name": "python3",
      "display_name": "Python 3"
    },
    "language_info": {
      "name": "python"
    }
  },
  "cells": [
    {
      "cell_type": "markdown",
      "source": [
        "## 1. Import libraries and dataset"
      ],
      "metadata": {
        "id": "p6rYGXS8UktJ"
      }
    },
    {
      "cell_type": "markdown",
      "source": [
        "- Import relevant libraries."
      ],
      "metadata": {
        "id": "Ap2y-6TmVSBt"
      }
    },
    {
      "cell_type": "code",
      "execution_count": 1,
      "metadata": {
        "id": "35ln9fVlQtUs"
      },
      "outputs": [],
      "source": [
        "import pandas as pd\n",
        "import numpy as np\n",
        "import matplotlib.pyplot as plt"
      ]
    },
    {
      "cell_type": "markdown",
      "source": [
        "- Opening a zip file."
      ],
      "metadata": {
        "id": "7zD2dWGdUZpv"
      }
    },
    {
      "cell_type": "code",
      "source": [
        "!unzip \"/content/amzIndWomen.zip\" -d \"/content/amazon/\""
      ],
      "metadata": {
        "colab": {
          "base_uri": "https://localhost:8080/"
        },
        "id": "IfEAykXBTupw",
        "outputId": "fdd555b2-2c5c-47e7-e716-d0ff478d1f89"
      },
      "execution_count": 2,
      "outputs": [
        {
          "output_type": "stream",
          "name": "stdout",
          "text": [
            "Archive:  /content/amzIndWomen.zip\n",
            "  inflating: /content/amazon/amzIndWomenClothDiv_Main.csv  \n",
            "  inflating: /content/amazon/amzIndWomenClothH2_Main.csv  \n",
            "  inflating: /content/amazon/amzIndWomenClothLi_Main.csv  \n"
          ]
        }
      ]
    },
    {
      "cell_type": "markdown",
      "source": [
        "- Importing the dataset."
      ],
      "metadata": {
        "id": "2nasN-kTUddL"
      }
    },
    {
      "cell_type": "code",
      "source": [
        "amznH2 = pd.read_csv(\"/content/amazon/amzIndWomenClothH2_Main.csv\")\n",
        "amznLi = pd.read_csv(\"/content/amazon/amzIndWomenClothLi_Main.csv\")\n",
        "amznDiv = pd.read_csv(\"/content/amazon/amzIndWomenClothDiv_Main.csv\")"
      ],
      "metadata": {
        "id": "uvG5E8gURH3_"
      },
      "execution_count": 3,
      "outputs": []
    },
    {
      "cell_type": "markdown",
      "source": [
        "- Amazon Header 2 (h2) dataset."
      ],
      "metadata": {
        "id": "YD3Ec-fXSsWQ"
      }
    },
    {
      "cell_type": "code",
      "source": [
        "amznH2.head()"
      ],
      "metadata": {
        "colab": {
          "base_uri": "https://localhost:8080/",
          "height": 521
        },
        "id": "Q5biSf1WSTnT",
        "outputId": "164153ab-ff08-4f37-e9e0-5e6713157ffd"
      },
      "execution_count": 4,
      "outputs": [
        {
          "output_type": "execute_result",
          "data": {
            "text/plain": [
              "                                          Image_Link  \\\n",
              "0  https://m.media-amazon.com/images/I/31J1BW062i...   \n",
              "1  https://m.media-amazon.com/images/I/41N6PXp68r...   \n",
              "2  https://m.media-amazon.com/images/I/31sbJEN0qh...   \n",
              "3  https://m.media-amazon.com/images/I/41jUvC6qBt...   \n",
              "4  https://m.media-amazon.com/images/I/31R30Fl8kz...   \n",
              "\n",
              "                          Image_Size  \\\n",
              "0  max-width:494px;max-height:879px;   \n",
              "1  max-width:408px;max-height:612px;   \n",
              "2  max-width:427px;max-height:500px;   \n",
              "3  max-width:679px;max-height:679px;   \n",
              "4  max-width:659px;max-height:879px;   \n",
              "\n",
              "                                        Product_Name  \\\n",
              "0  CHUKCHUK Pink Floral Maternity Kaftan Kurti fo...   \n",
              "1  Miss Meoww Women's Anarkali Maternity Kurta |E...   \n",
              "2  Mabron Wet Off full length Hood rain coat comf...   \n",
              "3  MomToBe Women's Cotton Maternity Kurta/Pregnan...   \n",
              "4  DUMMY SHAPE Women's Rayon Anarkali Maternity D...   \n",
              "\n",
              "                  Main_Category Sub_Category_Name SubCategory_Product_Name  \\\n",
              "0  Women-Clothing & Accessories         Maternity              Ethnic Wear   \n",
              "1  Women-Clothing & Accessories         Maternity              Ethnic Wear   \n",
              "2  Women-Clothing & Accessories      Western Wear                 Rainwear   \n",
              "3  Women-Clothing & Accessories         Maternity              Ethnic Wear   \n",
              "4  Women-Clothing & Accessories         Maternity              Ethnic Wear   \n",
              "\n",
              "  Product_Rating Product_Num_Reviews  \\\n",
              "0  Not Available       Not Available   \n",
              "1  Not Available       Not Available   \n",
              "2  Not Available       Not Available   \n",
              "3  Not Available       Not Available   \n",
              "4  Not Available       Not Available   \n",
              "\n",
              "                                        Product_Link  \n",
              "0  https://www.amazon.in/CHUKCHUK-Floral-Maternit...  \n",
              "1  https://www.amazon.in/Anarkali-Maternity-Breas...  \n",
              "2  https://www.amazon.in/sspa/click?ie=UTF8&spc=M...  \n",
              "3  https://www.amazon.in/MomToBe-Maternity-Pregna...  \n",
              "4  https://www.amazon.in/DUMMY-SHAPE-Maternity-DS...  "
            ],
            "text/html": [
              "\n",
              "  <div id=\"df-c2208b2a-10a4-455f-849d-6d537d1aef2c\" class=\"colab-df-container\">\n",
              "    <div>\n",
              "<style scoped>\n",
              "    .dataframe tbody tr th:only-of-type {\n",
              "        vertical-align: middle;\n",
              "    }\n",
              "\n",
              "    .dataframe tbody tr th {\n",
              "        vertical-align: top;\n",
              "    }\n",
              "\n",
              "    .dataframe thead th {\n",
              "        text-align: right;\n",
              "    }\n",
              "</style>\n",
              "<table border=\"1\" class=\"dataframe\">\n",
              "  <thead>\n",
              "    <tr style=\"text-align: right;\">\n",
              "      <th></th>\n",
              "      <th>Image_Link</th>\n",
              "      <th>Image_Size</th>\n",
              "      <th>Product_Name</th>\n",
              "      <th>Main_Category</th>\n",
              "      <th>Sub_Category_Name</th>\n",
              "      <th>SubCategory_Product_Name</th>\n",
              "      <th>Product_Rating</th>\n",
              "      <th>Product_Num_Reviews</th>\n",
              "      <th>Product_Link</th>\n",
              "    </tr>\n",
              "  </thead>\n",
              "  <tbody>\n",
              "    <tr>\n",
              "      <th>0</th>\n",
              "      <td>https://m.media-amazon.com/images/I/31J1BW062i...</td>\n",
              "      <td>max-width:494px;max-height:879px;</td>\n",
              "      <td>CHUKCHUK Pink Floral Maternity Kaftan Kurti fo...</td>\n",
              "      <td>Women-Clothing &amp; Accessories</td>\n",
              "      <td>Maternity</td>\n",
              "      <td>Ethnic Wear</td>\n",
              "      <td>Not Available</td>\n",
              "      <td>Not Available</td>\n",
              "      <td>https://www.amazon.in/CHUKCHUK-Floral-Maternit...</td>\n",
              "    </tr>\n",
              "    <tr>\n",
              "      <th>1</th>\n",
              "      <td>https://m.media-amazon.com/images/I/41N6PXp68r...</td>\n",
              "      <td>max-width:408px;max-height:612px;</td>\n",
              "      <td>Miss Meoww Women's Anarkali Maternity Kurta |E...</td>\n",
              "      <td>Women-Clothing &amp; Accessories</td>\n",
              "      <td>Maternity</td>\n",
              "      <td>Ethnic Wear</td>\n",
              "      <td>Not Available</td>\n",
              "      <td>Not Available</td>\n",
              "      <td>https://www.amazon.in/Anarkali-Maternity-Breas...</td>\n",
              "    </tr>\n",
              "    <tr>\n",
              "      <th>2</th>\n",
              "      <td>https://m.media-amazon.com/images/I/31sbJEN0qh...</td>\n",
              "      <td>max-width:427px;max-height:500px;</td>\n",
              "      <td>Mabron Wet Off full length Hood rain coat comf...</td>\n",
              "      <td>Women-Clothing &amp; Accessories</td>\n",
              "      <td>Western Wear</td>\n",
              "      <td>Rainwear</td>\n",
              "      <td>Not Available</td>\n",
              "      <td>Not Available</td>\n",
              "      <td>https://www.amazon.in/sspa/click?ie=UTF8&amp;spc=M...</td>\n",
              "    </tr>\n",
              "    <tr>\n",
              "      <th>3</th>\n",
              "      <td>https://m.media-amazon.com/images/I/41jUvC6qBt...</td>\n",
              "      <td>max-width:679px;max-height:679px;</td>\n",
              "      <td>MomToBe Women's Cotton Maternity Kurta/Pregnan...</td>\n",
              "      <td>Women-Clothing &amp; Accessories</td>\n",
              "      <td>Maternity</td>\n",
              "      <td>Ethnic Wear</td>\n",
              "      <td>Not Available</td>\n",
              "      <td>Not Available</td>\n",
              "      <td>https://www.amazon.in/MomToBe-Maternity-Pregna...</td>\n",
              "    </tr>\n",
              "    <tr>\n",
              "      <th>4</th>\n",
              "      <td>https://m.media-amazon.com/images/I/31R30Fl8kz...</td>\n",
              "      <td>max-width:659px;max-height:879px;</td>\n",
              "      <td>DUMMY SHAPE Women's Rayon Anarkali Maternity D...</td>\n",
              "      <td>Women-Clothing &amp; Accessories</td>\n",
              "      <td>Maternity</td>\n",
              "      <td>Ethnic Wear</td>\n",
              "      <td>Not Available</td>\n",
              "      <td>Not Available</td>\n",
              "      <td>https://www.amazon.in/DUMMY-SHAPE-Maternity-DS...</td>\n",
              "    </tr>\n",
              "  </tbody>\n",
              "</table>\n",
              "</div>\n",
              "    <div class=\"colab-df-buttons\">\n",
              "\n",
              "  <div class=\"colab-df-container\">\n",
              "    <button class=\"colab-df-convert\" onclick=\"convertToInteractive('df-c2208b2a-10a4-455f-849d-6d537d1aef2c')\"\n",
              "            title=\"Convert this dataframe to an interactive table.\"\n",
              "            style=\"display:none;\">\n",
              "\n",
              "  <svg xmlns=\"http://www.w3.org/2000/svg\" height=\"24px\" viewBox=\"0 -960 960 960\">\n",
              "    <path d=\"M120-120v-720h720v720H120Zm60-500h600v-160H180v160Zm220 220h160v-160H400v160Zm0 220h160v-160H400v160ZM180-400h160v-160H180v160Zm440 0h160v-160H620v160ZM180-180h160v-160H180v160Zm440 0h160v-160H620v160Z\"/>\n",
              "  </svg>\n",
              "    </button>\n",
              "\n",
              "  <style>\n",
              "    .colab-df-container {\n",
              "      display:flex;\n",
              "      gap: 12px;\n",
              "    }\n",
              "\n",
              "    .colab-df-convert {\n",
              "      background-color: #E8F0FE;\n",
              "      border: none;\n",
              "      border-radius: 50%;\n",
              "      cursor: pointer;\n",
              "      display: none;\n",
              "      fill: #1967D2;\n",
              "      height: 32px;\n",
              "      padding: 0 0 0 0;\n",
              "      width: 32px;\n",
              "    }\n",
              "\n",
              "    .colab-df-convert:hover {\n",
              "      background-color: #E2EBFA;\n",
              "      box-shadow: 0px 1px 2px rgba(60, 64, 67, 0.3), 0px 1px 3px 1px rgba(60, 64, 67, 0.15);\n",
              "      fill: #174EA6;\n",
              "    }\n",
              "\n",
              "    .colab-df-buttons div {\n",
              "      margin-bottom: 4px;\n",
              "    }\n",
              "\n",
              "    [theme=dark] .colab-df-convert {\n",
              "      background-color: #3B4455;\n",
              "      fill: #D2E3FC;\n",
              "    }\n",
              "\n",
              "    [theme=dark] .colab-df-convert:hover {\n",
              "      background-color: #434B5C;\n",
              "      box-shadow: 0px 1px 3px 1px rgba(0, 0, 0, 0.15);\n",
              "      filter: drop-shadow(0px 1px 2px rgba(0, 0, 0, 0.3));\n",
              "      fill: #FFFFFF;\n",
              "    }\n",
              "  </style>\n",
              "\n",
              "    <script>\n",
              "      const buttonEl =\n",
              "        document.querySelector('#df-c2208b2a-10a4-455f-849d-6d537d1aef2c button.colab-df-convert');\n",
              "      buttonEl.style.display =\n",
              "        google.colab.kernel.accessAllowed ? 'block' : 'none';\n",
              "\n",
              "      async function convertToInteractive(key) {\n",
              "        const element = document.querySelector('#df-c2208b2a-10a4-455f-849d-6d537d1aef2c');\n",
              "        const dataTable =\n",
              "          await google.colab.kernel.invokeFunction('convertToInteractive',\n",
              "                                                    [key], {});\n",
              "        if (!dataTable) return;\n",
              "\n",
              "        const docLinkHtml = 'Like what you see? Visit the ' +\n",
              "          '<a target=\"_blank\" href=https://colab.research.google.com/notebooks/data_table.ipynb>data table notebook</a>'\n",
              "          + ' to learn more about interactive tables.';\n",
              "        element.innerHTML = '';\n",
              "        dataTable['output_type'] = 'display_data';\n",
              "        await google.colab.output.renderOutput(dataTable, element);\n",
              "        const docLink = document.createElement('div');\n",
              "        docLink.innerHTML = docLinkHtml;\n",
              "        element.appendChild(docLink);\n",
              "      }\n",
              "    </script>\n",
              "  </div>\n",
              "\n",
              "\n",
              "<div id=\"df-7088a842-4e45-4b04-9c51-5e7a0df3c692\">\n",
              "  <button class=\"colab-df-quickchart\" onclick=\"quickchart('df-7088a842-4e45-4b04-9c51-5e7a0df3c692')\"\n",
              "            title=\"Suggest charts\"\n",
              "            style=\"display:none;\">\n",
              "\n",
              "<svg xmlns=\"http://www.w3.org/2000/svg\" height=\"24px\"viewBox=\"0 0 24 24\"\n",
              "     width=\"24px\">\n",
              "    <g>\n",
              "        <path d=\"M19 3H5c-1.1 0-2 .9-2 2v14c0 1.1.9 2 2 2h14c1.1 0 2-.9 2-2V5c0-1.1-.9-2-2-2zM9 17H7v-7h2v7zm4 0h-2V7h2v10zm4 0h-2v-4h2v4z\"/>\n",
              "    </g>\n",
              "</svg>\n",
              "  </button>\n",
              "\n",
              "<style>\n",
              "  .colab-df-quickchart {\n",
              "      --bg-color: #E8F0FE;\n",
              "      --fill-color: #1967D2;\n",
              "      --hover-bg-color: #E2EBFA;\n",
              "      --hover-fill-color: #174EA6;\n",
              "      --disabled-fill-color: #AAA;\n",
              "      --disabled-bg-color: #DDD;\n",
              "  }\n",
              "\n",
              "  [theme=dark] .colab-df-quickchart {\n",
              "      --bg-color: #3B4455;\n",
              "      --fill-color: #D2E3FC;\n",
              "      --hover-bg-color: #434B5C;\n",
              "      --hover-fill-color: #FFFFFF;\n",
              "      --disabled-bg-color: #3B4455;\n",
              "      --disabled-fill-color: #666;\n",
              "  }\n",
              "\n",
              "  .colab-df-quickchart {\n",
              "    background-color: var(--bg-color);\n",
              "    border: none;\n",
              "    border-radius: 50%;\n",
              "    cursor: pointer;\n",
              "    display: none;\n",
              "    fill: var(--fill-color);\n",
              "    height: 32px;\n",
              "    padding: 0;\n",
              "    width: 32px;\n",
              "  }\n",
              "\n",
              "  .colab-df-quickchart:hover {\n",
              "    background-color: var(--hover-bg-color);\n",
              "    box-shadow: 0 1px 2px rgba(60, 64, 67, 0.3), 0 1px 3px 1px rgba(60, 64, 67, 0.15);\n",
              "    fill: var(--button-hover-fill-color);\n",
              "  }\n",
              "\n",
              "  .colab-df-quickchart-complete:disabled,\n",
              "  .colab-df-quickchart-complete:disabled:hover {\n",
              "    background-color: var(--disabled-bg-color);\n",
              "    fill: var(--disabled-fill-color);\n",
              "    box-shadow: none;\n",
              "  }\n",
              "\n",
              "  .colab-df-spinner {\n",
              "    border: 2px solid var(--fill-color);\n",
              "    border-color: transparent;\n",
              "    border-bottom-color: var(--fill-color);\n",
              "    animation:\n",
              "      spin 1s steps(1) infinite;\n",
              "  }\n",
              "\n",
              "  @keyframes spin {\n",
              "    0% {\n",
              "      border-color: transparent;\n",
              "      border-bottom-color: var(--fill-color);\n",
              "      border-left-color: var(--fill-color);\n",
              "    }\n",
              "    20% {\n",
              "      border-color: transparent;\n",
              "      border-left-color: var(--fill-color);\n",
              "      border-top-color: var(--fill-color);\n",
              "    }\n",
              "    30% {\n",
              "      border-color: transparent;\n",
              "      border-left-color: var(--fill-color);\n",
              "      border-top-color: var(--fill-color);\n",
              "      border-right-color: var(--fill-color);\n",
              "    }\n",
              "    40% {\n",
              "      border-color: transparent;\n",
              "      border-right-color: var(--fill-color);\n",
              "      border-top-color: var(--fill-color);\n",
              "    }\n",
              "    60% {\n",
              "      border-color: transparent;\n",
              "      border-right-color: var(--fill-color);\n",
              "    }\n",
              "    80% {\n",
              "      border-color: transparent;\n",
              "      border-right-color: var(--fill-color);\n",
              "      border-bottom-color: var(--fill-color);\n",
              "    }\n",
              "    90% {\n",
              "      border-color: transparent;\n",
              "      border-bottom-color: var(--fill-color);\n",
              "    }\n",
              "  }\n",
              "</style>\n",
              "\n",
              "  <script>\n",
              "    async function quickchart(key) {\n",
              "      const quickchartButtonEl =\n",
              "        document.querySelector('#' + key + ' button');\n",
              "      quickchartButtonEl.disabled = true;  // To prevent multiple clicks.\n",
              "      quickchartButtonEl.classList.add('colab-df-spinner');\n",
              "      try {\n",
              "        const charts = await google.colab.kernel.invokeFunction(\n",
              "            'suggestCharts', [key], {});\n",
              "      } catch (error) {\n",
              "        console.error('Error during call to suggestCharts:', error);\n",
              "      }\n",
              "      quickchartButtonEl.classList.remove('colab-df-spinner');\n",
              "      quickchartButtonEl.classList.add('colab-df-quickchart-complete');\n",
              "    }\n",
              "    (() => {\n",
              "      let quickchartButtonEl =\n",
              "        document.querySelector('#df-7088a842-4e45-4b04-9c51-5e7a0df3c692 button');\n",
              "      quickchartButtonEl.style.display =\n",
              "        google.colab.kernel.accessAllowed ? 'block' : 'none';\n",
              "    })();\n",
              "  </script>\n",
              "</div>\n",
              "\n",
              "    </div>\n",
              "  </div>\n"
            ],
            "application/vnd.google.colaboratory.intrinsic+json": {
              "type": "dataframe",
              "variable_name": "amznH2",
              "summary": "{\n  \"name\": \"amznH2\",\n  \"rows\": 24507,\n  \"fields\": [\n    {\n      \"column\": \"Image_Link\",\n      \"properties\": {\n        \"dtype\": \"category\",\n        \"num_unique_values\": 2510,\n        \"samples\": [\n          \"https://m.media-amazon.com/images/I/31TEICM-KVL._SY445_SX342_.jpg\",\n          \"https://m.media-amazon.com/images/I/311+gPjGwaL._SX342_SY445_.jpg\",\n          \"https://m.media-amazon.com/images/I/41UJK-Q+F2L._SX342_SY445_.jpg\"\n        ],\n        \"semantic_type\": \"\",\n        \"description\": \"\"\n      }\n    },\n    {\n      \"column\": \"Image_Size\",\n      \"properties\": {\n        \"dtype\": \"category\",\n        \"num_unique_values\": 541,\n        \"samples\": [\n          \"max-width:679px;max-height:870px;\",\n          \"max-width:679px;max-height:830px;\",\n          \"max-width:453px;max-height:879px;\"\n        ],\n        \"semantic_type\": \"\",\n        \"description\": \"\"\n      }\n    },\n    {\n      \"column\": \"Product_Name\",\n      \"properties\": {\n        \"dtype\": \"category\",\n        \"num_unique_values\": 3247,\n        \"samples\": [\n          \"Women's Casual 3/4 Sleeve Printed Viscose Maternity Feeding Kurti (Green, XL)-PID47173\",\n          \"Vinny's Creation Women's Floral Printed Maternity Anarkali Feeding Kurti with Zippers (Pink)\",\n          \"Magic Women's Transparent Heavy PVC for Bikers |Waterproof Rainwear|Transparent Rainsuit (Yellow Transparent)\"\n        ],\n        \"semantic_type\": \"\",\n        \"description\": \"\"\n      }\n    },\n    {\n      \"column\": \"Main_Category\",\n      \"properties\": {\n        \"dtype\": \"category\",\n        \"num_unique_values\": 2,\n        \"samples\": [\n          \"Not available\",\n          \"Women-Clothing & Accessories\"\n        ],\n        \"semantic_type\": \"\",\n        \"description\": \"\"\n      }\n    },\n    {\n      \"column\": \"Sub_Category_Name\",\n      \"properties\": {\n        \"dtype\": \"category\",\n        \"num_unique_values\": 5,\n        \"samples\": [\n          \"Western Wear\",\n          \"Ethnic Wear\"\n        ],\n        \"semantic_type\": \"\",\n        \"description\": \"\"\n      }\n    },\n    {\n      \"column\": \"SubCategory_Product_Name\",\n      \"properties\": {\n        \"dtype\": \"category\",\n        \"num_unique_values\": 8,\n        \"samples\": [\n          \"Rainwear\",\n          \"Lounge Shorts\"\n        ],\n        \"semantic_type\": \"\",\n        \"description\": \"\"\n      }\n    },\n    {\n      \"column\": \"Product_Rating\",\n      \"properties\": {\n        \"dtype\": \"category\",\n        \"num_unique_values\": 1,\n        \"samples\": [\n          \"Not Available\"\n        ],\n        \"semantic_type\": \"\",\n        \"description\": \"\"\n      }\n    },\n    {\n      \"column\": \"Product_Num_Reviews\",\n      \"properties\": {\n        \"dtype\": \"category\",\n        \"num_unique_values\": 1,\n        \"samples\": [\n          \"Not Available\"\n        ],\n        \"semantic_type\": \"\",\n        \"description\": \"\"\n      }\n    },\n    {\n      \"column\": \"Product_Link\",\n      \"properties\": {\n        \"dtype\": \"string\",\n        \"num_unique_values\": 24507,\n        \"samples\": [\n          \"https://www.amazon.in/32-Degrees-Ladies-Jacket-Black/dp/B07PGL6RGG/ref=sr_1_2383?dib=eyJ2IjoiMSJ9.FNSzEdXWy5nimu4yze1Wtomt-Nkdy0dMYMhs90Odb7zGdGsOde9_eOsdv9hs_FXimlnvk03XlctxoZ6v4JAVUh_ptlecmZ4AvA2wgFt6XCXG9yQodTuDGWELFg2wDpeQUC-ynXm9q7HlVc9mQhB02fH8slx1s45CN8D1vPPHfERyj8g6tOZdS8CpcLq0p-md7r4ZXJYeQao_-_tOgEmn0xBoldQWdSlvKpv8HRtBviZ8ImpuA8RGmtaqD38qxzWFEY2wxmOn8YlpKmKHMip4cXXS51Au8JRN7ft93gpY1Sc.gizoLDkAlaseJSX-JhMfrKyJ6ubF4WTNU9aacgnns4g&dib_tag=se&qid=1715001589&rnid=11400137031&s=apparel&sr=1-2383\"\n        ],\n        \"semantic_type\": \"\",\n        \"description\": \"\"\n      }\n    }\n  ]\n}"
            }
          },
          "metadata": {},
          "execution_count": 4
        }
      ]
    },
    {
      "cell_type": "markdown",
      "source": [
        "- Checking shape the dataset."
      ],
      "metadata": {
        "id": "Brm9p1OwUwFQ"
      }
    },
    {
      "cell_type": "code",
      "source": [
        "amznH2.shape"
      ],
      "metadata": {
        "colab": {
          "base_uri": "https://localhost:8080/"
        },
        "id": "1AzyJaKuSWr8",
        "outputId": "eb8ab720-0400-4638-b734-e649e88868f0"
      },
      "execution_count": 5,
      "outputs": [
        {
          "output_type": "execute_result",
          "data": {
            "text/plain": [
              "(24507, 9)"
            ]
          },
          "metadata": {},
          "execution_count": 5
        }
      ]
    },
    {
      "cell_type": "markdown",
      "source": [
        "- Checking data type of features."
      ],
      "metadata": {
        "id": "Op13pRhMU-MQ"
      }
    },
    {
      "cell_type": "code",
      "source": [
        "amznH2.info()"
      ],
      "metadata": {
        "colab": {
          "base_uri": "https://localhost:8080/"
        },
        "id": "-0tVqdsFSbqn",
        "outputId": "f16a4ca8-015b-4ba3-f1fc-10961d184250"
      },
      "execution_count": 6,
      "outputs": [
        {
          "output_type": "stream",
          "name": "stdout",
          "text": [
            "<class 'pandas.core.frame.DataFrame'>\n",
            "RangeIndex: 24507 entries, 0 to 24506\n",
            "Data columns (total 9 columns):\n",
            " #   Column                    Non-Null Count  Dtype \n",
            "---  ------                    --------------  ----- \n",
            " 0   Image_Link                21223 non-null  object\n",
            " 1   Image_Size                21223 non-null  object\n",
            " 2   Product_Name              24507 non-null  object\n",
            " 3   Main_Category             24507 non-null  object\n",
            " 4   Sub_Category_Name         24507 non-null  object\n",
            " 5   SubCategory_Product_Name  24507 non-null  object\n",
            " 6   Product_Rating            24507 non-null  object\n",
            " 7   Product_Num_Reviews       24507 non-null  object\n",
            " 8   Product_Link              24507 non-null  object\n",
            "dtypes: object(9)\n",
            "memory usage: 1.7+ MB\n"
          ]
        }
      ]
    },
    {
      "cell_type": "markdown",
      "source": [
        "- Checking for null values."
      ],
      "metadata": {
        "id": "BZk44EyyVPQc"
      }
    },
    {
      "cell_type": "code",
      "source": [
        "amznH2.isnull().sum()"
      ],
      "metadata": {
        "colab": {
          "base_uri": "https://localhost:8080/"
        },
        "id": "_-uwkI91SeIf",
        "outputId": "25b2c7f9-ece1-4b03-f277-cf8d3480e087"
      },
      "execution_count": 7,
      "outputs": [
        {
          "output_type": "execute_result",
          "data": {
            "text/plain": [
              "Image_Link                  3284\n",
              "Image_Size                  3284\n",
              "Product_Name                   0\n",
              "Main_Category                  0\n",
              "Sub_Category_Name              0\n",
              "SubCategory_Product_Name       0\n",
              "Product_Rating                 0\n",
              "Product_Num_Reviews            0\n",
              "Product_Link                   0\n",
              "dtype: int64"
            ]
          },
          "metadata": {},
          "execution_count": 7
        }
      ]
    },
    {
      "cell_type": "markdown",
      "source": [
        "- Amazon Li dataset."
      ],
      "metadata": {
        "id": "Lm5BgbSsS15s"
      }
    },
    {
      "cell_type": "code",
      "source": [
        "amznLi.head()"
      ],
      "metadata": {
        "colab": {
          "base_uri": "https://localhost:8080/",
          "height": 573
        },
        "outputId": "1c02eb1b-5bab-449a-99b9-cc574d0ef66d",
        "id": "AtD8hTW7S15s"
      },
      "execution_count": 8,
      "outputs": [
        {
          "output_type": "execute_result",
          "data": {
            "text/plain": [
              "                                          Image_Link  \\\n",
              "0  https://m.media-amazon.com/images/I/41ZXJJfifp...   \n",
              "1  https://m.media-amazon.com/images/I/31XFUJyqw4...   \n",
              "2  https://m.media-amazon.com/images/I/41j1fhWXsp...   \n",
              "3  https://m.media-amazon.com/images/I/31zvQinMGh...   \n",
              "4  https://m.media-amazon.com/images/I/314YgVLztm...   \n",
              "\n",
              "                          Image_Size  \\\n",
              "0  max-width:679px;max-height:679px;   \n",
              "1  max-width:586px;max-height:879px;   \n",
              "2  max-width:679px;max-height:679px;   \n",
              "3  max-width:676px;max-height:879px;   \n",
              "4  max-width:679px;max-height:679px;   \n",
              "\n",
              "                                        Product_Name  \\\n",
              "0  PALAY® Women's Summer Beach Backless Crochet H...   \n",
              "1          ROVARS Female Swimwear Solid Swim Legging   \n",
              "2  exciting Lives Glow in The Night Bikini Set - ...   \n",
              "3  CREVOX Solid Black Padded Crop Top with Black ...   \n",
              "4  Women's New Spandex and Polyester Lace Panties...   \n",
              "\n",
              "                  Main_Category Sub_Category_Name SubCategory_Product_Name  \\\n",
              "0  Women-Clothing & Accessories  Swim & Beachwear                     Tops   \n",
              "1  Women-Clothing & Accessories  Swim & Beachwear                  Bottoms   \n",
              "2  Women-Clothing & Accessories  Swim & Beachwear                     Sets   \n",
              "3  Women-Clothing & Accessories  Swim & Beachwear                     Tops   \n",
              "4  Women-Clothing & Accessories  Swim & Beachwear                  Bottoms   \n",
              "\n",
              "  Product_Rating Product_Num_Reviews  \\\n",
              "0  Not Available       Not Available   \n",
              "1  Not Available       Not Available   \n",
              "2  Not Available       Not Available   \n",
              "3  Not Available       Not Available   \n",
              "4  Not Available       Not Available   \n",
              "\n",
              "                                        Product_Link  \n",
              "0  https://www.amazon.in/PALAY%C2%AE-Backless-Cro...  \n",
              "1  https://www.amazon.in/Rovars-Womens-Lycra-Tigh...  \n",
              "2  https://www.amazon.in/exciting-Lives-Glow-Nigh...  \n",
              "3  https://www.amazon.in/CREVOX-Solid-Black-Padde...  \n",
              "4  https://www.amazon.in/Innerwear-Spandex-Polyes...  "
            ],
            "text/html": [
              "\n",
              "  <div id=\"df-7d8c6824-45ff-4765-8614-87699d607464\" class=\"colab-df-container\">\n",
              "    <div>\n",
              "<style scoped>\n",
              "    .dataframe tbody tr th:only-of-type {\n",
              "        vertical-align: middle;\n",
              "    }\n",
              "\n",
              "    .dataframe tbody tr th {\n",
              "        vertical-align: top;\n",
              "    }\n",
              "\n",
              "    .dataframe thead th {\n",
              "        text-align: right;\n",
              "    }\n",
              "</style>\n",
              "<table border=\"1\" class=\"dataframe\">\n",
              "  <thead>\n",
              "    <tr style=\"text-align: right;\">\n",
              "      <th></th>\n",
              "      <th>Image_Link</th>\n",
              "      <th>Image_Size</th>\n",
              "      <th>Product_Name</th>\n",
              "      <th>Main_Category</th>\n",
              "      <th>Sub_Category_Name</th>\n",
              "      <th>SubCategory_Product_Name</th>\n",
              "      <th>Product_Rating</th>\n",
              "      <th>Product_Num_Reviews</th>\n",
              "      <th>Product_Link</th>\n",
              "    </tr>\n",
              "  </thead>\n",
              "  <tbody>\n",
              "    <tr>\n",
              "      <th>0</th>\n",
              "      <td>https://m.media-amazon.com/images/I/41ZXJJfifp...</td>\n",
              "      <td>max-width:679px;max-height:679px;</td>\n",
              "      <td>PALAY® Women's Summer Beach Backless Crochet H...</td>\n",
              "      <td>Women-Clothing &amp; Accessories</td>\n",
              "      <td>Swim &amp; Beachwear</td>\n",
              "      <td>Tops</td>\n",
              "      <td>Not Available</td>\n",
              "      <td>Not Available</td>\n",
              "      <td>https://www.amazon.in/PALAY%C2%AE-Backless-Cro...</td>\n",
              "    </tr>\n",
              "    <tr>\n",
              "      <th>1</th>\n",
              "      <td>https://m.media-amazon.com/images/I/31XFUJyqw4...</td>\n",
              "      <td>max-width:586px;max-height:879px;</td>\n",
              "      <td>ROVARS Female Swimwear Solid Swim Legging</td>\n",
              "      <td>Women-Clothing &amp; Accessories</td>\n",
              "      <td>Swim &amp; Beachwear</td>\n",
              "      <td>Bottoms</td>\n",
              "      <td>Not Available</td>\n",
              "      <td>Not Available</td>\n",
              "      <td>https://www.amazon.in/Rovars-Womens-Lycra-Tigh...</td>\n",
              "    </tr>\n",
              "    <tr>\n",
              "      <th>2</th>\n",
              "      <td>https://m.media-amazon.com/images/I/41j1fhWXsp...</td>\n",
              "      <td>max-width:679px;max-height:679px;</td>\n",
              "      <td>exciting Lives Glow in The Night Bikini Set - ...</td>\n",
              "      <td>Women-Clothing &amp; Accessories</td>\n",
              "      <td>Swim &amp; Beachwear</td>\n",
              "      <td>Sets</td>\n",
              "      <td>Not Available</td>\n",
              "      <td>Not Available</td>\n",
              "      <td>https://www.amazon.in/exciting-Lives-Glow-Nigh...</td>\n",
              "    </tr>\n",
              "    <tr>\n",
              "      <th>3</th>\n",
              "      <td>https://m.media-amazon.com/images/I/31zvQinMGh...</td>\n",
              "      <td>max-width:676px;max-height:879px;</td>\n",
              "      <td>CREVOX Solid Black Padded Crop Top with Black ...</td>\n",
              "      <td>Women-Clothing &amp; Accessories</td>\n",
              "      <td>Swim &amp; Beachwear</td>\n",
              "      <td>Tops</td>\n",
              "      <td>Not Available</td>\n",
              "      <td>Not Available</td>\n",
              "      <td>https://www.amazon.in/CREVOX-Solid-Black-Padde...</td>\n",
              "    </tr>\n",
              "    <tr>\n",
              "      <th>4</th>\n",
              "      <td>https://m.media-amazon.com/images/I/314YgVLztm...</td>\n",
              "      <td>max-width:679px;max-height:679px;</td>\n",
              "      <td>Women's New Spandex and Polyester Lace Panties...</td>\n",
              "      <td>Women-Clothing &amp; Accessories</td>\n",
              "      <td>Swim &amp; Beachwear</td>\n",
              "      <td>Bottoms</td>\n",
              "      <td>Not Available</td>\n",
              "      <td>Not Available</td>\n",
              "      <td>https://www.amazon.in/Innerwear-Spandex-Polyes...</td>\n",
              "    </tr>\n",
              "  </tbody>\n",
              "</table>\n",
              "</div>\n",
              "    <div class=\"colab-df-buttons\">\n",
              "\n",
              "  <div class=\"colab-df-container\">\n",
              "    <button class=\"colab-df-convert\" onclick=\"convertToInteractive('df-7d8c6824-45ff-4765-8614-87699d607464')\"\n",
              "            title=\"Convert this dataframe to an interactive table.\"\n",
              "            style=\"display:none;\">\n",
              "\n",
              "  <svg xmlns=\"http://www.w3.org/2000/svg\" height=\"24px\" viewBox=\"0 -960 960 960\">\n",
              "    <path d=\"M120-120v-720h720v720H120Zm60-500h600v-160H180v160Zm220 220h160v-160H400v160Zm0 220h160v-160H400v160ZM180-400h160v-160H180v160Zm440 0h160v-160H620v160ZM180-180h160v-160H180v160Zm440 0h160v-160H620v160Z\"/>\n",
              "  </svg>\n",
              "    </button>\n",
              "\n",
              "  <style>\n",
              "    .colab-df-container {\n",
              "      display:flex;\n",
              "      gap: 12px;\n",
              "    }\n",
              "\n",
              "    .colab-df-convert {\n",
              "      background-color: #E8F0FE;\n",
              "      border: none;\n",
              "      border-radius: 50%;\n",
              "      cursor: pointer;\n",
              "      display: none;\n",
              "      fill: #1967D2;\n",
              "      height: 32px;\n",
              "      padding: 0 0 0 0;\n",
              "      width: 32px;\n",
              "    }\n",
              "\n",
              "    .colab-df-convert:hover {\n",
              "      background-color: #E2EBFA;\n",
              "      box-shadow: 0px 1px 2px rgba(60, 64, 67, 0.3), 0px 1px 3px 1px rgba(60, 64, 67, 0.15);\n",
              "      fill: #174EA6;\n",
              "    }\n",
              "\n",
              "    .colab-df-buttons div {\n",
              "      margin-bottom: 4px;\n",
              "    }\n",
              "\n",
              "    [theme=dark] .colab-df-convert {\n",
              "      background-color: #3B4455;\n",
              "      fill: #D2E3FC;\n",
              "    }\n",
              "\n",
              "    [theme=dark] .colab-df-convert:hover {\n",
              "      background-color: #434B5C;\n",
              "      box-shadow: 0px 1px 3px 1px rgba(0, 0, 0, 0.15);\n",
              "      filter: drop-shadow(0px 1px 2px rgba(0, 0, 0, 0.3));\n",
              "      fill: #FFFFFF;\n",
              "    }\n",
              "  </style>\n",
              "\n",
              "    <script>\n",
              "      const buttonEl =\n",
              "        document.querySelector('#df-7d8c6824-45ff-4765-8614-87699d607464 button.colab-df-convert');\n",
              "      buttonEl.style.display =\n",
              "        google.colab.kernel.accessAllowed ? 'block' : 'none';\n",
              "\n",
              "      async function convertToInteractive(key) {\n",
              "        const element = document.querySelector('#df-7d8c6824-45ff-4765-8614-87699d607464');\n",
              "        const dataTable =\n",
              "          await google.colab.kernel.invokeFunction('convertToInteractive',\n",
              "                                                    [key], {});\n",
              "        if (!dataTable) return;\n",
              "\n",
              "        const docLinkHtml = 'Like what you see? Visit the ' +\n",
              "          '<a target=\"_blank\" href=https://colab.research.google.com/notebooks/data_table.ipynb>data table notebook</a>'\n",
              "          + ' to learn more about interactive tables.';\n",
              "        element.innerHTML = '';\n",
              "        dataTable['output_type'] = 'display_data';\n",
              "        await google.colab.output.renderOutput(dataTable, element);\n",
              "        const docLink = document.createElement('div');\n",
              "        docLink.innerHTML = docLinkHtml;\n",
              "        element.appendChild(docLink);\n",
              "      }\n",
              "    </script>\n",
              "  </div>\n",
              "\n",
              "\n",
              "<div id=\"df-c9d9c0ef-499f-419f-b2b1-e94b3b4d0685\">\n",
              "  <button class=\"colab-df-quickchart\" onclick=\"quickchart('df-c9d9c0ef-499f-419f-b2b1-e94b3b4d0685')\"\n",
              "            title=\"Suggest charts\"\n",
              "            style=\"display:none;\">\n",
              "\n",
              "<svg xmlns=\"http://www.w3.org/2000/svg\" height=\"24px\"viewBox=\"0 0 24 24\"\n",
              "     width=\"24px\">\n",
              "    <g>\n",
              "        <path d=\"M19 3H5c-1.1 0-2 .9-2 2v14c0 1.1.9 2 2 2h14c1.1 0 2-.9 2-2V5c0-1.1-.9-2-2-2zM9 17H7v-7h2v7zm4 0h-2V7h2v10zm4 0h-2v-4h2v4z\"/>\n",
              "    </g>\n",
              "</svg>\n",
              "  </button>\n",
              "\n",
              "<style>\n",
              "  .colab-df-quickchart {\n",
              "      --bg-color: #E8F0FE;\n",
              "      --fill-color: #1967D2;\n",
              "      --hover-bg-color: #E2EBFA;\n",
              "      --hover-fill-color: #174EA6;\n",
              "      --disabled-fill-color: #AAA;\n",
              "      --disabled-bg-color: #DDD;\n",
              "  }\n",
              "\n",
              "  [theme=dark] .colab-df-quickchart {\n",
              "      --bg-color: #3B4455;\n",
              "      --fill-color: #D2E3FC;\n",
              "      --hover-bg-color: #434B5C;\n",
              "      --hover-fill-color: #FFFFFF;\n",
              "      --disabled-bg-color: #3B4455;\n",
              "      --disabled-fill-color: #666;\n",
              "  }\n",
              "\n",
              "  .colab-df-quickchart {\n",
              "    background-color: var(--bg-color);\n",
              "    border: none;\n",
              "    border-radius: 50%;\n",
              "    cursor: pointer;\n",
              "    display: none;\n",
              "    fill: var(--fill-color);\n",
              "    height: 32px;\n",
              "    padding: 0;\n",
              "    width: 32px;\n",
              "  }\n",
              "\n",
              "  .colab-df-quickchart:hover {\n",
              "    background-color: var(--hover-bg-color);\n",
              "    box-shadow: 0 1px 2px rgba(60, 64, 67, 0.3), 0 1px 3px 1px rgba(60, 64, 67, 0.15);\n",
              "    fill: var(--button-hover-fill-color);\n",
              "  }\n",
              "\n",
              "  .colab-df-quickchart-complete:disabled,\n",
              "  .colab-df-quickchart-complete:disabled:hover {\n",
              "    background-color: var(--disabled-bg-color);\n",
              "    fill: var(--disabled-fill-color);\n",
              "    box-shadow: none;\n",
              "  }\n",
              "\n",
              "  .colab-df-spinner {\n",
              "    border: 2px solid var(--fill-color);\n",
              "    border-color: transparent;\n",
              "    border-bottom-color: var(--fill-color);\n",
              "    animation:\n",
              "      spin 1s steps(1) infinite;\n",
              "  }\n",
              "\n",
              "  @keyframes spin {\n",
              "    0% {\n",
              "      border-color: transparent;\n",
              "      border-bottom-color: var(--fill-color);\n",
              "      border-left-color: var(--fill-color);\n",
              "    }\n",
              "    20% {\n",
              "      border-color: transparent;\n",
              "      border-left-color: var(--fill-color);\n",
              "      border-top-color: var(--fill-color);\n",
              "    }\n",
              "    30% {\n",
              "      border-color: transparent;\n",
              "      border-left-color: var(--fill-color);\n",
              "      border-top-color: var(--fill-color);\n",
              "      border-right-color: var(--fill-color);\n",
              "    }\n",
              "    40% {\n",
              "      border-color: transparent;\n",
              "      border-right-color: var(--fill-color);\n",
              "      border-top-color: var(--fill-color);\n",
              "    }\n",
              "    60% {\n",
              "      border-color: transparent;\n",
              "      border-right-color: var(--fill-color);\n",
              "    }\n",
              "    80% {\n",
              "      border-color: transparent;\n",
              "      border-right-color: var(--fill-color);\n",
              "      border-bottom-color: var(--fill-color);\n",
              "    }\n",
              "    90% {\n",
              "      border-color: transparent;\n",
              "      border-bottom-color: var(--fill-color);\n",
              "    }\n",
              "  }\n",
              "</style>\n",
              "\n",
              "  <script>\n",
              "    async function quickchart(key) {\n",
              "      const quickchartButtonEl =\n",
              "        document.querySelector('#' + key + ' button');\n",
              "      quickchartButtonEl.disabled = true;  // To prevent multiple clicks.\n",
              "      quickchartButtonEl.classList.add('colab-df-spinner');\n",
              "      try {\n",
              "        const charts = await google.colab.kernel.invokeFunction(\n",
              "            'suggestCharts', [key], {});\n",
              "      } catch (error) {\n",
              "        console.error('Error during call to suggestCharts:', error);\n",
              "      }\n",
              "      quickchartButtonEl.classList.remove('colab-df-spinner');\n",
              "      quickchartButtonEl.classList.add('colab-df-quickchart-complete');\n",
              "    }\n",
              "    (() => {\n",
              "      let quickchartButtonEl =\n",
              "        document.querySelector('#df-c9d9c0ef-499f-419f-b2b1-e94b3b4d0685 button');\n",
              "      quickchartButtonEl.style.display =\n",
              "        google.colab.kernel.accessAllowed ? 'block' : 'none';\n",
              "    })();\n",
              "  </script>\n",
              "</div>\n",
              "\n",
              "    </div>\n",
              "  </div>\n"
            ],
            "application/vnd.google.colaboratory.intrinsic+json": {
              "type": "dataframe",
              "variable_name": "amznLi",
              "summary": "{\n  \"name\": \"amznLi\",\n  \"rows\": 4428,\n  \"fields\": [\n    {\n      \"column\": \"Image_Link\",\n      \"properties\": {\n        \"dtype\": \"string\",\n        \"num_unique_values\": 2932,\n        \"samples\": [\n          \"https://m.media-amazon.com/images/I/31QgRQdzZML._SY445_SX342_.jpg\",\n          \"https://m.media-amazon.com/images/I/51d+8OCkM3L._SX342_SY445_.jpg\",\n          \"https://m.media-amazon.com/images/I/41J7mdWqc-L._SY445_SX342_.jpg\"\n        ],\n        \"semantic_type\": \"\",\n        \"description\": \"\"\n      }\n    },\n    {\n      \"column\": \"Image_Size\",\n      \"properties\": {\n        \"dtype\": \"category\",\n        \"num_unique_values\": 684,\n        \"samples\": [\n          \"max-width:679px;max-height:528px;\",\n          \"max-width:569px;max-height:717px;\",\n          \"max-width:454px;max-height:879px;\"\n        ],\n        \"semantic_type\": \"\",\n        \"description\": \"\"\n      }\n    },\n    {\n      \"column\": \"Product_Name\",\n      \"properties\": {\n        \"dtype\": \"string\",\n        \"num_unique_values\": 2779,\n        \"samples\": [\n          \"NICSY Women's Underwear Lace Slip Shorts Under Dresses Women Girls Shorts, Underskirt Trousers Anti-Chafing Slip Shorts, Boxer Shorts, Underwear Shorts Pack\",\n          \"Roktry Boob Tape with 10 Nipple Pasties & 36 Fashion Tape Body Tape for Women Push Up & Lifting Breast Tape Breast Lift Bra Tape Bob Tape for Breast Lift Double Sided Tape for Clothes\",\n          \"BEN COMM Women's Poly Cotton Padded Buttock Shape Enhancer Underwear (Colour - Black, Size - 36 Inches Waist)\"\n        ],\n        \"semantic_type\": \"\",\n        \"description\": \"\"\n      }\n    },\n    {\n      \"column\": \"Main_Category\",\n      \"properties\": {\n        \"dtype\": \"category\",\n        \"num_unique_values\": 2,\n        \"samples\": [\n          \"Not available\",\n          \"Women-Clothing & Accessories\"\n        ],\n        \"semantic_type\": \"\",\n        \"description\": \"\"\n      }\n    },\n    {\n      \"column\": \"Sub_Category_Name\",\n      \"properties\": {\n        \"dtype\": \"category\",\n        \"num_unique_values\": 8,\n        \"samples\": [\n          \"Sportswear\",\n          \"Not available\"\n        ],\n        \"semantic_type\": \"\",\n        \"description\": \"\"\n      }\n    },\n    {\n      \"column\": \"SubCategory_Product_Name\",\n      \"properties\": {\n        \"dtype\": \"category\",\n        \"num_unique_values\": 95,\n        \"samples\": [\n          \"Crew Socks\",\n          \"Bras\"\n        ],\n        \"semantic_type\": \"\",\n        \"description\": \"\"\n      }\n    },\n    {\n      \"column\": \"Product_Rating\",\n      \"properties\": {\n        \"dtype\": \"category\",\n        \"num_unique_values\": 1,\n        \"samples\": [\n          \"Not Available\"\n        ],\n        \"semantic_type\": \"\",\n        \"description\": \"\"\n      }\n    },\n    {\n      \"column\": \"Product_Num_Reviews\",\n      \"properties\": {\n        \"dtype\": \"category\",\n        \"num_unique_values\": 1,\n        \"samples\": [\n          \"Not Available\"\n        ],\n        \"semantic_type\": \"\",\n        \"description\": \"\"\n      }\n    },\n    {\n      \"column\": \"Product_Link\",\n      \"properties\": {\n        \"dtype\": \"string\",\n        \"num_unique_values\": 4428,\n        \"samples\": [\n          \"https://www.amazon.in/Bonjour-Women-Modern-Cotton-Multicoloured/dp/B01BY4Y73G?ref_=Oct_d_obs_d_1968523031_5&pd_rd_w=FN4JL&content-id=amzn1.sym.fa046d91-91ea-4bcf-a4c8-6d06067907ba&pf_rd_p=fa046d91-91ea-4bcf-a4c8-6d06067907ba&pf_rd_r=Y8XXM0TAZEWTRFXFJBQF&pd_rd_wg=zHjmM&pd_rd_r=0938dc60-114e-477f-a420-4406b6ee754d&pd_rd_i=B01BY4Y73G\"\n        ],\n        \"semantic_type\": \"\",\n        \"description\": \"\"\n      }\n    }\n  ]\n}"
            }
          },
          "metadata": {},
          "execution_count": 8
        }
      ]
    },
    {
      "cell_type": "markdown",
      "source": [
        "- Checking shape the dataset."
      ],
      "metadata": {
        "id": "Qov85a37U5BW"
      }
    },
    {
      "cell_type": "code",
      "source": [
        "amznLi.shape"
      ],
      "metadata": {
        "colab": {
          "base_uri": "https://localhost:8080/"
        },
        "outputId": "5ff239e5-4c0a-4c58-eda2-68cceb433fb9",
        "id": "JroqkgYuS15t"
      },
      "execution_count": 9,
      "outputs": [
        {
          "output_type": "execute_result",
          "data": {
            "text/plain": [
              "(4428, 9)"
            ]
          },
          "metadata": {},
          "execution_count": 9
        }
      ]
    },
    {
      "cell_type": "markdown",
      "source": [
        "- Checking data type of features."
      ],
      "metadata": {
        "id": "G1BCUckIVDz2"
      }
    },
    {
      "cell_type": "code",
      "source": [
        "amznLi.info()"
      ],
      "metadata": {
        "colab": {
          "base_uri": "https://localhost:8080/"
        },
        "outputId": "53e5ee5a-2bed-4158-aa05-d8ecf4223db7",
        "id": "SdvLSz6RS15t"
      },
      "execution_count": 10,
      "outputs": [
        {
          "output_type": "stream",
          "name": "stdout",
          "text": [
            "<class 'pandas.core.frame.DataFrame'>\n",
            "RangeIndex: 4428 entries, 0 to 4427\n",
            "Data columns (total 9 columns):\n",
            " #   Column                    Non-Null Count  Dtype \n",
            "---  ------                    --------------  ----- \n",
            " 0   Image_Link                4206 non-null   object\n",
            " 1   Image_Size                4206 non-null   object\n",
            " 2   Product_Name              4428 non-null   object\n",
            " 3   Main_Category             4428 non-null   object\n",
            " 4   Sub_Category_Name         4428 non-null   object\n",
            " 5   SubCategory_Product_Name  4428 non-null   object\n",
            " 6   Product_Rating            4428 non-null   object\n",
            " 7   Product_Num_Reviews       4428 non-null   object\n",
            " 8   Product_Link              4428 non-null   object\n",
            "dtypes: object(9)\n",
            "memory usage: 311.5+ KB\n"
          ]
        }
      ]
    },
    {
      "cell_type": "markdown",
      "source": [
        "- Checking for null values."
      ],
      "metadata": {
        "id": "_q1ZXLEBVMOq"
      }
    },
    {
      "cell_type": "code",
      "source": [
        "amznLi.isnull().sum()"
      ],
      "metadata": {
        "colab": {
          "base_uri": "https://localhost:8080/"
        },
        "outputId": "85d5d5d8-b9d4-409e-e529-2a4977f30896",
        "id": "s_qZ6IwwS15u"
      },
      "execution_count": 11,
      "outputs": [
        {
          "output_type": "execute_result",
          "data": {
            "text/plain": [
              "Image_Link                  222\n",
              "Image_Size                  222\n",
              "Product_Name                  0\n",
              "Main_Category                 0\n",
              "Sub_Category_Name             0\n",
              "SubCategory_Product_Name      0\n",
              "Product_Rating                0\n",
              "Product_Num_Reviews           0\n",
              "Product_Link                  0\n",
              "dtype: int64"
            ]
          },
          "metadata": {},
          "execution_count": 11
        }
      ]
    },
    {
      "cell_type": "markdown",
      "source": [
        "- Amazon Div dataset."
      ],
      "metadata": {
        "id": "0VyqfZlyTbAU"
      }
    },
    {
      "cell_type": "code",
      "source": [
        "amznDiv.head()"
      ],
      "metadata": {
        "colab": {
          "base_uri": "https://localhost:8080/",
          "height": 556
        },
        "outputId": "4fe69b13-aef1-4bd9-d187-5262fb909310",
        "id": "3adCa4ZcTbAU"
      },
      "execution_count": 12,
      "outputs": [
        {
          "output_type": "execute_result",
          "data": {
            "text/plain": [
              "                                          Image_Link  \\\n",
              "0  https://m.media-amazon.com/images/I/31T+0ZxdN4...   \n",
              "1  https://m.media-amazon.com/images/I/21IBBmWk6y...   \n",
              "2  https://m.media-amazon.com/images/I/31JTWCFfs8...   \n",
              "3  https://m.media-amazon.com/images/I/413HgKzeYO...   \n",
              "4  https://m.media-amazon.com/images/I/41iVCJUFDI...   \n",
              "\n",
              "                          Image_Size  \\\n",
              "0  max-width:679px;max-height:322px;   \n",
              "1  max-width:679px;max-height:679px;   \n",
              "2  max-width:679px;max-height:475px;   \n",
              "3  max-width:679px;max-height:679px;   \n",
              "4  max-width:659px;max-height:879px;   \n",
              "\n",
              "                                        Product_Name  \\\n",
              "0    ELEGANTE Men Square Non-Polarization Sunglasses   \n",
              "1  CREATURE Retro Vintage Geomatric Rectangular B...   \n",
              "2  ELEGANTE Classic HD Polarized Wayfarer Sunglas...   \n",
              "3  Stylish Solid Brown Long Top with 3/4th Sleeve...   \n",
              "4  Wedani Women's Casual Short Sleeves Round Neck...   \n",
              "\n",
              "                    Main_Category Sub_Category_Name SubCategory_Product_Name  \\\n",
              "0                   Not available     Not available          Back to results   \n",
              "1                   Not available     Not available          Back to results   \n",
              "2                   Not available     Not available          Back to results   \n",
              "3  2024-02-Clothing & Accessories              Tops                     Tops   \n",
              "4  2024-02-Clothing & Accessories              Tops                     Tops   \n",
              "\n",
              "  Product_Rating Product_Num_Reviews  \\\n",
              "0  Not Available       Not Available   \n",
              "1  Not Available       Not Available   \n",
              "2  Not Available       Not Available   \n",
              "3  Not Available       Not Available   \n",
              "4  Not Available       Not Available   \n",
              "\n",
              "                                        Product_Link  \n",
              "0  https://www.amazon.in/ELEGANTE-Protected-Stain...  \n",
              "1  https://www.amazon.in/CREATURE-Geomatric-Recta...  \n",
              "2  https://www.amazon.in/ELEGANTE-Polarized-Wayfa...  \n",
              "3  https://www.amazon.in/Stylish-Solid-Brown-Slee...  \n",
              "4  https://www.amazon.in/Wedani-Womens-Casual-Sle...  "
            ],
            "text/html": [
              "\n",
              "  <div id=\"df-eefcee41-edc6-4dba-8486-de471d231189\" class=\"colab-df-container\">\n",
              "    <div>\n",
              "<style scoped>\n",
              "    .dataframe tbody tr th:only-of-type {\n",
              "        vertical-align: middle;\n",
              "    }\n",
              "\n",
              "    .dataframe tbody tr th {\n",
              "        vertical-align: top;\n",
              "    }\n",
              "\n",
              "    .dataframe thead th {\n",
              "        text-align: right;\n",
              "    }\n",
              "</style>\n",
              "<table border=\"1\" class=\"dataframe\">\n",
              "  <thead>\n",
              "    <tr style=\"text-align: right;\">\n",
              "      <th></th>\n",
              "      <th>Image_Link</th>\n",
              "      <th>Image_Size</th>\n",
              "      <th>Product_Name</th>\n",
              "      <th>Main_Category</th>\n",
              "      <th>Sub_Category_Name</th>\n",
              "      <th>SubCategory_Product_Name</th>\n",
              "      <th>Product_Rating</th>\n",
              "      <th>Product_Num_Reviews</th>\n",
              "      <th>Product_Link</th>\n",
              "    </tr>\n",
              "  </thead>\n",
              "  <tbody>\n",
              "    <tr>\n",
              "      <th>0</th>\n",
              "      <td>https://m.media-amazon.com/images/I/31T+0ZxdN4...</td>\n",
              "      <td>max-width:679px;max-height:322px;</td>\n",
              "      <td>ELEGANTE Men Square Non-Polarization Sunglasses</td>\n",
              "      <td>Not available</td>\n",
              "      <td>Not available</td>\n",
              "      <td>Back to results</td>\n",
              "      <td>Not Available</td>\n",
              "      <td>Not Available</td>\n",
              "      <td>https://www.amazon.in/ELEGANTE-Protected-Stain...</td>\n",
              "    </tr>\n",
              "    <tr>\n",
              "      <th>1</th>\n",
              "      <td>https://m.media-amazon.com/images/I/21IBBmWk6y...</td>\n",
              "      <td>max-width:679px;max-height:679px;</td>\n",
              "      <td>CREATURE Retro Vintage Geomatric Rectangular B...</td>\n",
              "      <td>Not available</td>\n",
              "      <td>Not available</td>\n",
              "      <td>Back to results</td>\n",
              "      <td>Not Available</td>\n",
              "      <td>Not Available</td>\n",
              "      <td>https://www.amazon.in/CREATURE-Geomatric-Recta...</td>\n",
              "    </tr>\n",
              "    <tr>\n",
              "      <th>2</th>\n",
              "      <td>https://m.media-amazon.com/images/I/31JTWCFfs8...</td>\n",
              "      <td>max-width:679px;max-height:475px;</td>\n",
              "      <td>ELEGANTE Classic HD Polarized Wayfarer Sunglas...</td>\n",
              "      <td>Not available</td>\n",
              "      <td>Not available</td>\n",
              "      <td>Back to results</td>\n",
              "      <td>Not Available</td>\n",
              "      <td>Not Available</td>\n",
              "      <td>https://www.amazon.in/ELEGANTE-Polarized-Wayfa...</td>\n",
              "    </tr>\n",
              "    <tr>\n",
              "      <th>3</th>\n",
              "      <td>https://m.media-amazon.com/images/I/413HgKzeYO...</td>\n",
              "      <td>max-width:679px;max-height:679px;</td>\n",
              "      <td>Stylish Solid Brown Long Top with 3/4th Sleeve...</td>\n",
              "      <td>2024-02-Clothing &amp; Accessories</td>\n",
              "      <td>Tops</td>\n",
              "      <td>Tops</td>\n",
              "      <td>Not Available</td>\n",
              "      <td>Not Available</td>\n",
              "      <td>https://www.amazon.in/Stylish-Solid-Brown-Slee...</td>\n",
              "    </tr>\n",
              "    <tr>\n",
              "      <th>4</th>\n",
              "      <td>https://m.media-amazon.com/images/I/41iVCJUFDI...</td>\n",
              "      <td>max-width:659px;max-height:879px;</td>\n",
              "      <td>Wedani Women's Casual Short Sleeves Round Neck...</td>\n",
              "      <td>2024-02-Clothing &amp; Accessories</td>\n",
              "      <td>Tops</td>\n",
              "      <td>Tops</td>\n",
              "      <td>Not Available</td>\n",
              "      <td>Not Available</td>\n",
              "      <td>https://www.amazon.in/Wedani-Womens-Casual-Sle...</td>\n",
              "    </tr>\n",
              "  </tbody>\n",
              "</table>\n",
              "</div>\n",
              "    <div class=\"colab-df-buttons\">\n",
              "\n",
              "  <div class=\"colab-df-container\">\n",
              "    <button class=\"colab-df-convert\" onclick=\"convertToInteractive('df-eefcee41-edc6-4dba-8486-de471d231189')\"\n",
              "            title=\"Convert this dataframe to an interactive table.\"\n",
              "            style=\"display:none;\">\n",
              "\n",
              "  <svg xmlns=\"http://www.w3.org/2000/svg\" height=\"24px\" viewBox=\"0 -960 960 960\">\n",
              "    <path d=\"M120-120v-720h720v720H120Zm60-500h600v-160H180v160Zm220 220h160v-160H400v160Zm0 220h160v-160H400v160ZM180-400h160v-160H180v160Zm440 0h160v-160H620v160ZM180-180h160v-160H180v160Zm440 0h160v-160H620v160Z\"/>\n",
              "  </svg>\n",
              "    </button>\n",
              "\n",
              "  <style>\n",
              "    .colab-df-container {\n",
              "      display:flex;\n",
              "      gap: 12px;\n",
              "    }\n",
              "\n",
              "    .colab-df-convert {\n",
              "      background-color: #E8F0FE;\n",
              "      border: none;\n",
              "      border-radius: 50%;\n",
              "      cursor: pointer;\n",
              "      display: none;\n",
              "      fill: #1967D2;\n",
              "      height: 32px;\n",
              "      padding: 0 0 0 0;\n",
              "      width: 32px;\n",
              "    }\n",
              "\n",
              "    .colab-df-convert:hover {\n",
              "      background-color: #E2EBFA;\n",
              "      box-shadow: 0px 1px 2px rgba(60, 64, 67, 0.3), 0px 1px 3px 1px rgba(60, 64, 67, 0.15);\n",
              "      fill: #174EA6;\n",
              "    }\n",
              "\n",
              "    .colab-df-buttons div {\n",
              "      margin-bottom: 4px;\n",
              "    }\n",
              "\n",
              "    [theme=dark] .colab-df-convert {\n",
              "      background-color: #3B4455;\n",
              "      fill: #D2E3FC;\n",
              "    }\n",
              "\n",
              "    [theme=dark] .colab-df-convert:hover {\n",
              "      background-color: #434B5C;\n",
              "      box-shadow: 0px 1px 3px 1px rgba(0, 0, 0, 0.15);\n",
              "      filter: drop-shadow(0px 1px 2px rgba(0, 0, 0, 0.3));\n",
              "      fill: #FFFFFF;\n",
              "    }\n",
              "  </style>\n",
              "\n",
              "    <script>\n",
              "      const buttonEl =\n",
              "        document.querySelector('#df-eefcee41-edc6-4dba-8486-de471d231189 button.colab-df-convert');\n",
              "      buttonEl.style.display =\n",
              "        google.colab.kernel.accessAllowed ? 'block' : 'none';\n",
              "\n",
              "      async function convertToInteractive(key) {\n",
              "        const element = document.querySelector('#df-eefcee41-edc6-4dba-8486-de471d231189');\n",
              "        const dataTable =\n",
              "          await google.colab.kernel.invokeFunction('convertToInteractive',\n",
              "                                                    [key], {});\n",
              "        if (!dataTable) return;\n",
              "\n",
              "        const docLinkHtml = 'Like what you see? Visit the ' +\n",
              "          '<a target=\"_blank\" href=https://colab.research.google.com/notebooks/data_table.ipynb>data table notebook</a>'\n",
              "          + ' to learn more about interactive tables.';\n",
              "        element.innerHTML = '';\n",
              "        dataTable['output_type'] = 'display_data';\n",
              "        await google.colab.output.renderOutput(dataTable, element);\n",
              "        const docLink = document.createElement('div');\n",
              "        docLink.innerHTML = docLinkHtml;\n",
              "        element.appendChild(docLink);\n",
              "      }\n",
              "    </script>\n",
              "  </div>\n",
              "\n",
              "\n",
              "<div id=\"df-58fc1d5d-3195-42f6-93ee-aaaf1e09874a\">\n",
              "  <button class=\"colab-df-quickchart\" onclick=\"quickchart('df-58fc1d5d-3195-42f6-93ee-aaaf1e09874a')\"\n",
              "            title=\"Suggest charts\"\n",
              "            style=\"display:none;\">\n",
              "\n",
              "<svg xmlns=\"http://www.w3.org/2000/svg\" height=\"24px\"viewBox=\"0 0 24 24\"\n",
              "     width=\"24px\">\n",
              "    <g>\n",
              "        <path d=\"M19 3H5c-1.1 0-2 .9-2 2v14c0 1.1.9 2 2 2h14c1.1 0 2-.9 2-2V5c0-1.1-.9-2-2-2zM9 17H7v-7h2v7zm4 0h-2V7h2v10zm4 0h-2v-4h2v4z\"/>\n",
              "    </g>\n",
              "</svg>\n",
              "  </button>\n",
              "\n",
              "<style>\n",
              "  .colab-df-quickchart {\n",
              "      --bg-color: #E8F0FE;\n",
              "      --fill-color: #1967D2;\n",
              "      --hover-bg-color: #E2EBFA;\n",
              "      --hover-fill-color: #174EA6;\n",
              "      --disabled-fill-color: #AAA;\n",
              "      --disabled-bg-color: #DDD;\n",
              "  }\n",
              "\n",
              "  [theme=dark] .colab-df-quickchart {\n",
              "      --bg-color: #3B4455;\n",
              "      --fill-color: #D2E3FC;\n",
              "      --hover-bg-color: #434B5C;\n",
              "      --hover-fill-color: #FFFFFF;\n",
              "      --disabled-bg-color: #3B4455;\n",
              "      --disabled-fill-color: #666;\n",
              "  }\n",
              "\n",
              "  .colab-df-quickchart {\n",
              "    background-color: var(--bg-color);\n",
              "    border: none;\n",
              "    border-radius: 50%;\n",
              "    cursor: pointer;\n",
              "    display: none;\n",
              "    fill: var(--fill-color);\n",
              "    height: 32px;\n",
              "    padding: 0;\n",
              "    width: 32px;\n",
              "  }\n",
              "\n",
              "  .colab-df-quickchart:hover {\n",
              "    background-color: var(--hover-bg-color);\n",
              "    box-shadow: 0 1px 2px rgba(60, 64, 67, 0.3), 0 1px 3px 1px rgba(60, 64, 67, 0.15);\n",
              "    fill: var(--button-hover-fill-color);\n",
              "  }\n",
              "\n",
              "  .colab-df-quickchart-complete:disabled,\n",
              "  .colab-df-quickchart-complete:disabled:hover {\n",
              "    background-color: var(--disabled-bg-color);\n",
              "    fill: var(--disabled-fill-color);\n",
              "    box-shadow: none;\n",
              "  }\n",
              "\n",
              "  .colab-df-spinner {\n",
              "    border: 2px solid var(--fill-color);\n",
              "    border-color: transparent;\n",
              "    border-bottom-color: var(--fill-color);\n",
              "    animation:\n",
              "      spin 1s steps(1) infinite;\n",
              "  }\n",
              "\n",
              "  @keyframes spin {\n",
              "    0% {\n",
              "      border-color: transparent;\n",
              "      border-bottom-color: var(--fill-color);\n",
              "      border-left-color: var(--fill-color);\n",
              "    }\n",
              "    20% {\n",
              "      border-color: transparent;\n",
              "      border-left-color: var(--fill-color);\n",
              "      border-top-color: var(--fill-color);\n",
              "    }\n",
              "    30% {\n",
              "      border-color: transparent;\n",
              "      border-left-color: var(--fill-color);\n",
              "      border-top-color: var(--fill-color);\n",
              "      border-right-color: var(--fill-color);\n",
              "    }\n",
              "    40% {\n",
              "      border-color: transparent;\n",
              "      border-right-color: var(--fill-color);\n",
              "      border-top-color: var(--fill-color);\n",
              "    }\n",
              "    60% {\n",
              "      border-color: transparent;\n",
              "      border-right-color: var(--fill-color);\n",
              "    }\n",
              "    80% {\n",
              "      border-color: transparent;\n",
              "      border-right-color: var(--fill-color);\n",
              "      border-bottom-color: var(--fill-color);\n",
              "    }\n",
              "    90% {\n",
              "      border-color: transparent;\n",
              "      border-bottom-color: var(--fill-color);\n",
              "    }\n",
              "  }\n",
              "</style>\n",
              "\n",
              "  <script>\n",
              "    async function quickchart(key) {\n",
              "      const quickchartButtonEl =\n",
              "        document.querySelector('#' + key + ' button');\n",
              "      quickchartButtonEl.disabled = true;  // To prevent multiple clicks.\n",
              "      quickchartButtonEl.classList.add('colab-df-spinner');\n",
              "      try {\n",
              "        const charts = await google.colab.kernel.invokeFunction(\n",
              "            'suggestCharts', [key], {});\n",
              "      } catch (error) {\n",
              "        console.error('Error during call to suggestCharts:', error);\n",
              "      }\n",
              "      quickchartButtonEl.classList.remove('colab-df-spinner');\n",
              "      quickchartButtonEl.classList.add('colab-df-quickchart-complete');\n",
              "    }\n",
              "    (() => {\n",
              "      let quickchartButtonEl =\n",
              "        document.querySelector('#df-58fc1d5d-3195-42f6-93ee-aaaf1e09874a button');\n",
              "      quickchartButtonEl.style.display =\n",
              "        google.colab.kernel.accessAllowed ? 'block' : 'none';\n",
              "    })();\n",
              "  </script>\n",
              "</div>\n",
              "\n",
              "    </div>\n",
              "  </div>\n"
            ],
            "application/vnd.google.colaboratory.intrinsic+json": {
              "type": "dataframe",
              "variable_name": "amznDiv",
              "summary": "{\n  \"name\": \"amznDiv\",\n  \"rows\": 7419,\n  \"fields\": [\n    {\n      \"column\": \"Image_Link\",\n      \"properties\": {\n        \"dtype\": \"string\",\n        \"num_unique_values\": 5739,\n        \"samples\": [\n          \"https://m.media-amazon.com/images/I/41HJzet8MfL._SX342_SY445_.jpg\",\n          \"https://m.media-amazon.com/images/I/41UosofcyML._SX342_SY445_.jpg\",\n          \"https://m.media-amazon.com/images/I/31r5r2KdK-L._SX342_SY445_.jpg\"\n        ],\n        \"semantic_type\": \"\",\n        \"description\": \"\"\n      }\n    },\n    {\n      \"column\": \"Image_Size\",\n      \"properties\": {\n        \"dtype\": \"category\",\n        \"num_unique_values\": 634,\n        \"samples\": [\n          \"max-width:558px;max-height:879px;\",\n          \"max-width:608px;max-height:879px;\",\n          \"max-width:625px;max-height:879px;\"\n        ],\n        \"semantic_type\": \"\",\n        \"description\": \"\"\n      }\n    },\n    {\n      \"column\": \"Product_Name\",\n      \"properties\": {\n        \"dtype\": \"string\",\n        \"num_unique_values\": 4994,\n        \"samples\": [\n          \"Zeel Clothing Women's Velvet Semi stitched Lehenga Choli (7702-Wedding-Bridal-Lehenga-Latest_Purple_Free Size)\",\n          \"Satya Paul Red Silk Crepe Silk Printed Casual Festive Party Wedding Saree for Women\",\n          \"Maaesa Women Loose Fit Casual Shirt\"\n        ],\n        \"semantic_type\": \"\",\n        \"description\": \"\"\n      }\n    },\n    {\n      \"column\": \"Main_Category\",\n      \"properties\": {\n        \"dtype\": \"category\",\n        \"num_unique_values\": 42,\n        \"samples\": [\n          \"Party Sarees-Clothing & Accessories\",\n          \"Chanderi Sarees-Clothing & Accessories\",\n          \"Handbags, Purses & Clutches-Shoes & Handbags\"\n        ],\n        \"semantic_type\": \"\",\n        \"description\": \"\"\n      }\n    },\n    {\n      \"column\": \"Sub_Category_Name\",\n      \"properties\": {\n        \"dtype\": \"category\",\n        \"num_unique_values\": 11,\n        \"samples\": [\n          \"Potlis & Wristlets\",\n          \"Not available\",\n          \"Sunglasses & Spectacle Frames\"\n        ],\n        \"semantic_type\": \"\",\n        \"description\": \"\"\n      }\n    },\n    {\n      \"column\": \"SubCategory_Product_Name\",\n      \"properties\": {\n        \"dtype\": \"category\",\n        \"num_unique_values\": 59,\n        \"samples\": [\n          \"Back to results\",\n          \"Ethnic Wear\",\n          \"Ready to wear sarees\"\n        ],\n        \"semantic_type\": \"\",\n        \"description\": \"\"\n      }\n    },\n    {\n      \"column\": \"Product_Rating\",\n      \"properties\": {\n        \"dtype\": \"category\",\n        \"num_unique_values\": 1,\n        \"samples\": [\n          \"Not Available\"\n        ],\n        \"semantic_type\": \"\",\n        \"description\": \"\"\n      }\n    },\n    {\n      \"column\": \"Product_Num_Reviews\",\n      \"properties\": {\n        \"dtype\": \"category\",\n        \"num_unique_values\": 1,\n        \"samples\": [\n          \"Not Available\"\n        ],\n        \"semantic_type\": \"\",\n        \"description\": \"\"\n      }\n    },\n    {\n      \"column\": \"Product_Link\",\n      \"properties\": {\n        \"dtype\": \"string\",\n        \"num_unique_values\": 7419,\n        \"samples\": [\n          \"https://www.amazon.in/Satrani-Bandhani-Printed-Unstitched-2362SR571_Black/dp/B09W98K9JK/ref=sr_1_30?dib=eyJ2IjoiMSJ9.f1OmqwRi1YYkqoQobpRyIfHrHhkaPz08A52JWGnP_CWeALVyYIdcytRN_a6drBurY43H2bM_be9Y1sSXqBFWhIznwGPJUbOWJSuOYVA9VZ_BIaGx0UIQb9CdK5Fd-669sW7B_UTBKjsVwRxbgZXMaQbbN0ijY_ZWyLGAVj9jDYJQtwS1mtim6pi0ngif2jLV22FlRszO9S_k3LhSGQvq3qOmC7Pmkrrjz3H3p9m1iH8Pai87Adtdb8SxBOCzVwG1TB7dzZct-PfEduL7pKOsH-KxJtzSGDf0cXN47B1VvA4.U3dyWsw5iv7WLlCj6EymscaFxg2-kg3aS-LyKT2LtJk&dib_tag=se&pf_rd_i=1968256031&pf_rd_m=A1VBAL9TL5WCBF&pf_rd_p=fe63dca2-cd69-4753-94b6-8530298730e0&pf_rd_r=KFSYEFF79SRC4KJ3QPJ1&pf_rd_s=merchandised-search-6&qid=1715149222&refinements=p_85%3A10440599031&rnid=10440598031&rps=1&s=apparel&sr=1-30\"\n        ],\n        \"semantic_type\": \"\",\n        \"description\": \"\"\n      }\n    }\n  ]\n}"
            }
          },
          "metadata": {},
          "execution_count": 12
        }
      ]
    },
    {
      "cell_type": "markdown",
      "source": [
        "- Checking shape the dataset."
      ],
      "metadata": {
        "id": "R4xBxvyJU7BK"
      }
    },
    {
      "cell_type": "code",
      "source": [
        "amznDiv.shape"
      ],
      "metadata": {
        "colab": {
          "base_uri": "https://localhost:8080/"
        },
        "outputId": "fcb465c3-412b-4969-9362-30e82776b34d",
        "id": "lqbmrwJPTbAU"
      },
      "execution_count": 13,
      "outputs": [
        {
          "output_type": "execute_result",
          "data": {
            "text/plain": [
              "(7419, 9)"
            ]
          },
          "metadata": {},
          "execution_count": 13
        }
      ]
    },
    {
      "cell_type": "markdown",
      "source": [
        "- Checking data type of features."
      ],
      "metadata": {
        "id": "BCCp_u_CVFdc"
      }
    },
    {
      "cell_type": "code",
      "source": [
        "amznDiv.info()"
      ],
      "metadata": {
        "colab": {
          "base_uri": "https://localhost:8080/"
        },
        "outputId": "24936aac-9384-45ba-9f4e-2a0934fcc895",
        "id": "lwDJE_jKTbAV"
      },
      "execution_count": 14,
      "outputs": [
        {
          "output_type": "stream",
          "name": "stdout",
          "text": [
            "<class 'pandas.core.frame.DataFrame'>\n",
            "RangeIndex: 7419 entries, 0 to 7418\n",
            "Data columns (total 9 columns):\n",
            " #   Column                    Non-Null Count  Dtype \n",
            "---  ------                    --------------  ----- \n",
            " 0   Image_Link                7095 non-null   object\n",
            " 1   Image_Size                7095 non-null   object\n",
            " 2   Product_Name              7419 non-null   object\n",
            " 3   Main_Category             7419 non-null   object\n",
            " 4   Sub_Category_Name         7419 non-null   object\n",
            " 5   SubCategory_Product_Name  7419 non-null   object\n",
            " 6   Product_Rating            7419 non-null   object\n",
            " 7   Product_Num_Reviews       7419 non-null   object\n",
            " 8   Product_Link              7419 non-null   object\n",
            "dtypes: object(9)\n",
            "memory usage: 521.8+ KB\n"
          ]
        }
      ]
    },
    {
      "cell_type": "markdown",
      "source": [
        "- Checking for null values."
      ],
      "metadata": {
        "id": "ONoAQ0rFVHIb"
      }
    },
    {
      "cell_type": "code",
      "source": [
        "amznDiv.isnull().sum()"
      ],
      "metadata": {
        "colab": {
          "base_uri": "https://localhost:8080/"
        },
        "outputId": "f8a6aa97-4f00-4a22-b7f3-85ecd711fd41",
        "id": "yO1XTVfnTbAV"
      },
      "execution_count": 15,
      "outputs": [
        {
          "output_type": "execute_result",
          "data": {
            "text/plain": [
              "Image_Link                  324\n",
              "Image_Size                  324\n",
              "Product_Name                  0\n",
              "Main_Category                 0\n",
              "Sub_Category_Name             0\n",
              "SubCategory_Product_Name      0\n",
              "Product_Rating                0\n",
              "Product_Num_Reviews           0\n",
              "Product_Link                  0\n",
              "dtype: int64"
            ]
          },
          "metadata": {},
          "execution_count": 15
        }
      ]
    },
    {
      "cell_type": "markdown",
      "source": [
        "## 2. Pre-processing dataset"
      ],
      "metadata": {
        "id": "08fgKW9KVafg"
      }
    },
    {
      "cell_type": "markdown",
      "source": [
        "- Concatenating \"amznH2\", \"amznLi\", \"amznDiv\" dataframes into a single dataframe \"amzn_full\"."
      ],
      "metadata": {
        "id": "sgpJbEkTNs9w"
      }
    },
    {
      "cell_type": "code",
      "source": [
        "amzn_full = pd.concat([amznH2, amznLi, amznDiv], axis=0, ignore_index=True)"
      ],
      "metadata": {
        "id": "-VHSkztqSlIt"
      },
      "execution_count": 16,
      "outputs": []
    },
    {
      "cell_type": "code",
      "source": [
        "amzn_full.head()"
      ],
      "metadata": {
        "colab": {
          "base_uri": "https://localhost:8080/",
          "height": 521
        },
        "id": "7EBdfjrsNhFy",
        "outputId": "6e73c7d5-4560-437f-b938-344dafb7bc9b"
      },
      "execution_count": 17,
      "outputs": [
        {
          "output_type": "execute_result",
          "data": {
            "text/plain": [
              "                                          Image_Link  \\\n",
              "0  https://m.media-amazon.com/images/I/31J1BW062i...   \n",
              "1  https://m.media-amazon.com/images/I/41N6PXp68r...   \n",
              "2  https://m.media-amazon.com/images/I/31sbJEN0qh...   \n",
              "3  https://m.media-amazon.com/images/I/41jUvC6qBt...   \n",
              "4  https://m.media-amazon.com/images/I/31R30Fl8kz...   \n",
              "\n",
              "                          Image_Size  \\\n",
              "0  max-width:494px;max-height:879px;   \n",
              "1  max-width:408px;max-height:612px;   \n",
              "2  max-width:427px;max-height:500px;   \n",
              "3  max-width:679px;max-height:679px;   \n",
              "4  max-width:659px;max-height:879px;   \n",
              "\n",
              "                                        Product_Name  \\\n",
              "0  CHUKCHUK Pink Floral Maternity Kaftan Kurti fo...   \n",
              "1  Miss Meoww Women's Anarkali Maternity Kurta |E...   \n",
              "2  Mabron Wet Off full length Hood rain coat comf...   \n",
              "3  MomToBe Women's Cotton Maternity Kurta/Pregnan...   \n",
              "4  DUMMY SHAPE Women's Rayon Anarkali Maternity D...   \n",
              "\n",
              "                  Main_Category Sub_Category_Name SubCategory_Product_Name  \\\n",
              "0  Women-Clothing & Accessories         Maternity              Ethnic Wear   \n",
              "1  Women-Clothing & Accessories         Maternity              Ethnic Wear   \n",
              "2  Women-Clothing & Accessories      Western Wear                 Rainwear   \n",
              "3  Women-Clothing & Accessories         Maternity              Ethnic Wear   \n",
              "4  Women-Clothing & Accessories         Maternity              Ethnic Wear   \n",
              "\n",
              "  Product_Rating Product_Num_Reviews  \\\n",
              "0  Not Available       Not Available   \n",
              "1  Not Available       Not Available   \n",
              "2  Not Available       Not Available   \n",
              "3  Not Available       Not Available   \n",
              "4  Not Available       Not Available   \n",
              "\n",
              "                                        Product_Link  \n",
              "0  https://www.amazon.in/CHUKCHUK-Floral-Maternit...  \n",
              "1  https://www.amazon.in/Anarkali-Maternity-Breas...  \n",
              "2  https://www.amazon.in/sspa/click?ie=UTF8&spc=M...  \n",
              "3  https://www.amazon.in/MomToBe-Maternity-Pregna...  \n",
              "4  https://www.amazon.in/DUMMY-SHAPE-Maternity-DS...  "
            ],
            "text/html": [
              "\n",
              "  <div id=\"df-7bc53c6d-43e1-4955-8f46-424b52b6fbaa\" class=\"colab-df-container\">\n",
              "    <div>\n",
              "<style scoped>\n",
              "    .dataframe tbody tr th:only-of-type {\n",
              "        vertical-align: middle;\n",
              "    }\n",
              "\n",
              "    .dataframe tbody tr th {\n",
              "        vertical-align: top;\n",
              "    }\n",
              "\n",
              "    .dataframe thead th {\n",
              "        text-align: right;\n",
              "    }\n",
              "</style>\n",
              "<table border=\"1\" class=\"dataframe\">\n",
              "  <thead>\n",
              "    <tr style=\"text-align: right;\">\n",
              "      <th></th>\n",
              "      <th>Image_Link</th>\n",
              "      <th>Image_Size</th>\n",
              "      <th>Product_Name</th>\n",
              "      <th>Main_Category</th>\n",
              "      <th>Sub_Category_Name</th>\n",
              "      <th>SubCategory_Product_Name</th>\n",
              "      <th>Product_Rating</th>\n",
              "      <th>Product_Num_Reviews</th>\n",
              "      <th>Product_Link</th>\n",
              "    </tr>\n",
              "  </thead>\n",
              "  <tbody>\n",
              "    <tr>\n",
              "      <th>0</th>\n",
              "      <td>https://m.media-amazon.com/images/I/31J1BW062i...</td>\n",
              "      <td>max-width:494px;max-height:879px;</td>\n",
              "      <td>CHUKCHUK Pink Floral Maternity Kaftan Kurti fo...</td>\n",
              "      <td>Women-Clothing &amp; Accessories</td>\n",
              "      <td>Maternity</td>\n",
              "      <td>Ethnic Wear</td>\n",
              "      <td>Not Available</td>\n",
              "      <td>Not Available</td>\n",
              "      <td>https://www.amazon.in/CHUKCHUK-Floral-Maternit...</td>\n",
              "    </tr>\n",
              "    <tr>\n",
              "      <th>1</th>\n",
              "      <td>https://m.media-amazon.com/images/I/41N6PXp68r...</td>\n",
              "      <td>max-width:408px;max-height:612px;</td>\n",
              "      <td>Miss Meoww Women's Anarkali Maternity Kurta |E...</td>\n",
              "      <td>Women-Clothing &amp; Accessories</td>\n",
              "      <td>Maternity</td>\n",
              "      <td>Ethnic Wear</td>\n",
              "      <td>Not Available</td>\n",
              "      <td>Not Available</td>\n",
              "      <td>https://www.amazon.in/Anarkali-Maternity-Breas...</td>\n",
              "    </tr>\n",
              "    <tr>\n",
              "      <th>2</th>\n",
              "      <td>https://m.media-amazon.com/images/I/31sbJEN0qh...</td>\n",
              "      <td>max-width:427px;max-height:500px;</td>\n",
              "      <td>Mabron Wet Off full length Hood rain coat comf...</td>\n",
              "      <td>Women-Clothing &amp; Accessories</td>\n",
              "      <td>Western Wear</td>\n",
              "      <td>Rainwear</td>\n",
              "      <td>Not Available</td>\n",
              "      <td>Not Available</td>\n",
              "      <td>https://www.amazon.in/sspa/click?ie=UTF8&amp;spc=M...</td>\n",
              "    </tr>\n",
              "    <tr>\n",
              "      <th>3</th>\n",
              "      <td>https://m.media-amazon.com/images/I/41jUvC6qBt...</td>\n",
              "      <td>max-width:679px;max-height:679px;</td>\n",
              "      <td>MomToBe Women's Cotton Maternity Kurta/Pregnan...</td>\n",
              "      <td>Women-Clothing &amp; Accessories</td>\n",
              "      <td>Maternity</td>\n",
              "      <td>Ethnic Wear</td>\n",
              "      <td>Not Available</td>\n",
              "      <td>Not Available</td>\n",
              "      <td>https://www.amazon.in/MomToBe-Maternity-Pregna...</td>\n",
              "    </tr>\n",
              "    <tr>\n",
              "      <th>4</th>\n",
              "      <td>https://m.media-amazon.com/images/I/31R30Fl8kz...</td>\n",
              "      <td>max-width:659px;max-height:879px;</td>\n",
              "      <td>DUMMY SHAPE Women's Rayon Anarkali Maternity D...</td>\n",
              "      <td>Women-Clothing &amp; Accessories</td>\n",
              "      <td>Maternity</td>\n",
              "      <td>Ethnic Wear</td>\n",
              "      <td>Not Available</td>\n",
              "      <td>Not Available</td>\n",
              "      <td>https://www.amazon.in/DUMMY-SHAPE-Maternity-DS...</td>\n",
              "    </tr>\n",
              "  </tbody>\n",
              "</table>\n",
              "</div>\n",
              "    <div class=\"colab-df-buttons\">\n",
              "\n",
              "  <div class=\"colab-df-container\">\n",
              "    <button class=\"colab-df-convert\" onclick=\"convertToInteractive('df-7bc53c6d-43e1-4955-8f46-424b52b6fbaa')\"\n",
              "            title=\"Convert this dataframe to an interactive table.\"\n",
              "            style=\"display:none;\">\n",
              "\n",
              "  <svg xmlns=\"http://www.w3.org/2000/svg\" height=\"24px\" viewBox=\"0 -960 960 960\">\n",
              "    <path d=\"M120-120v-720h720v720H120Zm60-500h600v-160H180v160Zm220 220h160v-160H400v160Zm0 220h160v-160H400v160ZM180-400h160v-160H180v160Zm440 0h160v-160H620v160ZM180-180h160v-160H180v160Zm440 0h160v-160H620v160Z\"/>\n",
              "  </svg>\n",
              "    </button>\n",
              "\n",
              "  <style>\n",
              "    .colab-df-container {\n",
              "      display:flex;\n",
              "      gap: 12px;\n",
              "    }\n",
              "\n",
              "    .colab-df-convert {\n",
              "      background-color: #E8F0FE;\n",
              "      border: none;\n",
              "      border-radius: 50%;\n",
              "      cursor: pointer;\n",
              "      display: none;\n",
              "      fill: #1967D2;\n",
              "      height: 32px;\n",
              "      padding: 0 0 0 0;\n",
              "      width: 32px;\n",
              "    }\n",
              "\n",
              "    .colab-df-convert:hover {\n",
              "      background-color: #E2EBFA;\n",
              "      box-shadow: 0px 1px 2px rgba(60, 64, 67, 0.3), 0px 1px 3px 1px rgba(60, 64, 67, 0.15);\n",
              "      fill: #174EA6;\n",
              "    }\n",
              "\n",
              "    .colab-df-buttons div {\n",
              "      margin-bottom: 4px;\n",
              "    }\n",
              "\n",
              "    [theme=dark] .colab-df-convert {\n",
              "      background-color: #3B4455;\n",
              "      fill: #D2E3FC;\n",
              "    }\n",
              "\n",
              "    [theme=dark] .colab-df-convert:hover {\n",
              "      background-color: #434B5C;\n",
              "      box-shadow: 0px 1px 3px 1px rgba(0, 0, 0, 0.15);\n",
              "      filter: drop-shadow(0px 1px 2px rgba(0, 0, 0, 0.3));\n",
              "      fill: #FFFFFF;\n",
              "    }\n",
              "  </style>\n",
              "\n",
              "    <script>\n",
              "      const buttonEl =\n",
              "        document.querySelector('#df-7bc53c6d-43e1-4955-8f46-424b52b6fbaa button.colab-df-convert');\n",
              "      buttonEl.style.display =\n",
              "        google.colab.kernel.accessAllowed ? 'block' : 'none';\n",
              "\n",
              "      async function convertToInteractive(key) {\n",
              "        const element = document.querySelector('#df-7bc53c6d-43e1-4955-8f46-424b52b6fbaa');\n",
              "        const dataTable =\n",
              "          await google.colab.kernel.invokeFunction('convertToInteractive',\n",
              "                                                    [key], {});\n",
              "        if (!dataTable) return;\n",
              "\n",
              "        const docLinkHtml = 'Like what you see? Visit the ' +\n",
              "          '<a target=\"_blank\" href=https://colab.research.google.com/notebooks/data_table.ipynb>data table notebook</a>'\n",
              "          + ' to learn more about interactive tables.';\n",
              "        element.innerHTML = '';\n",
              "        dataTable['output_type'] = 'display_data';\n",
              "        await google.colab.output.renderOutput(dataTable, element);\n",
              "        const docLink = document.createElement('div');\n",
              "        docLink.innerHTML = docLinkHtml;\n",
              "        element.appendChild(docLink);\n",
              "      }\n",
              "    </script>\n",
              "  </div>\n",
              "\n",
              "\n",
              "<div id=\"df-acc01dc4-3cf6-4115-9632-2bcf534365d5\">\n",
              "  <button class=\"colab-df-quickchart\" onclick=\"quickchart('df-acc01dc4-3cf6-4115-9632-2bcf534365d5')\"\n",
              "            title=\"Suggest charts\"\n",
              "            style=\"display:none;\">\n",
              "\n",
              "<svg xmlns=\"http://www.w3.org/2000/svg\" height=\"24px\"viewBox=\"0 0 24 24\"\n",
              "     width=\"24px\">\n",
              "    <g>\n",
              "        <path d=\"M19 3H5c-1.1 0-2 .9-2 2v14c0 1.1.9 2 2 2h14c1.1 0 2-.9 2-2V5c0-1.1-.9-2-2-2zM9 17H7v-7h2v7zm4 0h-2V7h2v10zm4 0h-2v-4h2v4z\"/>\n",
              "    </g>\n",
              "</svg>\n",
              "  </button>\n",
              "\n",
              "<style>\n",
              "  .colab-df-quickchart {\n",
              "      --bg-color: #E8F0FE;\n",
              "      --fill-color: #1967D2;\n",
              "      --hover-bg-color: #E2EBFA;\n",
              "      --hover-fill-color: #174EA6;\n",
              "      --disabled-fill-color: #AAA;\n",
              "      --disabled-bg-color: #DDD;\n",
              "  }\n",
              "\n",
              "  [theme=dark] .colab-df-quickchart {\n",
              "      --bg-color: #3B4455;\n",
              "      --fill-color: #D2E3FC;\n",
              "      --hover-bg-color: #434B5C;\n",
              "      --hover-fill-color: #FFFFFF;\n",
              "      --disabled-bg-color: #3B4455;\n",
              "      --disabled-fill-color: #666;\n",
              "  }\n",
              "\n",
              "  .colab-df-quickchart {\n",
              "    background-color: var(--bg-color);\n",
              "    border: none;\n",
              "    border-radius: 50%;\n",
              "    cursor: pointer;\n",
              "    display: none;\n",
              "    fill: var(--fill-color);\n",
              "    height: 32px;\n",
              "    padding: 0;\n",
              "    width: 32px;\n",
              "  }\n",
              "\n",
              "  .colab-df-quickchart:hover {\n",
              "    background-color: var(--hover-bg-color);\n",
              "    box-shadow: 0 1px 2px rgba(60, 64, 67, 0.3), 0 1px 3px 1px rgba(60, 64, 67, 0.15);\n",
              "    fill: var(--button-hover-fill-color);\n",
              "  }\n",
              "\n",
              "  .colab-df-quickchart-complete:disabled,\n",
              "  .colab-df-quickchart-complete:disabled:hover {\n",
              "    background-color: var(--disabled-bg-color);\n",
              "    fill: var(--disabled-fill-color);\n",
              "    box-shadow: none;\n",
              "  }\n",
              "\n",
              "  .colab-df-spinner {\n",
              "    border: 2px solid var(--fill-color);\n",
              "    border-color: transparent;\n",
              "    border-bottom-color: var(--fill-color);\n",
              "    animation:\n",
              "      spin 1s steps(1) infinite;\n",
              "  }\n",
              "\n",
              "  @keyframes spin {\n",
              "    0% {\n",
              "      border-color: transparent;\n",
              "      border-bottom-color: var(--fill-color);\n",
              "      border-left-color: var(--fill-color);\n",
              "    }\n",
              "    20% {\n",
              "      border-color: transparent;\n",
              "      border-left-color: var(--fill-color);\n",
              "      border-top-color: var(--fill-color);\n",
              "    }\n",
              "    30% {\n",
              "      border-color: transparent;\n",
              "      border-left-color: var(--fill-color);\n",
              "      border-top-color: var(--fill-color);\n",
              "      border-right-color: var(--fill-color);\n",
              "    }\n",
              "    40% {\n",
              "      border-color: transparent;\n",
              "      border-right-color: var(--fill-color);\n",
              "      border-top-color: var(--fill-color);\n",
              "    }\n",
              "    60% {\n",
              "      border-color: transparent;\n",
              "      border-right-color: var(--fill-color);\n",
              "    }\n",
              "    80% {\n",
              "      border-color: transparent;\n",
              "      border-right-color: var(--fill-color);\n",
              "      border-bottom-color: var(--fill-color);\n",
              "    }\n",
              "    90% {\n",
              "      border-color: transparent;\n",
              "      border-bottom-color: var(--fill-color);\n",
              "    }\n",
              "  }\n",
              "</style>\n",
              "\n",
              "  <script>\n",
              "    async function quickchart(key) {\n",
              "      const quickchartButtonEl =\n",
              "        document.querySelector('#' + key + ' button');\n",
              "      quickchartButtonEl.disabled = true;  // To prevent multiple clicks.\n",
              "      quickchartButtonEl.classList.add('colab-df-spinner');\n",
              "      try {\n",
              "        const charts = await google.colab.kernel.invokeFunction(\n",
              "            'suggestCharts', [key], {});\n",
              "      } catch (error) {\n",
              "        console.error('Error during call to suggestCharts:', error);\n",
              "      }\n",
              "      quickchartButtonEl.classList.remove('colab-df-spinner');\n",
              "      quickchartButtonEl.classList.add('colab-df-quickchart-complete');\n",
              "    }\n",
              "    (() => {\n",
              "      let quickchartButtonEl =\n",
              "        document.querySelector('#df-acc01dc4-3cf6-4115-9632-2bcf534365d5 button');\n",
              "      quickchartButtonEl.style.display =\n",
              "        google.colab.kernel.accessAllowed ? 'block' : 'none';\n",
              "    })();\n",
              "  </script>\n",
              "</div>\n",
              "\n",
              "    </div>\n",
              "  </div>\n"
            ],
            "application/vnd.google.colaboratory.intrinsic+json": {
              "type": "dataframe",
              "variable_name": "amzn_full",
              "summary": "{\n  \"name\": \"amzn_full\",\n  \"rows\": 36354,\n  \"fields\": [\n    {\n      \"column\": \"Image_Link\",\n      \"properties\": {\n        \"dtype\": \"category\",\n        \"num_unique_values\": 11012,\n        \"samples\": [\n          \"https://m.media-amazon.com/images/I/31qEUc55DSL._SY445_SX342_.jpg\",\n          \"https://m.media-amazon.com/images/I/11B5sf5CYRL._QL70_ML2_.jpg\",\n          \"https://m.media-amazon.com/images/I/31gpLOC4X5L._SY445_SX342_QL70_ML2_.jpg\"\n        ],\n        \"semantic_type\": \"\",\n        \"description\": \"\"\n      }\n    },\n    {\n      \"column\": \"Image_Size\",\n      \"properties\": {\n        \"dtype\": \"category\",\n        \"num_unique_values\": 1283,\n        \"samples\": [\n          \"max-width:385px;max-height:468px;\",\n          \"max-width:679px;max-height:285px;\",\n          \"max-width:218px;max-height:500px;\"\n        ],\n        \"semantic_type\": \"\",\n        \"description\": \"\"\n      }\n    },\n    {\n      \"column\": \"Product_Name\",\n      \"properties\": {\n        \"dtype\": \"category\",\n        \"num_unique_values\": 10822,\n        \"samples\": [\n          \"Clovia Women's Net Non Padded Bra\",\n          \"Generik Unisex Waist Protector with Waist Trimmer Presents Magnetic Tummy Gym Slim Belt Slimming Support Weight Loss Belt Massager Black Colour\",\n          \"Double Sided Tape for Fashion and Body Tape for Clothes Fashion Dressing Tape/Invisible Double-sided Body Tape, Clothing Bra Strip, Bikini Tape for Women, Body Clothing Stickers-36 Strips\"\n        ],\n        \"semantic_type\": \"\",\n        \"description\": \"\"\n      }\n    },\n    {\n      \"column\": \"Main_Category\",\n      \"properties\": {\n        \"dtype\": \"category\",\n        \"num_unique_values\": 42,\n        \"samples\": [\n          \"Party Sarees-Clothing & Accessories\",\n          \"Chanderi Sarees-Clothing & Accessories\",\n          \"Handbags, Purses & Clutches-Shoes & Handbags\"\n        ],\n        \"semantic_type\": \"\",\n        \"description\": \"\"\n      }\n    },\n    {\n      \"column\": \"Sub_Category_Name\",\n      \"properties\": {\n        \"dtype\": \"category\",\n        \"num_unique_values\": 15,\n        \"samples\": [\n          \"Tops\",\n          \"Blouses\",\n          \"Maternity\"\n        ],\n        \"semantic_type\": \"\",\n        \"description\": \"\"\n      }\n    },\n    {\n      \"column\": \"SubCategory_Product_Name\",\n      \"properties\": {\n        \"dtype\": \"category\",\n        \"num_unique_values\": 152,\n        \"samples\": [\n          \"Active Undershirts\",\n          \"Aviators\",\n          \"Head Scarves\"\n        ],\n        \"semantic_type\": \"\",\n        \"description\": \"\"\n      }\n    },\n    {\n      \"column\": \"Product_Rating\",\n      \"properties\": {\n        \"dtype\": \"category\",\n        \"num_unique_values\": 1,\n        \"samples\": [\n          \"Not Available\"\n        ],\n        \"semantic_type\": \"\",\n        \"description\": \"\"\n      }\n    },\n    {\n      \"column\": \"Product_Num_Reviews\",\n      \"properties\": {\n        \"dtype\": \"category\",\n        \"num_unique_values\": 1,\n        \"samples\": [\n          \"Not Available\"\n        ],\n        \"semantic_type\": \"\",\n        \"description\": \"\"\n      }\n    },\n    {\n      \"column\": \"Product_Link\",\n      \"properties\": {\n        \"dtype\": \"string\",\n        \"num_unique_values\": 36354,\n        \"samples\": [\n          \"https://www.amazon.in/Womens-Printed-Anarkali-Maternity-Feeding/dp/B0C2HDHFTS/ref=sr_1_1181?dib=eyJ2IjoiMSJ9.PkquabsBhx9_CqtXbk1H-LOcb2jELO3M7e3qF5jF_5aFf7hTumLoRVcfMzmzgASfzQXTTmSiY-fC-ocZz3UQsY8LgFDj1iNWVBdSKS8eQSoXA5R29Trh3tnAE5WB155EfBktqVe9R9GGHc1sY3BM4qlxE51utiWAV3Fz8H9bUGSIKQ_OAeazS67AbF2d3ybKYzfB2GJQXxvdfZJ_2Y1x9xJGCJLOl2svW0NRkoZJ-67rBeAWTQa03fIhpe3fmmoKCKuzPPnc3ohb6dJLdw7afaxeAyZ1V4GDRTdNgbnPlIw.JYgoOVy0i2XoY8CzEzIE5aM3N7Z5tnZzPXlrkcugC60&dib_tag=se&qid=1715005940&rnid=1953294031&s=apparel&sr=1-1181\"\n        ],\n        \"semantic_type\": \"\",\n        \"description\": \"\"\n      }\n    }\n  ]\n}"
            }
          },
          "metadata": {},
          "execution_count": 17
        }
      ]
    },
    {
      "cell_type": "markdown",
      "source": [
        "- Checking shape the dataset."
      ],
      "metadata": {
        "id": "nEt74eFaOEYw"
      }
    },
    {
      "cell_type": "code",
      "source": [
        "amzn_full.shape"
      ],
      "metadata": {
        "colab": {
          "base_uri": "https://localhost:8080/"
        },
        "outputId": "7e79673f-8f14-497d-fb31-25f9afbcd1bd",
        "id": "LUNoHDm5OEYx"
      },
      "execution_count": 18,
      "outputs": [
        {
          "output_type": "execute_result",
          "data": {
            "text/plain": [
              "(36354, 9)"
            ]
          },
          "metadata": {},
          "execution_count": 18
        }
      ]
    },
    {
      "cell_type": "markdown",
      "source": [
        "- Checking data type of features."
      ],
      "metadata": {
        "id": "xI88XO4uOEYy"
      }
    },
    {
      "cell_type": "code",
      "source": [
        "amzn_full.info()"
      ],
      "metadata": {
        "colab": {
          "base_uri": "https://localhost:8080/"
        },
        "outputId": "c0515765-91f5-4b37-838c-86617dc70553",
        "id": "vdZp384jOEYy"
      },
      "execution_count": 19,
      "outputs": [
        {
          "output_type": "stream",
          "name": "stdout",
          "text": [
            "<class 'pandas.core.frame.DataFrame'>\n",
            "RangeIndex: 36354 entries, 0 to 36353\n",
            "Data columns (total 9 columns):\n",
            " #   Column                    Non-Null Count  Dtype \n",
            "---  ------                    --------------  ----- \n",
            " 0   Image_Link                32524 non-null  object\n",
            " 1   Image_Size                32524 non-null  object\n",
            " 2   Product_Name              36354 non-null  object\n",
            " 3   Main_Category             36354 non-null  object\n",
            " 4   Sub_Category_Name         36354 non-null  object\n",
            " 5   SubCategory_Product_Name  36354 non-null  object\n",
            " 6   Product_Rating            36354 non-null  object\n",
            " 7   Product_Num_Reviews       36354 non-null  object\n",
            " 8   Product_Link              36354 non-null  object\n",
            "dtypes: object(9)\n",
            "memory usage: 2.5+ MB\n"
          ]
        }
      ]
    },
    {
      "cell_type": "markdown",
      "source": [
        "- Checking for null values."
      ],
      "metadata": {
        "id": "TbWjxrS5OEYz"
      }
    },
    {
      "cell_type": "code",
      "source": [
        "amzn_full.isnull().sum()"
      ],
      "metadata": {
        "colab": {
          "base_uri": "https://localhost:8080/"
        },
        "outputId": "11a6c1a9-8b89-4a70-b170-e20b9dc481e5",
        "id": "NmsjhgJAOEYz"
      },
      "execution_count": 20,
      "outputs": [
        {
          "output_type": "execute_result",
          "data": {
            "text/plain": [
              "Image_Link                  3830\n",
              "Image_Size                  3830\n",
              "Product_Name                   0\n",
              "Main_Category                  0\n",
              "Sub_Category_Name              0\n",
              "SubCategory_Product_Name       0\n",
              "Product_Rating                 0\n",
              "Product_Num_Reviews            0\n",
              "Product_Link                   0\n",
              "dtype: int64"
            ]
          },
          "metadata": {},
          "execution_count": 20
        }
      ]
    },
    {
      "cell_type": "markdown",
      "source": [
        "- Checking for duplicates."
      ],
      "metadata": {
        "id": "CUXk7yd7ObEU"
      }
    },
    {
      "cell_type": "code",
      "source": [
        "amzn_full.duplicated().sum()"
      ],
      "metadata": {
        "colab": {
          "base_uri": "https://localhost:8080/"
        },
        "id": "yT7xa0dRNjkG",
        "outputId": "f8ba0f2f-eb64-4fe5-fdbe-ce778880cfa0"
      },
      "execution_count": 21,
      "outputs": [
        {
          "output_type": "execute_result",
          "data": {
            "text/plain": [
              "0"
            ]
          },
          "metadata": {},
          "execution_count": 21
        }
      ]
    },
    {
      "cell_type": "markdown",
      "source": [
        "- Removing null values."
      ],
      "metadata": {
        "id": "yJoa7AVvOinK"
      }
    },
    {
      "cell_type": "code",
      "source": [
        "amzn_full = amzn_full.dropna().copy()"
      ],
      "metadata": {
        "id": "bACdg48WOXuY"
      },
      "execution_count": 22,
      "outputs": []
    },
    {
      "cell_type": "markdown",
      "source": [
        "- Checking for null values after removing them."
      ],
      "metadata": {
        "id": "7x_EWZTyPMOu"
      }
    },
    {
      "cell_type": "code",
      "source": [
        "amzn_full.isnull().sum()"
      ],
      "metadata": {
        "colab": {
          "base_uri": "https://localhost:8080/"
        },
        "id": "7a1Nd-BPPHEZ",
        "outputId": "8cd3a933-1b7f-40d5-e531-8a733300d8c2"
      },
      "execution_count": 23,
      "outputs": [
        {
          "output_type": "execute_result",
          "data": {
            "text/plain": [
              "Image_Link                  0\n",
              "Image_Size                  0\n",
              "Product_Name                0\n",
              "Main_Category               0\n",
              "Sub_Category_Name           0\n",
              "SubCategory_Product_Name    0\n",
              "Product_Rating              0\n",
              "Product_Num_Reviews         0\n",
              "Product_Link                0\n",
              "dtype: int64"
            ]
          },
          "metadata": {},
          "execution_count": 23
        }
      ]
    },
    {
      "cell_type": "markdown",
      "source": [
        "- Checking shape of the dataframe after removing the null values."
      ],
      "metadata": {
        "id": "l6FxHbTpPSS9"
      }
    },
    {
      "cell_type": "code",
      "source": [
        "amzn_full.shape"
      ],
      "metadata": {
        "colab": {
          "base_uri": "https://localhost:8080/"
        },
        "id": "x_0qa5pEPJ6D",
        "outputId": "00ff4fba-d3bd-4ee8-fabc-b3da3b4e6163"
      },
      "execution_count": 24,
      "outputs": [
        {
          "output_type": "execute_result",
          "data": {
            "text/plain": [
              "(32524, 9)"
            ]
          },
          "metadata": {},
          "execution_count": 24
        }
      ]
    },
    {
      "cell_type": "code",
      "source": [
        "amzn_full[\"Sub_Category_Name\"].value_counts()"
      ],
      "metadata": {
        "colab": {
          "base_uri": "https://localhost:8080/"
        },
        "id": "uJfx64mBZWz3",
        "outputId": "27d44fe9-a9b7-46d6-86ce-df6497ef32ce"
      },
      "execution_count": 25,
      "outputs": [
        {
          "output_type": "execute_result",
          "data": {
            "text/plain": [
              "Sub_Category_Name\n",
              "Western Wear                     19373\n",
              "Not available                     5305\n",
              "Maternity                         3088\n",
              "Lingerie                          1910\n",
              "Accessories                        972\n",
              "Sportswear                         702\n",
              "Sleep & Lounge Wear                315\n",
              "Swim & Beachwear                   249\n",
              "Ethnic Wear                        159\n",
              "Sunglasses & Spectacle Frames      158\n",
              "Blouses                            113\n",
              "Tops                                99\n",
              "Lips                                46\n",
              "Topwear-Pack of 3                   21\n",
              "Potlis & Wristlets                  14\n",
              "Name: count, dtype: int64"
            ]
          },
          "metadata": {},
          "execution_count": 25
        }
      ]
    },
    {
      "cell_type": "markdown",
      "source": [
        "***Observations:***<br>\n",
        "**NOTE: Dataset is highly imbalanced.**\n",
        "- We can see that some categories have very less number of datapoints, so we can combine them with other relevant categories.\n",
        "- We can combine \"Topwear-Pack of 3\" and \"Tops\" with \"Western Wear\", as they are included in western wear category.\n",
        "- We can combine \"Blouses\" with \"Ethnic Wear\", as they are included in ethnic wear category.\n",
        "- We can combine \"Lips\" and \"Potlis & Wristlets\" into \"Accessories\" category.\n",
        "- Also, we can remove Sub_Category_Name == \"Not available\", as it will not help us."
      ],
      "metadata": {
        "id": "RBPTKq8uaA2r"
      }
    },
    {
      "cell_type": "markdown",
      "source": [
        "- Combine \"Topwear-Pack of 3\" and \"Tops\" into one \"Western Wear\" category."
      ],
      "metadata": {
        "id": "QbPTxK2Qa1p_"
      }
    },
    {
      "cell_type": "code",
      "source": [
        "amzn_full.loc[amzn_full[\"Sub_Category_Name\"] == \"Topwear-Pack of 3\", \"Sub_Category_Name\"] = \"Western Wear\"\n",
        "amzn_full.loc[amzn_full[\"Sub_Category_Name\"] == \"Tops\", \"Sub_Category_Name\"] = \"Western Wear\""
      ],
      "metadata": {
        "id": "Tq9QvsJ7VSd7"
      },
      "execution_count": 26,
      "outputs": []
    },
    {
      "cell_type": "markdown",
      "source": [
        "- Combine \"Blouses\" with \"Ethnic Wear\" category."
      ],
      "metadata": {
        "id": "ZVXXwn836A-L"
      }
    },
    {
      "cell_type": "code",
      "source": [
        "amzn_full.loc[amzn_full[\"Sub_Category_Name\"] == \"Blouses\", \"Sub_Category_Name\"] = \"Ethnic Wear\""
      ],
      "metadata": {
        "id": "i1hQikEW6Frc"
      },
      "execution_count": 27,
      "outputs": []
    },
    {
      "cell_type": "markdown",
      "source": [
        "- Combine \"Lips\" and \"Potlis & Wristlets\" into \"Accessories\" category."
      ],
      "metadata": {
        "id": "rkqo5eVTcFAv"
      }
    },
    {
      "cell_type": "code",
      "source": [
        "amzn_full.loc[amzn_full[\"Sub_Category_Name\"] == \"Lips\", \"Sub_Category_Name\"] = \"Accessories\"\n",
        "amzn_full.loc[amzn_full[\"Sub_Category_Name\"] == \"Potlis & Wristlets\", \"Sub_Category_Name\"] = \"Accessories\""
      ],
      "metadata": {
        "id": "O8I0Pc5icKFx"
      },
      "execution_count": 28,
      "outputs": []
    },
    {
      "cell_type": "markdown",
      "source": [
        "- Remove \"Not available\"."
      ],
      "metadata": {
        "id": "MMqPYFK4Mna4"
      }
    },
    {
      "cell_type": "code",
      "source": [
        "amzn_new = amzn_full.loc[~(amzn_full[\"Sub_Category_Name\"] == \"Not available\"), :]"
      ],
      "metadata": {
        "id": "S_bAEkHmOE1w"
      },
      "execution_count": 29,
      "outputs": []
    },
    {
      "cell_type": "code",
      "source": [
        "amzn_new.shape"
      ],
      "metadata": {
        "colab": {
          "base_uri": "https://localhost:8080/"
        },
        "id": "3mGq048qaOcA",
        "outputId": "d94fa14f-622f-4247-c126-6b29ef18a5e0"
      },
      "execution_count": 30,
      "outputs": [
        {
          "output_type": "execute_result",
          "data": {
            "text/plain": [
              "(27219, 9)"
            ]
          },
          "metadata": {},
          "execution_count": 30
        }
      ]
    },
    {
      "cell_type": "code",
      "source": [
        "amzn_new.info()"
      ],
      "metadata": {
        "colab": {
          "base_uri": "https://localhost:8080/"
        },
        "id": "JaTuWJ4zaQI5",
        "outputId": "27386b8f-8ac5-4b69-9dbf-5a2bd3784273"
      },
      "execution_count": 31,
      "outputs": [
        {
          "output_type": "stream",
          "name": "stdout",
          "text": [
            "<class 'pandas.core.frame.DataFrame'>\n",
            "Index: 27219 entries, 0 to 36309\n",
            "Data columns (total 9 columns):\n",
            " #   Column                    Non-Null Count  Dtype \n",
            "---  ------                    --------------  ----- \n",
            " 0   Image_Link                27219 non-null  object\n",
            " 1   Image_Size                27219 non-null  object\n",
            " 2   Product_Name              27219 non-null  object\n",
            " 3   Main_Category             27219 non-null  object\n",
            " 4   Sub_Category_Name         27219 non-null  object\n",
            " 5   SubCategory_Product_Name  27219 non-null  object\n",
            " 6   Product_Rating            27219 non-null  object\n",
            " 7   Product_Num_Reviews       27219 non-null  object\n",
            " 8   Product_Link              27219 non-null  object\n",
            "dtypes: object(9)\n",
            "memory usage: 2.1+ MB\n"
          ]
        }
      ]
    },
    {
      "cell_type": "code",
      "source": [
        "amzn_new.isnull().sum()"
      ],
      "metadata": {
        "colab": {
          "base_uri": "https://localhost:8080/"
        },
        "id": "hIDJvaPUaTJ3",
        "outputId": "ebfccc9e-f901-4327-8cba-7194171dcee8"
      },
      "execution_count": 32,
      "outputs": [
        {
          "output_type": "execute_result",
          "data": {
            "text/plain": [
              "Image_Link                  0\n",
              "Image_Size                  0\n",
              "Product_Name                0\n",
              "Main_Category               0\n",
              "Sub_Category_Name           0\n",
              "SubCategory_Product_Name    0\n",
              "Product_Rating              0\n",
              "Product_Num_Reviews         0\n",
              "Product_Link                0\n",
              "dtype: int64"
            ]
          },
          "metadata": {},
          "execution_count": 32
        }
      ]
    },
    {
      "cell_type": "code",
      "source": [
        "amzn_new[\"Sub_Category_Name\"].value_counts()"
      ],
      "metadata": {
        "colab": {
          "base_uri": "https://localhost:8080/"
        },
        "id": "3sftsVu4SI3I",
        "outputId": "39374b0f-2a18-4fd7-ed7d-3a5d05914956"
      },
      "execution_count": 33,
      "outputs": [
        {
          "output_type": "execute_result",
          "data": {
            "text/plain": [
              "Sub_Category_Name\n",
              "Western Wear                     19493\n",
              "Maternity                         3088\n",
              "Lingerie                          1910\n",
              "Accessories                       1032\n",
              "Sportswear                         702\n",
              "Sleep & Lounge Wear                315\n",
              "Ethnic Wear                        272\n",
              "Swim & Beachwear                   249\n",
              "Sunglasses & Spectacle Frames      158\n",
              "Name: count, dtype: int64"
            ]
          },
          "metadata": {},
          "execution_count": 33
        }
      ]
    },
    {
      "cell_type": "code",
      "source": [
        "amzn_new[\"Sub_Category_Name\"].value_counts().plot(kind=\"bar\")"
      ],
      "metadata": {
        "colab": {
          "base_uri": "https://localhost:8080/",
          "height": 672
        },
        "id": "yeMvZiEDPaTw",
        "outputId": "d5225377-0a0c-42b0-acc9-a2df69d48d7b"
      },
      "execution_count": 34,
      "outputs": [
        {
          "output_type": "execute_result",
          "data": {
            "text/plain": [
              "<Axes: xlabel='Sub_Category_Name'>"
            ]
          },
          "metadata": {},
          "execution_count": 34
        },
        {
          "output_type": "display_data",
          "data": {
            "text/plain": [
              "<Figure size 640x480 with 1 Axes>"
            ],
            "image/png": "[encoded data removed]"
          },
          "metadata": {}
        }
      ]
    },
    {
      "cell_type": "markdown",
      "source": [
        "***Observations:***<br>\n",
        "**NOTE: Dataset is highly imbalanced.**"
      ],
      "metadata": {
        "id": "cDUdckghGGpz"
      }
    },
    {
      "cell_type": "markdown",
      "source": [
        "## 3. Train, Test split\n",
        "**NOTE:**\n",
        "- We did not drop \"Sub_Category_Name\" column while creating \"X\" variable as we need it when saving images to folder."
      ],
      "metadata": {
        "id": "Knp9bpB2IpxQ"
      }
    },
    {
      "cell_type": "code",
      "source": [
        "X = amzn_new[[\"Sub_Category_Name\", \"Image_Link\"]]"
      ],
      "metadata": {
        "id": "0W5fBp0oIyQV"
      },
      "execution_count": 35,
      "outputs": []
    },
    {
      "cell_type": "code",
      "source": [
        "X.head()"
      ],
      "metadata": {
        "colab": {
          "base_uri": "https://localhost:8080/",
          "height": 206
        },
        "id": "dbz4VDSrIyMQ",
        "outputId": "1e84ff6a-637a-4130-df3e-445412ae3404"
      },
      "execution_count": 36,
      "outputs": [
        {
          "output_type": "execute_result",
          "data": {
            "text/plain": [
              "  Sub_Category_Name                                         Image_Link\n",
              "0         Maternity  https://m.media-amazon.com/images/I/31J1BW062i...\n",
              "1         Maternity  https://m.media-amazon.com/images/I/41N6PXp68r...\n",
              "2      Western Wear  https://m.media-amazon.com/images/I/31sbJEN0qh...\n",
              "3         Maternity  https://m.media-amazon.com/images/I/41jUvC6qBt...\n",
              "4         Maternity  https://m.media-amazon.com/images/I/31R30Fl8kz..."
            ],
            "text/html": [
              "\n",
              "  <div id=\"df-93e46187-8655-4c4d-bc58-6ded37f6ca29\" class=\"colab-df-container\">\n",
              "    <div>\n",
              "<style scoped>\n",
              "    .dataframe tbody tr th:only-of-type {\n",
              "        vertical-align: middle;\n",
              "    }\n",
              "\n",
              "    .dataframe tbody tr th {\n",
              "        vertical-align: top;\n",
              "    }\n",
              "\n",
              "    .dataframe thead th {\n",
              "        text-align: right;\n",
              "    }\n",
              "</style>\n",
              "<table border=\"1\" class=\"dataframe\">\n",
              "  <thead>\n",
              "    <tr style=\"text-align: right;\">\n",
              "      <th></th>\n",
              "      <th>Sub_Category_Name</th>\n",
              "      <th>Image_Link</th>\n",
              "    </tr>\n",
              "  </thead>\n",
              "  <tbody>\n",
              "    <tr>\n",
              "      <th>0</th>\n",
              "      <td>Maternity</td>\n",
              "      <td>https://m.media-amazon.com/images/I/31J1BW062i...</td>\n",
              "    </tr>\n",
              "    <tr>\n",
              "      <th>1</th>\n",
              "      <td>Maternity</td>\n",
              "      <td>https://m.media-amazon.com/images/I/41N6PXp68r...</td>\n",
              "    </tr>\n",
              "    <tr>\n",
              "      <th>2</th>\n",
              "      <td>Western Wear</td>\n",
              "      <td>https://m.media-amazon.com/images/I/31sbJEN0qh...</td>\n",
              "    </tr>\n",
              "    <tr>\n",
              "      <th>3</th>\n",
              "      <td>Maternity</td>\n",
              "      <td>https://m.media-amazon.com/images/I/41jUvC6qBt...</td>\n",
              "    </tr>\n",
              "    <tr>\n",
              "      <th>4</th>\n",
              "      <td>Maternity</td>\n",
              "      <td>https://m.media-amazon.com/images/I/31R30Fl8kz...</td>\n",
              "    </tr>\n",
              "  </tbody>\n",
              "</table>\n",
              "</div>\n",
              "    <div class=\"colab-df-buttons\">\n",
              "\n",
              "  <div class=\"colab-df-container\">\n",
              "    <button class=\"colab-df-convert\" onclick=\"convertToInteractive('df-93e46187-8655-4c4d-bc58-6ded37f6ca29')\"\n",
              "            title=\"Convert this dataframe to an interactive table.\"\n",
              "            style=\"display:none;\">\n",
              "\n",
              "  <svg xmlns=\"http://www.w3.org/2000/svg\" height=\"24px\" viewBox=\"0 -960 960 960\">\n",
              "    <path d=\"M120-120v-720h720v720H120Zm60-500h600v-160H180v160Zm220 220h160v-160H400v160Zm0 220h160v-160H400v160ZM180-400h160v-160H180v160Zm440 0h160v-160H620v160ZM180-180h160v-160H180v160Zm440 0h160v-160H620v160Z\"/>\n",
              "  </svg>\n",
              "    </button>\n",
              "\n",
              "  <style>\n",
              "    .colab-df-container {\n",
              "      display:flex;\n",
              "      gap: 12px;\n",
              "    }\n",
              "\n",
              "    .colab-df-convert {\n",
              "      background-color: #E8F0FE;\n",
              "      border: none;\n",
              "      border-radius: 50%;\n",
              "      cursor: pointer;\n",
              "      display: none;\n",
              "      fill: #1967D2;\n",
              "      height: 32px;\n",
              "      padding: 0 0 0 0;\n",
              "      width: 32px;\n",
              "    }\n",
              "\n",
              "    .colab-df-convert:hover {\n",
              "      background-color: #E2EBFA;\n",
              "      box-shadow: 0px 1px 2px rgba(60, 64, 67, 0.3), 0px 1px 3px 1px rgba(60, 64, 67, 0.15);\n",
              "      fill: #174EA6;\n",
              "    }\n",
              "\n",
              "    .colab-df-buttons div {\n",
              "      margin-bottom: 4px;\n",
              "    }\n",
              "\n",
              "    [theme=dark] .colab-df-convert {\n",
              "      background-color: #3B4455;\n",
              "      fill: #D2E3FC;\n",
              "    }\n",
              "\n",
              "    [theme=dark] .colab-df-convert:hover {\n",
              "      background-color: #434B5C;\n",
              "      box-shadow: 0px 1px 3px 1px rgba(0, 0, 0, 0.15);\n",
              "      filter: drop-shadow(0px 1px 2px rgba(0, 0, 0, 0.3));\n",
              "      fill: #FFFFFF;\n",
              "    }\n",
              "  </style>\n",
              "\n",
              "    <script>\n",
              "      const buttonEl =\n",
              "        document.querySelector('#df-93e46187-8655-4c4d-bc58-6ded37f6ca29 button.colab-df-convert');\n",
              "      buttonEl.style.display =\n",
              "        google.colab.kernel.accessAllowed ? 'block' : 'none';\n",
              "\n",
              "      async function convertToInteractive(key) {\n",
              "        const element = document.querySelector('#df-93e46187-8655-4c4d-bc58-6ded37f6ca29');\n",
              "        const dataTable =\n",
              "          await google.colab.kernel.invokeFunction('convertToInteractive',\n",
              "                                                    [key], {});\n",
              "        if (!dataTable) return;\n",
              "\n",
              "        const docLinkHtml = 'Like what you see? Visit the ' +\n",
              "          '<a target=\"_blank\" href=https://colab.research.google.com/notebooks/data_table.ipynb>data table notebook</a>'\n",
              "          + ' to learn more about interactive tables.';\n",
              "        element.innerHTML = '';\n",
              "        dataTable['output_type'] = 'display_data';\n",
              "        await google.colab.output.renderOutput(dataTable, element);\n",
              "        const docLink = document.createElement('div');\n",
              "        docLink.innerHTML = docLinkHtml;\n",
              "        element.appendChild(docLink);\n",
              "      }\n",
              "    </script>\n",
              "  </div>\n",
              "\n",
              "\n",
              "<div id=\"df-181ea8bf-078b-4e5d-92e3-72cbf0fc68b2\">\n",
              "  <button class=\"colab-df-quickchart\" onclick=\"quickchart('df-181ea8bf-078b-4e5d-92e3-72cbf0fc68b2')\"\n",
              "            title=\"Suggest charts\"\n",
              "            style=\"display:none;\">\n",
              "\n",
              "<svg xmlns=\"http://www.w3.org/2000/svg\" height=\"24px\"viewBox=\"0 0 24 24\"\n",
              "     width=\"24px\">\n",
              "    <g>\n",
              "        <path d=\"M19 3H5c-1.1 0-2 .9-2 2v14c0 1.1.9 2 2 2h14c1.1 0 2-.9 2-2V5c0-1.1-.9-2-2-2zM9 17H7v-7h2v7zm4 0h-2V7h2v10zm4 0h-2v-4h2v4z\"/>\n",
              "    </g>\n",
              "</svg>\n",
              "  </button>\n",
              "\n",
              "<style>\n",
              "  .colab-df-quickchart {\n",
              "      --bg-color: #E8F0FE;\n",
              "      --fill-color: #1967D2;\n",
              "      --hover-bg-color: #E2EBFA;\n",
              "      --hover-fill-color: #174EA6;\n",
              "      --disabled-fill-color: #AAA;\n",
              "      --disabled-bg-color: #DDD;\n",
              "  }\n",
              "\n",
              "  [theme=dark] .colab-df-quickchart {\n",
              "      --bg-color: #3B4455;\n",
              "      --fill-color: #D2E3FC;\n",
              "      --hover-bg-color: #434B5C;\n",
              "      --hover-fill-color: #FFFFFF;\n",
              "      --disabled-bg-color: #3B4455;\n",
              "      --disabled-fill-color: #666;\n",
              "  }\n",
              "\n",
              "  .colab-df-quickchart {\n",
              "    background-color: var(--bg-color);\n",
              "    border: none;\n",
              "    border-radius: 50%;\n",
              "    cursor: pointer;\n",
              "    display: none;\n",
              "    fill: var(--fill-color);\n",
              "    height: 32px;\n",
              "    padding: 0;\n",
              "    width: 32px;\n",
              "  }\n",
              "\n",
              "  .colab-df-quickchart:hover {\n",
              "    background-color: var(--hover-bg-color);\n",
              "    box-shadow: 0 1px 2px rgba(60, 64, 67, 0.3), 0 1px 3px 1px rgba(60, 64, 67, 0.15);\n",
              "    fill: var(--button-hover-fill-color);\n",
              "  }\n",
              "\n",
              "  .colab-df-quickchart-complete:disabled,\n",
              "  .colab-df-quickchart-complete:disabled:hover {\n",
              "    background-color: var(--disabled-bg-color);\n",
              "    fill: var(--disabled-fill-color);\n",
              "    box-shadow: none;\n",
              "  }\n",
              "\n",
              "  .colab-df-spinner {\n",
              "    border: 2px solid var(--fill-color);\n",
              "    border-color: transparent;\n",
              "    border-bottom-color: var(--fill-color);\n",
              "    animation:\n",
              "      spin 1s steps(1) infinite;\n",
              "  }\n",
              "\n",
              "  @keyframes spin {\n",
              "    0% {\n",
              "      border-color: transparent;\n",
              "      border-bottom-color: var(--fill-color);\n",
              "      border-left-color: var(--fill-color);\n",
              "    }\n",
              "    20% {\n",
              "      border-color: transparent;\n",
              "      border-left-color: var(--fill-color);\n",
              "      border-top-color: var(--fill-color);\n",
              "    }\n",
              "    30% {\n",
              "      border-color: transparent;\n",
              "      border-left-color: var(--fill-color);\n",
              "      border-top-color: var(--fill-color);\n",
              "      border-right-color: var(--fill-color);\n",
              "    }\n",
              "    40% {\n",
              "      border-color: transparent;\n",
              "      border-right-color: var(--fill-color);\n",
              "      border-top-color: var(--fill-color);\n",
              "    }\n",
              "    60% {\n",
              "      border-color: transparent;\n",
              "      border-right-color: var(--fill-color);\n",
              "    }\n",
              "    80% {\n",
              "      border-color: transparent;\n",
              "      border-right-color: var(--fill-color);\n",
              "      border-bottom-color: var(--fill-color);\n",
              "    }\n",
              "    90% {\n",
              "      border-color: transparent;\n",
              "      border-bottom-color: var(--fill-color);\n",
              "    }\n",
              "  }\n",
              "</style>\n",
              "\n",
              "  <script>\n",
              "    async function quickchart(key) {\n",
              "      const quickchartButtonEl =\n",
              "        document.querySelector('#' + key + ' button');\n",
              "      quickchartButtonEl.disabled = true;  // To prevent multiple clicks.\n",
              "      quickchartButtonEl.classList.add('colab-df-spinner');\n",
              "      try {\n",
              "        const charts = await google.colab.kernel.invokeFunction(\n",
              "            'suggestCharts', [key], {});\n",
              "      } catch (error) {\n",
              "        console.error('Error during call to suggestCharts:', error);\n",
              "      }\n",
              "      quickchartButtonEl.classList.remove('colab-df-spinner');\n",
              "      quickchartButtonEl.classList.add('colab-df-quickchart-complete');\n",
              "    }\n",
              "    (() => {\n",
              "      let quickchartButtonEl =\n",
              "        document.querySelector('#df-181ea8bf-078b-4e5d-92e3-72cbf0fc68b2 button');\n",
              "      quickchartButtonEl.style.display =\n",
              "        google.colab.kernel.accessAllowed ? 'block' : 'none';\n",
              "    })();\n",
              "  </script>\n",
              "</div>\n",
              "\n",
              "    </div>\n",
              "  </div>\n"
            ],
            "application/vnd.google.colaboratory.intrinsic+json": {
              "type": "dataframe",
              "variable_name": "X",
              "summary": "{\n  \"name\": \"X\",\n  \"rows\": 27219,\n  \"fields\": [\n    {\n      \"column\": \"Sub_Category_Name\",\n      \"properties\": {\n        \"dtype\": \"category\",\n        \"num_unique_values\": 9,\n        \"samples\": [\n          \"Accessories\",\n          \"Western Wear\",\n          \"Sportswear\"\n        ],\n        \"semantic_type\": \"\",\n        \"description\": \"\"\n      }\n    },\n    {\n      \"column\": \"Image_Link\",\n      \"properties\": {\n        \"dtype\": \"category\",\n        \"num_unique_values\": 6674,\n        \"samples\": [\n          \"https://m.media-amazon.com/images/I/41HjOrhPq3L._SY445_SX342_.jpg\",\n          \"https://m.media-amazon.com/images/I/41lqI24UKlL._SX342_SY445_.jpg\",\n          \"https://m.media-amazon.com/images/I/41VJdSsN2vL._SY445_SX342_.jpg\"\n        ],\n        \"semantic_type\": \"\",\n        \"description\": \"\"\n      }\n    }\n  ]\n}"
            }
          },
          "metadata": {},
          "execution_count": 36
        }
      ]
    },
    {
      "cell_type": "code",
      "source": [
        "y = amzn_new[\"Sub_Category_Name\"]"
      ],
      "metadata": {
        "id": "qbDPaqcWIyKR"
      },
      "execution_count": 37,
      "outputs": []
    },
    {
      "cell_type": "code",
      "source": [
        "y[:5]"
      ],
      "metadata": {
        "colab": {
          "base_uri": "https://localhost:8080/"
        },
        "id": "m1l3cJMnJevD",
        "outputId": "43b1774b-cb9a-44cc-f0ea-9b9c73eb572e"
      },
      "execution_count": 38,
      "outputs": [
        {
          "output_type": "execute_result",
          "data": {
            "text/plain": [
              "0       Maternity\n",
              "1       Maternity\n",
              "2    Western Wear\n",
              "3       Maternity\n",
              "4       Maternity\n",
              "Name: Sub_Category_Name, dtype: object"
            ]
          },
          "metadata": {},
          "execution_count": 38
        }
      ]
    },
    {
      "cell_type": "markdown",
      "source": [
        "- Import relevant libraries."
      ],
      "metadata": {
        "id": "Q7nvGIxPJp8-"
      }
    },
    {
      "cell_type": "code",
      "source": [
        "from sklearn.model_selection import train_test_split"
      ],
      "metadata": {
        "id": "2a6E_guuJkhM"
      },
      "execution_count": 39,
      "outputs": []
    },
    {
      "cell_type": "markdown",
      "source": [
        "- Train and Test split."
      ],
      "metadata": {
        "id": "xW2nKW0cJw1W"
      }
    },
    {
      "cell_type": "code",
      "source": [
        "X_train, X_test, y_train, y_test = train_test_split(X, y, test_size=0.2, random_state=6, stratify=y)"
      ],
      "metadata": {
        "id": "VJhFiXSjJv1S"
      },
      "execution_count": 40,
      "outputs": []
    },
    {
      "cell_type": "code",
      "source": [
        "X_train.shape, X_test.shape, y_train.shape, y_test.shape"
      ],
      "metadata": {
        "colab": {
          "base_uri": "https://localhost:8080/"
        },
        "id": "1beZxqNMKxSL",
        "outputId": "d2287286-0cbe-4670-8060-b2f5e058f261"
      },
      "execution_count": 41,
      "outputs": [
        {
          "output_type": "execute_result",
          "data": {
            "text/plain": [
              "((21775, 2), (5444, 2), (21775,), (5444,))"
            ]
          },
          "metadata": {},
          "execution_count": 41
        }
      ]
    },
    {
      "cell_type": "markdown",
      "source": [
        "## 4. Converting Image links to images\n",
        "### Extracting image from the image link.\n",
        "- Converting Image links to images and saving them to folders.\n",
        "  - We will extract image from the links.\n",
        "  - We will convert each image into a numpy array.\n",
        "  - We will save each image in their respective folder.\n",
        "\n"
      ],
      "metadata": {
        "id": "GmrwQSvqGZXW"
      }
    },
    {
      "cell_type": "code",
      "source": [],
      "metadata": {
        "id": "_P7xnJFVLDaQ"
      },
      "execution_count": 34,
      "outputs": []
    }
  ]
}